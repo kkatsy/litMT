{
 "cells": [
  {
   "cell_type": "code",
   "execution_count": 28,
   "metadata": {},
   "outputs": [],
   "source": [
    "import os\n",
    "os.environ[\"CUDA_VISIBLE_DEVICES\"] = \"0,1\""
   ]
  },
  {
   "cell_type": "code",
   "execution_count": 29,
   "metadata": {},
   "outputs": [
    {
     "name": "stdout",
     "output_type": "stream",
     "text": [
      "cuda\n"
     ]
    }
   ],
   "source": [
    "import torch\n",
    "\n",
    "if torch.cuda.is_available():\n",
    "  dev = \"cuda\"\n",
    "else:\n",
    "  dev = \"cpu\"\n",
    "device = torch.device(dev)\n",
    "\n",
    "print(device)"
   ]
  },
  {
   "cell_type": "code",
   "execution_count": 30,
   "metadata": {},
   "outputs": [
    {
     "data": {
      "text/plain": [
       "True"
      ]
     },
     "execution_count": 30,
     "metadata": {},
     "output_type": "execute_result"
    }
   ],
   "source": [
    "torch.cuda.is_available()"
   ]
  },
  {
   "cell_type": "code",
   "execution_count": 31,
   "metadata": {},
   "outputs": [
    {
     "name": "stdout",
     "output_type": "stream",
     "text": [
      "2.1.2\n"
     ]
    }
   ],
   "source": [
    "print(torch.__version__)"
   ]
  },
  {
   "cell_type": "code",
   "execution_count": 32,
   "metadata": {},
   "outputs": [],
   "source": [
    "import pickle\n",
    "\n",
    "with open('aligned_paragraph_dataset.pickle', 'rb') as fp:\n",
    "  aligned_paragraph_dataset = pickle.load(fp)\n",
    "\n",
    "with open('source_paragraph_dataset.pickle', 'rb') as fp:\n",
    "  source_paragraph_dataset = pickle.load(fp)"
   ]
  },
  {
   "cell_type": "code",
   "execution_count": 33,
   "metadata": {},
   "outputs": [
    {
     "name": "stderr",
     "output_type": "stream",
     "text": [
      "[nltk_data] Downloading package punkt to /home/kkatsy/nltk_data...\n",
      "[nltk_data]   Package punkt is already up-to-date!\n"
     ]
    },
    {
     "data": {
      "text/plain": [
       "True"
      ]
     },
     "execution_count": 33,
     "metadata": {},
     "output_type": "execute_result"
    }
   ],
   "source": [
    "import nltk\n",
    "nltk.download('punkt')"
   ]
  },
  {
   "cell_type": "code",
   "execution_count": 34,
   "metadata": {},
   "outputs": [],
   "source": [
    "min_paragraph_len = 40\n",
    "max_paragraph_len = int(512)"
   ]
  },
  {
   "cell_type": "code",
   "execution_count": 35,
   "metadata": {},
   "outputs": [],
   "source": [
    "# create dict: translator to books\n",
    "# NotesFromUnderground - Katz, PV, Garnett\n",
    "# PoorFolk - McDuff, Hogarth, Garnett\n",
    "\n",
    "# format: label->translator, x->source+translation\n",
    "# dict: key-> translator, value: list of {source:s, translation:t, index:i}\n",
    "translator_to_pars = {}\n",
    "translator_to_pars_holdout = {}\n",
    "\n",
    "# Holdout\n",
    "# NotesFromUnderground - Katz, PV, Garnett\n",
    "# PoorFolk - McDuff, Hogarth, Garnett\n",
    "holdout_books = ['PoorFolk', 'NotesFromUnderground']\n",
    "\n",
    "translator_to_pars = {}\n",
    "translator_to_pars_holdout = {}\n",
    "\n",
    "# for each book in train:\n",
    "for book in sorted(list(aligned_paragraph_dataset.keys())):\n",
    "    # get par list of aligned sentences, best k alignments\n",
    "    book_par_list = [list(aligned_paragraph_dataset[book][p].values()) for p in range(len(aligned_paragraph_dataset[book]))]\n",
    "\n",
    "    for i in range(len(book_par_list)):\n",
    "        par_trans_dict = aligned_paragraph_dataset[book][i]\n",
    "        par_source = source_paragraph_dataset[book][i]\n",
    "\n",
    "        par_set = list(par_trans_dict.values())\n",
    "\n",
    "        max_par_len = len(max(par_set, key = len))\n",
    "        min_par_len = len(min(par_set, key = len))\n",
    "\n",
    "        if (min_par_len >= min_paragraph_len) and (max_par_len) <= max_paragraph_len and not all(x==par_set[0] for x in par_set):\n",
    "\n",
    "            for translator, t in par_trans_dict.items():\n",
    "                datum_dict = {'source':par_source, 'translation': t, 'idx': i, 'book': book}\n",
    "\n",
    "                if translator not in translator_to_pars.keys():\n",
    "                    translator_to_pars[translator] = []\n",
    "                    translator_to_pars_holdout[translator] = []\n",
    "                    \n",
    "                if book in holdout_books:\n",
    "                    translator_to_pars_holdout[translator].append(datum_dict)\n",
    "                else:\n",
    "                    translator_to_pars[translator].append(datum_dict)"
   ]
  },
  {
   "cell_type": "code",
   "execution_count": 36,
   "metadata": {},
   "outputs": [
    {
     "data": {
      "text/plain": [
       "[{'source': 'Все счастливые семьи похожи друг на друга, каждая несчастливая семья несчастлива по-своему.',\n",
       "  'translation': 'All happy families are alike; each unhappy family is unhappy in its own way.',\n",
       "  'idx': 3,\n",
       "  'book': 'AnnaKarenina'},\n",
       " {'source': '«Да, да, как это было? – думал он, вспоминая сон. – Да, как это было? Да! Алабин давал обед в Дармштадте; нет, не в Дармштадте, а что-то американское. Да, но там Дармштадт был в Америке. Да, Алабин давал обед на стеклянных столах, да, – и столы пели: Il mio tesoro и не Il mio tesoro,[32] а что-то лучше, и какие-то маленькие графинчики, и они же женщины», – вспоминал он.',\n",
       "  'translation': '\"Yes, yes, how did it go?\\' he thought, recalling his dream. \\'How did it go? Yes! Alabin was giving a dinner in Darmstadt-no, not in Darmstadt but something American. Yes, but this Darmstadt was in America. Yes, Alabin was giving a dinner on glass tables, yes - and the tables were singing II mio tesoro,1 only it wasn\\'t II mio tesoro but something better, and there were some little carafes, which were also women,\\' he recalled.',\n",
       "  'idx': 6,\n",
       "  'book': 'AnnaKarenina'},\n",
       " {'source': '«Ах, ах, ах! Ааа!..» – замычал он, вспоминая все, что было. И его воображению представились опять все подробности ссоры с женою, вся безвыходность его положения и мучительнее всего собственная вина его.',\n",
       "  'translation': '\\'Oh, oh, oh! Ohh!..\" he moaned, remembering all that had taken place. And in his imagination he again pictured all the details of his quarrel with his wife, all the hopelessness of his position and, most painful of all, his own guilt.',\n",
       "  'idx': 8,\n",
       "  'book': 'AnnaKarenina'},\n",
       " {'source': '«Да! она не простит и не может простить. И всего ужаснее то, что виной всему я, виной я, а не виноват. В этом-то вся драма, – думал он. – Ах, ах, ах!» – приговаривал он с отчаянием, вспоминая самые тяжелые для себя впечатления из этой ссоры.',\n",
       "  'translation': \"'No, she won't forgive me and can't forgive me! And the most terrible thing is that I'm the guilty one in it all - guilty, and yet not guilty. That's the whole drama, he thought. ' Oh, oh, oh!' he murmured with despair, recalling what were for him the most painful impressions of this quarrel.\",\n",
       "  'idx': 9,\n",
       "  'book': 'AnnaKarenina'},\n",
       " {'source': 'Неприятнее всего была та первая минута, когда он, вернувшись из театра, веселым и довольным, с огромною грушей для жены в руке, не нашел жены в гостиной; к удивлению, не нашел ее и в кабинете и, наконец, увидал ее в спальне с несчастною, открывшею все, запиской в руке.',\n",
       "  'translation': 'Worst of all had been that first moment when, coming back from the theatre, cheerful and content, holding a huge pear for his wife, he had not found her in the drawing room; to his surprise, he had not found her in the study either, and had finally seen her in the bedroom with the unfortunate, all-revealing note in her hand.',\n",
       "  'idx': 10,\n",
       "  'book': 'AnnaKarenina'}]"
      ]
     },
     "execution_count": 36,
     "metadata": {},
     "output_type": "execute_result"
    }
   ],
   "source": [
    "translator_to_pars['PV'][:5]"
   ]
  },
  {
   "cell_type": "code",
   "execution_count": 37,
   "metadata": {},
   "outputs": [
    {
     "name": "stdout",
     "output_type": "stream",
     "text": [
      "Train\n",
      "PV 19086\n",
      "Garnett 19086\n",
      "Katz 5380\n",
      "McDuff 8386\n",
      "Hogarth 2752\n",
      "Total 54690\n",
      "\n",
      "Holdout\n",
      "PV 310\n",
      "Garnett 362\n",
      "Katz 310\n",
      "McDuff 52\n",
      "Hogarth 52\n",
      "Total 1086\n"
     ]
    }
   ],
   "source": [
    "total = 0\n",
    "print('Train')\n",
    "for k in translator_to_pars.keys():\n",
    "    print(k, len(translator_to_pars[k]))\n",
    "    total += len(translator_to_pars[k])\n",
    "print('Total', total)\n",
    "\n",
    "total = 0\n",
    "print('\\nHoldout')\n",
    "for k in translator_to_pars_holdout.keys():\n",
    "    print(k, len(translator_to_pars_holdout[k]))\n",
    "    total += len(translator_to_pars_holdout[k])\n",
    "print('Total', total)"
   ]
  },
  {
   "cell_type": "code",
   "execution_count": 38,
   "metadata": {},
   "outputs": [
    {
     "name": "stdout",
     "output_type": "stream",
     "text": [
      "[0 3 4 2 1]\n"
     ]
    }
   ],
   "source": [
    "from sklearn.preprocessing import LabelEncoder\n",
    "\n",
    "le = LabelEncoder()\n",
    "le.fit(list(translator_to_pars.keys()))\n",
    "print(le.transform([\"Garnett\", \"McDuff\", \"PV\", \"Katz\", \"Hogarth\"]))"
   ]
  },
  {
   "cell_type": "code",
   "execution_count": 39,
   "metadata": {},
   "outputs": [
    {
     "name": "stdout",
     "output_type": "stream",
     "text": [
      "[{'idx': 3, 'book': 'AnnaKarenina', 'labels': 4, 'sentence': 'All happy families are alike; each unhappy family is unhappy in its own way.'}, {'idx': 6, 'book': 'AnnaKarenina', 'labels': 4, 'sentence': '\"Yes, yes, how did it go?\\' he thought, recalling his dream. \\'How did it go? Yes! Alabin was giving a dinner in Darmstadt-no, not in Darmstadt but something American. Yes, but this Darmstadt was in America. Yes, Alabin was giving a dinner on glass tables, yes - and the tables were singing II mio tesoro,1 only it wasn\\'t II mio tesoro but something better, and there were some little carafes, which were also women,\\' he recalled.'}, {'idx': 8, 'book': 'AnnaKarenina', 'labels': 4, 'sentence': '\\'Oh, oh, oh! Ohh!..\" he moaned, remembering all that had taken place. And in his imagination he again pictured all the details of his quarrel with his wife, all the hopelessness of his position and, most painful of all, his own guilt.'}, {'idx': 9, 'book': 'AnnaKarenina', 'labels': 4, 'sentence': \"'No, she won't forgive me and can't forgive me! And the most terrible thing is that I'm the guilty one in it all - guilty, and yet not guilty. That's the whole drama, he thought. ' Oh, oh, oh!' he murmured with despair, recalling what were for him the most painful impressions of this quarrel.\"}, {'idx': 10, 'book': 'AnnaKarenina', 'labels': 4, 'sentence': 'Worst of all had been that first moment when, coming back from the theatre, cheerful and content, holding a huge pear for his wife, he had not found her in the drawing room; to his surprise, he had not found her in the study either, and had finally seen her in the bedroom with the unfortunate, all-revealing note in her hand.'}, {'idx': 11, 'book': 'AnnaKarenina', 'labels': 4, 'sentence': 'She - this eternally preoccupied and bustling and, as he thought, none-too-bright Dolly - was sitting motionless, the note in her hand, looking at him with an expression of horror, despair and wrath.'}, {'idx': 12, 'book': 'AnnaKarenina', 'labels': 4, 'sentence': \"'What is this? this?' she asked, pointing to the note.\"}, {'idx': 13, 'book': 'AnnaKarenina', 'labels': 4, 'sentence': 'And, in recalling it, as often happens, Stepan Arkadyich was tormented not so much by the event itself as by the way he had responded to these words from his  wife.'}, {'idx': 15, 'book': 'AnnaKarenina', 'labels': 4, 'sentence': 'That stupid smile he could not forgive himself. Seeing that smile, Dolly had winced as if from physical pain, burst with her typical vehemence into a torrent of cruel words, and rushed from the room. Since then she had refused to see her husband.'}, {'idx': 16, 'book': 'AnnaKarenina', 'labels': 4, 'sentence': \"'That stupid smile is to blame for it all) thought Stepan Arkadyich.\"}]\n"
     ]
    }
   ],
   "source": [
    "data_list = []\n",
    "i = 0\n",
    "for tr in translator_to_pars.keys():\n",
    "    label = le.transform([tr])[0]\n",
    "    for d in translator_to_pars[tr]:\n",
    "        src, trn = d['source'], d['translation']\n",
    "        s = trn\n",
    "        sent_dict = {'idx': d['idx'], 'book':d['book'], 'labels': label, 'sentence': s}\n",
    "        data_list.append(sent_dict)\n",
    "        i += 1\n",
    "\n",
    "\n",
    "data_list_holdout = []\n",
    "i = 0\n",
    "for tr in translator_to_pars_holdout.keys():\n",
    "    label = le.transform([tr])[0]\n",
    "    for d in translator_to_pars_holdout[tr]:\n",
    "        src, trn = d['source'], d['translation']\n",
    "        s = trn\n",
    "        sent_dict = {'idx': d['idx'], 'book':d['book'], 'labels': label, 'sentence': s}\n",
    "        data_list_holdout.append(sent_dict)\n",
    "        i += 1\n",
    "        \n",
    "print(data_list[:10])"
   ]
  },
  {
   "cell_type": "code",
   "execution_count": 40,
   "metadata": {},
   "outputs": [
    {
     "data": {
      "text/html": [
       "<div>\n",
       "<style scoped>\n",
       "    .dataframe tbody tr th:only-of-type {\n",
       "        vertical-align: middle;\n",
       "    }\n",
       "\n",
       "    .dataframe tbody tr th {\n",
       "        vertical-align: top;\n",
       "    }\n",
       "\n",
       "    .dataframe thead th {\n",
       "        text-align: right;\n",
       "    }\n",
       "</style>\n",
       "<table border=\"1\" class=\"dataframe\">\n",
       "  <thead>\n",
       "    <tr style=\"text-align: right;\">\n",
       "      <th></th>\n",
       "      <th>idx</th>\n",
       "      <th>book</th>\n",
       "      <th>labels</th>\n",
       "      <th>sentence</th>\n",
       "    </tr>\n",
       "  </thead>\n",
       "  <tbody>\n",
       "    <tr>\n",
       "      <th>0</th>\n",
       "      <td>3</td>\n",
       "      <td>AnnaKarenina</td>\n",
       "      <td>4</td>\n",
       "      <td>All happy families are alike; each unhappy fam...</td>\n",
       "    </tr>\n",
       "    <tr>\n",
       "      <th>1</th>\n",
       "      <td>6</td>\n",
       "      <td>AnnaKarenina</td>\n",
       "      <td>4</td>\n",
       "      <td>\"Yes, yes, how did it go?' he thought, recalli...</td>\n",
       "    </tr>\n",
       "    <tr>\n",
       "      <th>2</th>\n",
       "      <td>8</td>\n",
       "      <td>AnnaKarenina</td>\n",
       "      <td>4</td>\n",
       "      <td>'Oh, oh, oh! Ohh!..\" he moaned, remembering al...</td>\n",
       "    </tr>\n",
       "    <tr>\n",
       "      <th>3</th>\n",
       "      <td>9</td>\n",
       "      <td>AnnaKarenina</td>\n",
       "      <td>4</td>\n",
       "      <td>'No, she won't forgive me and can't forgive me...</td>\n",
       "    </tr>\n",
       "    <tr>\n",
       "      <th>4</th>\n",
       "      <td>10</td>\n",
       "      <td>AnnaKarenina</td>\n",
       "      <td>4</td>\n",
       "      <td>Worst of all had been that first moment when, ...</td>\n",
       "    </tr>\n",
       "  </tbody>\n",
       "</table>\n",
       "</div>"
      ],
      "text/plain": [
       "   idx          book  labels  \\\n",
       "0    3  AnnaKarenina       4   \n",
       "1    6  AnnaKarenina       4   \n",
       "2    8  AnnaKarenina       4   \n",
       "3    9  AnnaKarenina       4   \n",
       "4   10  AnnaKarenina       4   \n",
       "\n",
       "                                            sentence  \n",
       "0  All happy families are alike; each unhappy fam...  \n",
       "1  \"Yes, yes, how did it go?' he thought, recalli...  \n",
       "2  'Oh, oh, oh! Ohh!..\" he moaned, remembering al...  \n",
       "3  'No, she won't forgive me and can't forgive me...  \n",
       "4  Worst of all had been that first moment when, ...  "
      ]
     },
     "execution_count": 40,
     "metadata": {},
     "output_type": "execute_result"
    }
   ],
   "source": [
    "import pandas as pd\n",
    "\n",
    "df = pd.DataFrame(data_list)\n",
    "df_holdout = pd.DataFrame(data_list_holdout)\n",
    "df.head()"
   ]
  },
  {
   "cell_type": "code",
   "execution_count": 41,
   "metadata": {},
   "outputs": [
    {
     "data": {
      "text/plain": [
       "(1086, 4)"
      ]
     },
     "execution_count": 41,
     "metadata": {},
     "output_type": "execute_result"
    }
   ],
   "source": [
    "# from sklearn.utils import shuffle\n",
    "# df = shuffle(df)\n",
    "# df = df.head(100000)\n",
    "df.shape\n",
    "df_holdout.shape"
   ]
  },
  {
   "cell_type": "code",
   "execution_count": 42,
   "metadata": {},
   "outputs": [
    {
     "name": "stdout",
     "output_type": "stream",
     "text": [
      "train size:  30079\n",
      "test size:  1086\n",
      "{'label': 2, 'text': '\"In blessing, you have blessed yourself; sit beside me. Where be you from?\"'}\n"
     ]
    }
   ],
   "source": [
    "from sklearn.model_selection import train_test_split\n",
    "\n",
    "# train_texts = df['sentence'].values.tolist()\n",
    "# train_labels = df['labels'].values.tolist()\n",
    "test_texts = df_holdout['sentence'].values.tolist()\n",
    "test_labels = df_holdout['labels'].values.tolist()\n",
    "\n",
    "train_texts, _, train_labels, _ = train_test_split(\n",
    "    df['sentence'].values.tolist(), df['labels'].values.tolist(),\n",
    "    stratify = df['labels'], train_size=0.55, shuffle=True\n",
    ")\n",
    "\n",
    "print('train size: ', len(list(train_labels)))\n",
    "print('test size: ', len(list(test_labels)))\n",
    "\n",
    "sentences = {}\n",
    "sentences['train'] = []\n",
    "sentences['test'] = []\n",
    "for t, l in zip(train_texts, train_labels):\n",
    "    datum = {'label': l, 'text': t}\n",
    "    sentences['train'].append(datum)\n",
    "for t, l in zip(test_texts, test_labels):\n",
    "    datum = {'label': l, 'text': t}\n",
    "    sentences['test'].append(datum)\n",
    "\n",
    "print(sentences['train'][4])"
   ]
  },
  {
   "cell_type": "code",
   "execution_count": 43,
   "metadata": {},
   "outputs": [],
   "source": [
    "BERT_MODEL = \"bert-base-multilingual-cased\"\n",
    "\n",
    "from transformers import AutoTokenizer\n",
    "\n",
    "tokenizer = AutoTokenizer.from_pretrained('bert-base-multilingual-cased')"
   ]
  },
  {
   "cell_type": "code",
   "execution_count": 44,
   "metadata": {},
   "outputs": [],
   "source": [
    "import datasets\n",
    "\n",
    "train_dataset = datasets.Dataset.from_pandas(pd.DataFrame(data=sentences['train']))\n",
    "test_dataset = datasets.Dataset.from_pandas(pd.DataFrame(data=sentences['test']))"
   ]
  },
  {
   "cell_type": "code",
   "execution_count": 45,
   "metadata": {},
   "outputs": [
    {
     "data": {
      "application/vnd.jupyter.widget-view+json": {
       "model_id": "9f91bd600a7d47f48fba2ddf05b760dc",
       "version_major": 2,
       "version_minor": 0
      },
      "text/plain": [
       "Map:   0%|          | 0/30079 [00:00<?, ? examples/s]"
      ]
     },
     "metadata": {},
     "output_type": "display_data"
    },
    {
     "data": {
      "application/vnd.jupyter.widget-view+json": {
       "model_id": "d76f22d3da054be287ca3bbca9f9b5ec",
       "version_major": 2,
       "version_minor": 0
      },
      "text/plain": [
       "Map:   0%|          | 0/1086 [00:00<?, ? examples/s]"
      ]
     },
     "metadata": {},
     "output_type": "display_data"
    }
   ],
   "source": [
    "def preprocess_function(examples):\n",
    "    return tokenizer(examples[\"text\"], truncation=True)\n",
    "\n",
    "tokenized_train = train_dataset.map(preprocess_function, batched=True)\n",
    "tokenized_test = test_dataset.map(preprocess_function, batched=True)"
   ]
  },
  {
   "cell_type": "code",
   "execution_count": 46,
   "metadata": {},
   "outputs": [],
   "source": [
    "from transformers import DataCollatorWithPadding\n",
    "\n",
    "data_collator = DataCollatorWithPadding(tokenizer=tokenizer)"
   ]
  },
  {
   "cell_type": "code",
   "execution_count": 47,
   "metadata": {},
   "outputs": [],
   "source": [
    "import evaluate\n",
    "import numpy as np\n",
    "\n",
    "accuracy = evaluate.load(\"accuracy\")\n",
    "\n",
    "\n",
    "def compute_metrics(eval_pred):\n",
    "    predictions, labels = eval_pred\n",
    "    predictions = np.argmax(predictions, axis=1)\n",
    "    return accuracy.compute(predictions=predictions, references=labels)"
   ]
  },
  {
   "cell_type": "code",
   "execution_count": 48,
   "metadata": {},
   "outputs": [
    {
     "name": "stdout",
     "output_type": "stream",
     "text": [
      "{4: 'PV', 0: 'Garnett', 2: 'Katz', 3: 'McDuff', 1: 'Hogarth'}\n",
      "{'PV': 4, 'Garnett': 0, 'Katz': 2, 'McDuff': 3, 'Hogarth': 1}\n"
     ]
    }
   ],
   "source": [
    "label_list = translator_to_pars.keys()\n",
    "id_list = le.transform(list(label_list))\n",
    "\n",
    "id2label = {}\n",
    "label2id = {}\n",
    "for l, i in zip(label_list, id_list):\n",
    "    id2label[i] = l\n",
    "    label2id[l] = i\n",
    "\n",
    "print(id2label)\n",
    "print(label2id)"
   ]
  },
  {
   "cell_type": "code",
   "execution_count": 49,
   "metadata": {},
   "outputs": [],
   "source": [
    "fine_tune = True"
   ]
  },
  {
   "cell_type": "code",
   "execution_count": 50,
   "metadata": {},
   "outputs": [
    {
     "name": "stderr",
     "output_type": "stream",
     "text": [
      "Some weights of BertForSequenceClassification were not initialized from the model checkpoint at bert-base-multilingual-cased and are newly initialized: ['classifier.bias', 'classifier.weight']\n",
      "You should probably TRAIN this model on a down-stream task to be able to use it for predictions and inference.\n"
     ]
    }
   ],
   "source": [
    "from numpy import mean\n",
    "from torch import nn\n",
    "from torch.utils.data import DataLoader\n",
    "from transformers import AutoModelForSequenceClassification, Trainer, TrainingArguments\n",
    "\n",
    "# device (turn on GPU acceleration for faster execution)\n",
    "# device = torch.device('cuda') if torch.cuda.is_available() else torch.device('cpu')\n",
    "\n",
    "if fine_tune:\n",
    "    # model\n",
    "    model = AutoModelForSequenceClassification.from_pretrained(\"bert-base-multilingual-cased\", num_labels = len(translator_to_pars.keys()))\n",
    "    model.to(device)"
   ]
  },
  {
   "cell_type": "code",
   "execution_count": 51,
   "metadata": {},
   "outputs": [
    {
     "data": {
      "text/plain": [
       "device(type='cuda')"
      ]
     },
     "execution_count": 51,
     "metadata": {},
     "output_type": "execute_result"
    }
   ],
   "source": [
    "device"
   ]
  },
  {
   "cell_type": "code",
   "execution_count": 52,
   "metadata": {},
   "outputs": [],
   "source": [
    "lr = 2e-5\n",
    "epochs = 10\n",
    "batch_size = 16"
   ]
  },
  {
   "cell_type": "code",
   "execution_count": 53,
   "metadata": {},
   "outputs": [
    {
     "data": {
      "text/html": [
       "Changes to your `wandb` environment variables will be ignored because your `wandb` session has already started. For more information on how to modify your settings with `wandb.init()` arguments, please refer to <a href='https://wandb.me/wandb-init' target=\"_blank\">the W&B docs</a>."
      ],
      "text/plain": [
       "<IPython.core.display.HTML object>"
      ]
     },
     "metadata": {},
     "output_type": "display_data"
    },
    {
     "data": {
      "text/html": [
       "Finishing last run (ID:6zeplet4) before initializing another..."
      ],
      "text/plain": [
       "<IPython.core.display.HTML object>"
      ]
     },
     "metadata": {},
     "output_type": "display_data"
    },
    {
     "name": "stderr",
     "output_type": "stream",
     "text": [
      "wandb: WARNING Source type is set to 'repo' but some required information is missing from the environment. A job will not be created from this run. See https://docs.wandb.ai/guides/launch/create-job\n"
     ]
    },
    {
     "data": {
      "application/vnd.jupyter.widget-view+json": {
       "model_id": "e251ea8489c4465d89a81c360ec4cfa4",
       "version_major": 2,
       "version_minor": 0
      },
      "text/plain": [
       "VBox(children=(Label(value='0.003 MB of 0.003 MB uploaded\\r'), FloatProgress(value=1.0, max=1.0)))"
      ]
     },
     "metadata": {},
     "output_type": "display_data"
    },
    {
     "data": {
      "text/html": [
       " View run <strong style=\"color:#cdcd00\">virtuous-firecracker-12</strong> at: <a href='https://wandb.ai/kkatsy/translator-classification/runs/6zeplet4' target=\"_blank\">https://wandb.ai/kkatsy/translator-classification/runs/6zeplet4</a><br/>Synced 6 W&B file(s), 0 media file(s), 0 artifact file(s) and 0 other file(s)"
      ],
      "text/plain": [
       "<IPython.core.display.HTML object>"
      ]
     },
     "metadata": {},
     "output_type": "display_data"
    },
    {
     "data": {
      "text/html": [
       "Find logs at: <code>./wandb/run-20240216_155713-6zeplet4/logs</code>"
      ],
      "text/plain": [
       "<IPython.core.display.HTML object>"
      ]
     },
     "metadata": {},
     "output_type": "display_data"
    },
    {
     "data": {
      "text/html": [
       "Successfully finished last run (ID:6zeplet4). Initializing new run:<br/>"
      ],
      "text/plain": [
       "<IPython.core.display.HTML object>"
      ]
     },
     "metadata": {},
     "output_type": "display_data"
    },
    {
     "data": {
      "application/vnd.jupyter.widget-view+json": {
       "model_id": "7079693964ac45d5afb51a11a05afa00",
       "version_major": 2,
       "version_minor": 0
      },
      "text/plain": [
       "VBox(children=(Label(value='Waiting for wandb.init()...\\r'), FloatProgress(value=0.011113062199890717, max=1.0…"
      ]
     },
     "metadata": {},
     "output_type": "display_data"
    },
    {
     "data": {
      "text/html": [
       "Tracking run with wandb version 0.16.3"
      ],
      "text/plain": [
       "<IPython.core.display.HTML object>"
      ]
     },
     "metadata": {},
     "output_type": "display_data"
    },
    {
     "data": {
      "text/html": [
       "Run data is saved locally in <code>/home/kkatsy/litMT/wandb/run-20240216_160018-cv7h565e</code>"
      ],
      "text/plain": [
       "<IPython.core.display.HTML object>"
      ]
     },
     "metadata": {},
     "output_type": "display_data"
    },
    {
     "data": {
      "text/html": [
       "Syncing run <strong><a href='https://wandb.ai/kkatsy/translator-classification/runs/cv7h565e' target=\"_blank\">red-wish-13</a></strong> to <a href='https://wandb.ai/kkatsy/translator-classification' target=\"_blank\">Weights & Biases</a> (<a href='https://wandb.me/run' target=\"_blank\">docs</a>)<br/>"
      ],
      "text/plain": [
       "<IPython.core.display.HTML object>"
      ]
     },
     "metadata": {},
     "output_type": "display_data"
    },
    {
     "data": {
      "text/html": [
       " View project at <a href='https://wandb.ai/kkatsy/translator-classification' target=\"_blank\">https://wandb.ai/kkatsy/translator-classification</a>"
      ],
      "text/plain": [
       "<IPython.core.display.HTML object>"
      ]
     },
     "metadata": {},
     "output_type": "display_data"
    },
    {
     "data": {
      "text/html": [
       " View run at <a href='https://wandb.ai/kkatsy/translator-classification/runs/cv7h565e' target=\"_blank\">https://wandb.ai/kkatsy/translator-classification/runs/cv7h565e</a>"
      ],
      "text/plain": [
       "<IPython.core.display.HTML object>"
      ]
     },
     "metadata": {},
     "output_type": "display_data"
    }
   ],
   "source": [
    "import wandb\n",
    "\n",
    "run = wandb.init(\n",
    "        # Set the project where this run will be logged\n",
    "        project=\"translator-classification\",\n",
    "        # Track hyperparameters and run metadata\n",
    "        config={\n",
    "            \"learning_rate\": lr,\n",
    "            \"epochs\": epochs,\n",
    "        },\n",
    "    )\n",
    "\n",
    "os.environ[\"WANDB_PROJECT\"]=\"translator-classification\"\n",
    "os.environ[\"WANDB_NOTEBOOK_NAME\"]=\"translator_classification\"\n"
   ]
  },
  {
   "cell_type": "code",
   "execution_count": 54,
   "metadata": {},
   "outputs": [
    {
     "name": "stderr",
     "output_type": "stream",
     "text": [
      "Detected kernel version 5.4.0, which is below the recommended minimum of 5.5.0; this can cause the process to hang. It is recommended to upgrade the kernel to the minimum version or higher.\n"
     ]
    }
   ],
   "source": [
    "if fine_tune:\n",
    "    training_args = TrainingArguments(\n",
    "        output_dir=\"/trunk/kkatsy/baseline_10epochs_holdout_512tok\",\n",
    "        learning_rate=lr,\n",
    "        per_device_train_batch_size=batch_size,\n",
    "        per_device_eval_batch_size=batch_size,\n",
    "        num_train_epochs=epochs,\n",
    "        weight_decay=0.01,\n",
    "        evaluation_strategy=\"epoch\",\n",
    "        save_strategy=\"epoch\",\n",
    "        load_best_model_at_end=True,\n",
    "        push_to_hub=False,\n",
    "        report_to=\"wandb\"\n",
    "    )\n",
    "\n",
    "    trainer = Trainer(\n",
    "        model=model,\n",
    "        args=training_args,\n",
    "        train_dataset=tokenized_train,\n",
    "        eval_dataset=tokenized_test,\n",
    "        tokenizer=tokenizer,\n",
    "        data_collator=data_collator,\n",
    "        compute_metrics=compute_metrics\n",
    "    )"
   ]
  },
  {
   "cell_type": "code",
   "execution_count": 55,
   "metadata": {},
   "outputs": [
    {
     "name": "stderr",
     "output_type": "stream",
     "text": [
      "/home/kkatsy/anaconda3/lib/python3.11/site-packages/torch/nn/parallel/_functions.py:68: UserWarning: Was asked to gather along dimension 0, but all input tensors were scalars; will instead unsqueeze and return a vector.\n",
      "  warnings.warn('Was asked to gather along dimension 0, but all '\n"
     ]
    },
    {
     "data": {
      "text/html": [
       "\n",
       "    <div>\n",
       "      \n",
       "      <progress value='9400' max='9400' style='width:300px; height:20px; vertical-align: middle;'></progress>\n",
       "      [9400/9400 1:00:05, Epoch 10/10]\n",
       "    </div>\n",
       "    <table border=\"1\" class=\"dataframe\">\n",
       "  <thead>\n",
       " <tr style=\"text-align: left;\">\n",
       "      <th>Epoch</th>\n",
       "      <th>Training Loss</th>\n",
       "      <th>Validation Loss</th>\n",
       "      <th>Accuracy</th>\n",
       "    </tr>\n",
       "  </thead>\n",
       "  <tbody>\n",
       "    <tr>\n",
       "      <td>1</td>\n",
       "      <td>0.960300</td>\n",
       "      <td>1.256667</td>\n",
       "      <td>0.511971</td>\n",
       "    </tr>\n",
       "    <tr>\n",
       "      <td>2</td>\n",
       "      <td>0.561200</td>\n",
       "      <td>1.235808</td>\n",
       "      <td>0.549724</td>\n",
       "    </tr>\n",
       "    <tr>\n",
       "      <td>3</td>\n",
       "      <td>0.407900</td>\n",
       "      <td>1.333000</td>\n",
       "      <td>0.558932</td>\n",
       "    </tr>\n",
       "    <tr>\n",
       "      <td>4</td>\n",
       "      <td>0.298300</td>\n",
       "      <td>1.277812</td>\n",
       "      <td>0.593923</td>\n",
       "    </tr>\n",
       "    <tr>\n",
       "      <td>5</td>\n",
       "      <td>0.220700</td>\n",
       "      <td>1.566017</td>\n",
       "      <td>0.591160</td>\n",
       "    </tr>\n",
       "    <tr>\n",
       "      <td>6</td>\n",
       "      <td>0.164300</td>\n",
       "      <td>1.693921</td>\n",
       "      <td>0.582873</td>\n",
       "    </tr>\n",
       "    <tr>\n",
       "      <td>7</td>\n",
       "      <td>0.123400</td>\n",
       "      <td>1.977303</td>\n",
       "      <td>0.583794</td>\n",
       "    </tr>\n",
       "    <tr>\n",
       "      <td>8</td>\n",
       "      <td>0.095800</td>\n",
       "      <td>2.292737</td>\n",
       "      <td>0.596685</td>\n",
       "    </tr>\n",
       "    <tr>\n",
       "      <td>9</td>\n",
       "      <td>0.068000</td>\n",
       "      <td>2.489751</td>\n",
       "      <td>0.601289</td>\n",
       "    </tr>\n",
       "    <tr>\n",
       "      <td>10</td>\n",
       "      <td>0.049800</td>\n",
       "      <td>2.661488</td>\n",
       "      <td>0.597606</td>\n",
       "    </tr>\n",
       "  </tbody>\n",
       "</table><p>"
      ],
      "text/plain": [
       "<IPython.core.display.HTML object>"
      ]
     },
     "metadata": {},
     "output_type": "display_data"
    },
    {
     "name": "stderr",
     "output_type": "stream",
     "text": [
      "/home/kkatsy/anaconda3/lib/python3.11/site-packages/torch/nn/parallel/_functions.py:68: UserWarning: Was asked to gather along dimension 0, but all input tensors were scalars; will instead unsqueeze and return a vector.\n",
      "  warnings.warn('Was asked to gather along dimension 0, but all '\n",
      "/home/kkatsy/anaconda3/lib/python3.11/site-packages/torch/nn/parallel/_functions.py:68: UserWarning: Was asked to gather along dimension 0, but all input tensors were scalars; will instead unsqueeze and return a vector.\n",
      "  warnings.warn('Was asked to gather along dimension 0, but all '\n",
      "/home/kkatsy/anaconda3/lib/python3.11/site-packages/torch/nn/parallel/_functions.py:68: UserWarning: Was asked to gather along dimension 0, but all input tensors were scalars; will instead unsqueeze and return a vector.\n",
      "  warnings.warn('Was asked to gather along dimension 0, but all '\n",
      "/home/kkatsy/anaconda3/lib/python3.11/site-packages/torch/nn/parallel/_functions.py:68: UserWarning: Was asked to gather along dimension 0, but all input tensors were scalars; will instead unsqueeze and return a vector.\n",
      "  warnings.warn('Was asked to gather along dimension 0, but all '\n",
      "/home/kkatsy/anaconda3/lib/python3.11/site-packages/torch/nn/parallel/_functions.py:68: UserWarning: Was asked to gather along dimension 0, but all input tensors were scalars; will instead unsqueeze and return a vector.\n",
      "  warnings.warn('Was asked to gather along dimension 0, but all '\n",
      "/home/kkatsy/anaconda3/lib/python3.11/site-packages/torch/nn/parallel/_functions.py:68: UserWarning: Was asked to gather along dimension 0, but all input tensors were scalars; will instead unsqueeze and return a vector.\n",
      "  warnings.warn('Was asked to gather along dimension 0, but all '\n",
      "/home/kkatsy/anaconda3/lib/python3.11/site-packages/torch/nn/parallel/_functions.py:68: UserWarning: Was asked to gather along dimension 0, but all input tensors were scalars; will instead unsqueeze and return a vector.\n",
      "  warnings.warn('Was asked to gather along dimension 0, but all '\n",
      "/home/kkatsy/anaconda3/lib/python3.11/site-packages/torch/nn/parallel/_functions.py:68: UserWarning: Was asked to gather along dimension 0, but all input tensors were scalars; will instead unsqueeze and return a vector.\n",
      "  warnings.warn('Was asked to gather along dimension 0, but all '\n",
      "/home/kkatsy/anaconda3/lib/python3.11/site-packages/torch/nn/parallel/_functions.py:68: UserWarning: Was asked to gather along dimension 0, but all input tensors were scalars; will instead unsqueeze and return a vector.\n",
      "  warnings.warn('Was asked to gather along dimension 0, but all '\n"
     ]
    }
   ],
   "source": [
    "if fine_tune:\n",
    "    trainer.train()"
   ]
  },
  {
   "cell_type": "code",
   "execution_count": 56,
   "metadata": {},
   "outputs": [
    {
     "name": "stderr",
     "output_type": "stream",
     "text": [
      "/home/kkatsy/anaconda3/lib/python3.11/site-packages/torch/nn/parallel/_functions.py:68: UserWarning: Was asked to gather along dimension 0, but all input tensors were scalars; will instead unsqueeze and return a vector.\n",
      "  warnings.warn('Was asked to gather along dimension 0, but all '\n"
     ]
    },
    {
     "data": {
      "text/html": [
       "\n",
       "    <div>\n",
       "      \n",
       "      <progress value='34' max='34' style='width:300px; height:20px; vertical-align: middle;'></progress>\n",
       "      [34/34 00:05]\n",
       "    </div>\n",
       "    "
      ],
      "text/plain": [
       "<IPython.core.display.HTML object>"
      ]
     },
     "metadata": {},
     "output_type": "display_data"
    },
    {
     "name": "stderr",
     "output_type": "stream",
     "text": [
      "wandb: WARNING Source type is set to 'repo' but some required information is missing from the environment. A job will not be created from this run. See https://docs.wandb.ai/guides/launch/create-job\n"
     ]
    },
    {
     "data": {
      "application/vnd.jupyter.widget-view+json": {
       "model_id": "21ff91f441044790a66bb81510e7e8e3",
       "version_major": 2,
       "version_minor": 0
      },
      "text/plain": [
       "VBox(children=(Label(value='0.003 MB of 0.016 MB uploaded\\r'), FloatProgress(value=0.18498800678640379, max=1.…"
      ]
     },
     "metadata": {},
     "output_type": "display_data"
    },
    {
     "data": {
      "text/html": [
       "<style>\n",
       "    table.wandb td:nth-child(1) { padding: 0 10px; text-align: left ; width: auto;} td:nth-child(2) {text-align: left ; width: 100%}\n",
       "    .wandb-row { display: flex; flex-direction: row; flex-wrap: wrap; justify-content: flex-start; width: 100% }\n",
       "    .wandb-col { display: flex; flex-direction: column; flex-basis: 100%; flex: 1; padding: 10px; }\n",
       "    </style>\n",
       "<div class=\"wandb-row\"><div class=\"wandb-col\"><h3>Run history:</h3><br/><table class=\"wandb\"><tr><td>eval/accuracy</td><td>▁▄▅▇▇▇▇███▄</td></tr><tr><td>eval/loss</td><td>▁▁▁▁▃▃▅▆▇█▁</td></tr><tr><td>eval/runtime</td><td>▁▂▁▃▆▂█▄▂▁▃</td></tr><tr><td>eval/samples_per_second</td><td>█▇█▆▃▇▁▅▇█▆</td></tr><tr><td>eval/steps_per_second</td><td>█▇█▆▃▇▁▅▇█▆</td></tr><tr><td>train/epoch</td><td>▁▁▁▂▂▂▃▃▃▃▄▄▄▄▅▅▅▅▆▆▆▇▇▇▇▇████</td></tr><tr><td>train/global_step</td><td>▁▁▁▂▂▂▃▃▃▃▄▄▄▄▅▅▅▅▆▆▆▇▇▇▇▇████</td></tr><tr><td>train/learning_rate</td><td>██▇▇▆▆▆▅▅▄▄▃▃▃▂▂▁▁</td></tr><tr><td>train/loss</td><td>█▆▅▄▄▃▃▃▂▂▂▂▂▁▁▁▁▁</td></tr><tr><td>train/total_flos</td><td>▁</td></tr><tr><td>train/train_loss</td><td>▁</td></tr><tr><td>train/train_runtime</td><td>▁</td></tr><tr><td>train/train_samples_per_second</td><td>▁</td></tr><tr><td>train/train_steps_per_second</td><td>▁</td></tr></table><br/></div><div class=\"wandb-col\"><h3>Run summary:</h3><br/><table class=\"wandb\"><tr><td>eval/accuracy</td><td>0.54972</td></tr><tr><td>eval/loss</td><td>1.23581</td></tr><tr><td>eval/runtime</td><td>5.2834</td></tr><tr><td>eval/samples_per_second</td><td>205.551</td></tr><tr><td>eval/steps_per_second</td><td>6.435</td></tr><tr><td>train/epoch</td><td>10.0</td></tr><tr><td>train/global_step</td><td>9400</td></tr><tr><td>train/learning_rate</td><td>0.0</td></tr><tr><td>train/loss</td><td>0.0498</td></tr><tr><td>train/total_flos</td><td>1.8886546777990976e+16</td></tr><tr><td>train/train_loss</td><td>0.28096</td></tr><tr><td>train/train_runtime</td><td>3606.8804</td></tr><tr><td>train/train_samples_per_second</td><td>83.393</td></tr><tr><td>train/train_steps_per_second</td><td>2.606</td></tr></table><br/></div></div>"
      ],
      "text/plain": [
       "<IPython.core.display.HTML object>"
      ]
     },
     "metadata": {},
     "output_type": "display_data"
    },
    {
     "data": {
      "text/html": [
       " View run <strong style=\"color:#cdcd00\">red-wish-13</strong> at: <a href='https://wandb.ai/kkatsy/translator-classification/runs/cv7h565e' target=\"_blank\">https://wandb.ai/kkatsy/translator-classification/runs/cv7h565e</a><br/>Synced 6 W&B file(s), 0 media file(s), 0 artifact file(s) and 0 other file(s)"
      ],
      "text/plain": [
       "<IPython.core.display.HTML object>"
      ]
     },
     "metadata": {},
     "output_type": "display_data"
    },
    {
     "data": {
      "text/html": [
       "Find logs at: <code>./wandb/run-20240216_160018-cv7h565e/logs</code>"
      ],
      "text/plain": [
       "<IPython.core.display.HTML object>"
      ]
     },
     "metadata": {},
     "output_type": "display_data"
    }
   ],
   "source": [
    "if fine_tune:\n",
    "    trainer.evaluate()\n",
    "    wandb.finish()"
   ]
  },
  {
   "cell_type": "code",
   "execution_count": null,
   "metadata": {},
   "outputs": [],
   "source": [
    "\n"
   ]
  },
  {
   "cell_type": "code",
   "execution_count": 57,
   "metadata": {},
   "outputs": [],
   "source": [
    "# import gc\n",
    "\n",
    "# del model\n",
    "# gc.collect()\n",
    "# torch.cuda.empty_cache()"
   ]
  },
  {
   "cell_type": "code",
   "execution_count": 71,
   "metadata": {},
   "outputs": [],
   "source": [
    "load_tuned = True"
   ]
  },
  {
   "cell_type": "code",
   "execution_count": 72,
   "metadata": {},
   "outputs": [],
   "source": [
    "if load_tuned:\n",
    "    model = AutoModelForSequenceClassification.from_pretrained(\"/trunk/kkatsy/baseline_10epochs_holdout_512tok/checkpoint-8460\")\n",
    "    model.to(device)\n"
   ]
  },
  {
   "cell_type": "code",
   "execution_count": 73,
   "metadata": {},
   "outputs": [
    {
     "name": "stderr",
     "output_type": "stream",
     "text": [
      "Detected kernel version 5.4.0, which is below the recommended minimum of 5.5.0; this can cause the process to hang. It is recommended to upgrade the kernel to the minimum version or higher.\n"
     ]
    }
   ],
   "source": [
    "if load_tuned:\n",
    "    training_args = TrainingArguments(\n",
    "        output_dir=\"/trunk/kkatsy/baseline_10epochs_holdout_250tok/checkpoint-4242\",\n",
    "        learning_rate=lr,\n",
    "        per_device_train_batch_size=batch_size,\n",
    "        per_device_eval_batch_size=batch_size,\n",
    "        num_train_epochs=epochs,\n",
    "        weight_decay=0.01,\n",
    "        evaluation_strategy=\"epoch\",\n",
    "        save_strategy=\"epoch\",\n",
    "        load_best_model_at_end=True,\n",
    "        push_to_hub=False,\n",
    "        report_to=\"wandb\"\n",
    "    )\n",
    "\n",
    "    trainer = Trainer(\n",
    "        model=model,\n",
    "        args=training_args,\n",
    "        train_dataset=tokenized_train,\n",
    "        eval_dataset=tokenized_test,\n",
    "        tokenizer=tokenizer,\n",
    "        data_collator=data_collator,\n",
    "        compute_metrics=compute_metrics\n",
    "    )"
   ]
  },
  {
   "cell_type": "code",
   "execution_count": 74,
   "metadata": {},
   "outputs": [],
   "source": [
    "# if load_tuned:\n",
    "#     trainer.evaluate()"
   ]
  },
  {
   "cell_type": "code",
   "execution_count": null,
   "metadata": {},
   "outputs": [],
   "source": []
  },
  {
   "cell_type": "code",
   "execution_count": 75,
   "metadata": {},
   "outputs": [
    {
     "name": "stderr",
     "output_type": "stream",
     "text": [
      "/home/kkatsy/anaconda3/lib/python3.11/site-packages/torch/nn/parallel/_functions.py:68: UserWarning: Was asked to gather along dimension 0, but all input tensors were scalars; will instead unsqueeze and return a vector.\n",
      "  warnings.warn('Was asked to gather along dimension 0, but all '\n"
     ]
    },
    {
     "data": {
      "text/html": [],
      "text/plain": [
       "<IPython.core.display.HTML object>"
      ]
     },
     "metadata": {},
     "output_type": "display_data"
    }
   ],
   "source": [
    "predictions, labels, metrics = trainer.predict(tokenized_test, metric_key_prefix=\"predict\")"
   ]
  },
  {
   "cell_type": "code",
   "execution_count": 76,
   "metadata": {},
   "outputs": [
    {
     "data": {
      "text/plain": [
       "array([[-2.502633  , -2.791699  , -0.9110549 , -1.9696928 ,  7.6940985 ],\n",
       "       [-1.7236991 , -2.3131213 , -2.0964725 , -1.9259871 ,  7.499305  ],\n",
       "       [-3.1109393 , -2.8573523 , -0.69998205, -1.5219406 ,  7.4789557 ],\n",
       "       ...,\n",
       "       [-2.021502  ,  7.5031133 , -0.6547106 , -1.1114612 , -2.3207781 ],\n",
       "       [ 6.194398  , -1.8465953 , -0.91479325, -1.6613958 , -1.4082615 ],\n",
       "       [ 2.7510371 , -2.1772165 , -3.2809205 , -2.8588402 ,  5.314115  ]],\n",
       "      dtype=float32)"
      ]
     },
     "execution_count": 76,
     "metadata": {},
     "output_type": "execute_result"
    }
   ],
   "source": [
    "predictions"
   ]
  },
  {
   "cell_type": "code",
   "execution_count": 77,
   "metadata": {},
   "outputs": [],
   "source": [
    "preds = np.argmax(predictions, axis=-1)"
   ]
  },
  {
   "cell_type": "code",
   "execution_count": 78,
   "metadata": {},
   "outputs": [
    {
     "data": {
      "text/plain": [
       "{'PV': 401, 'Garnett': 413, 'Katz': 219, 'McDuff': 35, 'Hogarth': 18}"
      ]
     },
     "execution_count": 78,
     "metadata": {},
     "output_type": "execute_result"
    }
   ],
   "source": [
    "translators = [id2label[l] for l in preds]\n",
    "\n",
    "pred_count = {}\n",
    "for i in label2id.keys():\n",
    "    count = translators.count(i)\n",
    "    pred_count[i] = count\n",
    "\n",
    "pred_count"
   ]
  },
  {
   "cell_type": "code",
   "execution_count": 79,
   "metadata": {},
   "outputs": [
    {
     "data": {
      "image/png": "[encoded data removed]",
      "text/plain": [
       "<Figure size 1000x500 with 1 Axes>"
      ]
     },
     "metadata": {},
     "output_type": "display_data"
    }
   ],
   "source": [
    "import matplotlib.pyplot as plt\n",
    "\n",
    "\n",
    "courses = list(pred_count.keys())\n",
    "values = list(pred_count.values())\n",
    "  \n",
    "fig = plt.figure(figsize = (10, 5))\n",
    " \n",
    "# creating the bar plot\n",
    "plt.bar(courses, values, width = 0.4)\n",
    "plt.title(\"Predicted Distribution\")\n",
    "plt.show()"
   ]
  },
  {
   "cell_type": "code",
   "execution_count": 80,
   "metadata": {},
   "outputs": [
    {
     "data": {
      "text/plain": [
       "{'PV': 310, 'Garnett': 362, 'Katz': 310, 'McDuff': 52, 'Hogarth': 52}"
      ]
     },
     "execution_count": 80,
     "metadata": {},
     "output_type": "execute_result"
    }
   ],
   "source": [
    "true_count = {}\n",
    "for i in id2label.keys():\n",
    "    count = test_labels.count(i)\n",
    "    true_count[id2label[i]] = count\n",
    "\n",
    "true_count"
   ]
  },
  {
   "cell_type": "code",
   "execution_count": 81,
   "metadata": {},
   "outputs": [
    {
     "data": {
      "image/png": "[encoded data removed]",
      "text/plain": [
       "<Figure size 1000x500 with 1 Axes>"
      ]
     },
     "metadata": {},
     "output_type": "display_data"
    }
   ],
   "source": [
    "courses = list(true_count.keys())\n",
    "values = list(true_count.values())\n",
    "  \n",
    "fig2 = plt.figure(figsize = (10, 5))\n",
    " \n",
    "# creating the bar plot\n",
    "plt.bar(courses, values, width = 0.4)\n",
    "plt.title(\"Actual Distribution\")\n",
    "plt.show()"
   ]
  },
  {
   "cell_type": "code",
   "execution_count": 82,
   "metadata": {},
   "outputs": [
    {
     "name": "stdout",
     "output_type": "stream",
     "text": [
      "Accuracy:  0.6012891344383057\n"
     ]
    },
    {
     "data": {
      "image/png": "[encoded data removed]",
      "text/plain": [
       "<Figure size 640x480 with 2 Axes>"
      ]
     },
     "metadata": {},
     "output_type": "display_data"
    }
   ],
   "source": [
    "# confusion matrix\n",
    "import matplotlib.pyplot as plt\n",
    "import numpy\n",
    "from sklearn import metrics\n",
    "\n",
    "acc = metrics.accuracy_score(labels, preds)\n",
    "print('Accuracy: ', acc)\n",
    "\n",
    "confusion_matrix = metrics.confusion_matrix(labels, preds, normalize='pred')\n",
    "\n",
    "cm_display = metrics.ConfusionMatrixDisplay(confusion_matrix = confusion_matrix, display_labels=label2id)\n",
    "cm_display.plot()\n",
    "plt.show()"
   ]
  }
 ],
 "metadata": {
  "kernelspec": {
   "display_name": "Python 3",
   "language": "python",
   "name": "python3"
  },
  "language_info": {
   "codemirror_mode": {
    "name": "ipython",
    "version": 3
   },
   "file_extension": ".py",
   "mimetype": "text/x-python",
   "name": "python",
   "nbconvert_exporter": "python",
   "pygments_lexer": "ipython3",
   "version": "3.11.7"
  }
 },
 "nbformat": 4,
 "nbformat_minor": 2
}
