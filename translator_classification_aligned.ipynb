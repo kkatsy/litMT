{
 "cells": [
  {
   "cell_type": "markdown",
   "metadata": {},
   "source": [
    "## Init"
   ]
  },
  {
   "cell_type": "code",
   "execution_count": 1,
   "metadata": {},
   "outputs": [],
   "source": [
    "import os\n",
    "os.environ[\"CUDA_VISIBLE_DEVICES\"] = \"1\""
   ]
  },
  {
   "cell_type": "code",
   "execution_count": 2,
   "metadata": {},
   "outputs": [
    {
     "name": "stdout",
     "output_type": "stream",
     "text": [
      "cuda\n"
     ]
    }
   ],
   "source": [
    "import torch\n",
    "\n",
    "if torch.cuda.is_available():\n",
    "  dev = \"cuda\"\n",
    "else:\n",
    "  dev = \"cpu\"\n",
    "device = torch.device(dev)\n",
    "\n",
    "# device = torch.device('cpu')\n",
    "print(device)"
   ]
  },
  {
   "cell_type": "markdown",
   "metadata": {},
   "source": [
    "## SIM score"
   ]
  },
  {
   "cell_type": "code",
   "execution_count": 3,
   "metadata": {},
   "outputs": [],
   "source": [
    "# %load par3/par3_align/similarity/sim_models.py\n",
    "import torch\n",
    "import torch.nn as nn\n",
    "from torch.nn.modules.distance import CosineSimilarity\n",
    "import numpy as np\n",
    "\n",
    "class ParaModel(nn.Module):\n",
    "\n",
    "    def __init__(self, args, vocab):\n",
    "        super(ParaModel, self).__init__()\n",
    "\n",
    "        self.args = args\n",
    "        self.vocab = vocab\n",
    "        self.gpu = args.gpu\n",
    "\n",
    "        self.cosine = CosineSimilarity()\n",
    "\n",
    "    def compute_mask(self, lengths):\n",
    "\n",
    "        lengths = lengths.cpu()\n",
    "        max_len = torch.max(lengths)\n",
    "        range_row = torch.arange(0, max_len).long()[None, :].expand(lengths.size()[0], max_len)\n",
    "        mask = lengths[:, None].expand_as(range_row)\n",
    "        mask = range_row < mask\n",
    "        mask = mask.float()\n",
    "        if self.gpu >= 0:\n",
    "            mask = mask.cuda()\n",
    "        return mask\n",
    "\n",
    "    def torchify_batch(self, batch):\n",
    "\n",
    "        max_len = 0\n",
    "        for i in batch:\n",
    "            if len(i.embeddings) > max_len:\n",
    "                max_len = len(i.embeddings)\n",
    "\n",
    "        batch_len = len(batch)\n",
    "\n",
    "        np_sents = np.zeros((batch_len, max_len), dtype='int32')\n",
    "        np_lens = np.zeros((batch_len,), dtype='int32')\n",
    "\n",
    "        for i, ex in enumerate(batch):\n",
    "            np_sents[i, :len(ex.embeddings)] = ex.embeddings\n",
    "            np_lens[i] = len(ex.embeddings)\n",
    "\n",
    "        idxs, lengths, masks = torch.from_numpy(np_sents).long(), \\\n",
    "                               torch.from_numpy(np_lens).float().long(), \\\n",
    "                               self.compute_mask(torch.from_numpy(np_lens).long())\n",
    "\n",
    "        if self.gpu >= 0:\n",
    "            idxs = idxs.cuda()\n",
    "            lengths = lengths.cuda()\n",
    "            masks = masks.cuda()\n",
    "    \n",
    "        return idxs, lengths, masks\n",
    "\n",
    "    def scoring_function(self, g_idxs1, g_mask1, g_lengths1, g_idxs2, g_mask2, g_lengths2):\n",
    "\n",
    "        g1 = self.encode(g_idxs1, g_mask1, g_lengths1)\n",
    "        g2 = self.encode(g_idxs2, g_mask2, g_lengths2)\n",
    "        return self.cosine(g1, g2)\n",
    "\n",
    "class WordAveraging(ParaModel):\n",
    "\n",
    "    def __init__(self, args, vocab):\n",
    "        super(WordAveraging, self).__init__(args, vocab)\n",
    "\n",
    "        self.vocab = vocab\n",
    "        self.embedding = nn.Embedding(len(self.vocab), self.args.dim)\n",
    "\n",
    "        if args.gpu >= 0:\n",
    "           self.cuda()\n",
    "\n",
    "    def encode(self, idxs, mask, lengths):\n",
    "        word_embs = self.embedding(idxs)\n",
    "        word_embs = word_embs * mask[:, :, None]\n",
    "        g = word_embs.sum(dim=1) / lengths[:, None].float()\n",
    "        return g"
   ]
  },
  {
   "cell_type": "code",
   "execution_count": 4,
   "metadata": {},
   "outputs": [],
   "source": [
    "# %load par3/par3_align/similarity/sim_utils.py\n",
    "import io\n",
    "import numpy as np\n",
    "import torch\n",
    "\n",
    "def get_wordmap(textfile):\n",
    "    words={}\n",
    "    We = []\n",
    "    f = io.open(textfile, 'r', encoding='utf-8')\n",
    "    lines = f.readlines()\n",
    "    if len(lines[0].split()) == 2:\n",
    "        lines.pop(0)\n",
    "    ct = 0\n",
    "    for (n,i) in enumerate(lines):\n",
    "        word = i.split(' ', 1)[0]\n",
    "        vec = i.split(' ', 1)[1].split(' ')\n",
    "        j = 0\n",
    "        v = []\n",
    "        while j < len(vec):\n",
    "            v.append(float(vec[j]))\n",
    "            j += 1\n",
    "        words[word] = ct\n",
    "        ct += 1\n",
    "        We.append(v)\n",
    "    return words, np.array(We)\n",
    "\n",
    "def get_minibatches_idx(n, minibatch_size, shuffle=False):\n",
    "    idx_list = np.arange(n, dtype=\"int32\")\n",
    "\n",
    "    if shuffle:\n",
    "        np.random.shuffle(idx_list)\n",
    "\n",
    "    minibatches = []\n",
    "    minibatch_start = 0\n",
    "    for i in range(n // minibatch_size):\n",
    "        minibatches.append(idx_list[minibatch_start:\n",
    "                                    minibatch_start + minibatch_size])\n",
    "        minibatch_start += minibatch_size\n",
    "\n",
    "    if (minibatch_start != n):\n",
    "        # Make a minibatch out of what is left\n",
    "        minibatches.append(idx_list[minibatch_start:])\n",
    "\n",
    "    return zip(range(len(minibatches)), minibatches)\n",
    "\n",
    "def max_pool(x, lengths, gpu):\n",
    "    out = torch.FloatTensor(x.size(0), x.size(2)).zero_()\n",
    "    if gpu >= 0:\n",
    "        out = out.cuda()\n",
    "    for i in range(len(lengths)):\n",
    "        out[i] = torch.max(x[i][0:lengths[i]], 0)[0]\n",
    "    return out\n",
    "\n",
    "def mean_pool(x, lengths, gpu):\n",
    "    out = torch.FloatTensor(x.size(0), x.size(2)).zero_()\n",
    "    if gpu >= 0:\n",
    "        out = out.cuda()\n",
    "    for i in range(len(lengths)):\n",
    "        out[i] = torch.mean(x[i][0:lengths[i]], 0)\n",
    "    return out\n",
    "\n",
    "def lookup(words, w):\n",
    "    w = w.lower()\n",
    "    if w in words:\n",
    "        return words[w]\n",
    "\n",
    "class Example(object):\n",
    "\n",
    "    def __init__(self, sentence):\n",
    "        self.sentence = sentence.strip().lower()\n",
    "        self.embeddings = []\n",
    "        self.representation = None\n",
    "\n",
    "    def populate_embeddings(self, words):\n",
    "        sentence = self.sentence.lower()\n",
    "        arr = sentence.split()\n",
    "        for i in arr:\n",
    "            emb = lookup(words, i)\n",
    "            if emb:\n",
    "                self.embeddings.append(emb)\n",
    "        if len(self.embeddings) == 0:\n",
    "            self.embeddings.append(words['UUUNKKK'])"
   ]
  },
  {
   "cell_type": "code",
   "execution_count": 5,
   "metadata": {},
   "outputs": [],
   "source": [
    "# # %load par3/par3_align/similarity/test_sim.py\n",
    "# import torch\n",
    "# from nltk.tokenize import TreebankWordTokenizer\n",
    "# import sentencepiece as spm\n",
    "\n",
    "# tok = TreebankWordTokenizer()\n",
    "\n",
    "# model = torch.load('/home/kkatsy/par3/par3_align/similarity/sim/sim.pt')\n",
    "# state_dict = model['state_dict']\n",
    "# vocab_words = model['vocab_words']\n",
    "# args = model['args']\n",
    "# # turn off gpu\n",
    "# model = WordAveraging(args, vocab_words)\n",
    "# model.load_state_dict(state_dict, strict=True)\n",
    "# sp = spm.SentencePieceProcessor()\n",
    "# sp.Load('/home/kkatsy/par3/par3_align/similarity/sim/sim.sp.30k.model')\n",
    "# model.eval()\n",
    "\n",
    "# def make_example(sentence, model):\n",
    "#     sentence = sentence.lower()\n",
    "#     sentence = \" \".join(tok.tokenize(sentence))\n",
    "#     sentence = sp.EncodeAsPieces(sentence)\n",
    "#     wp1 = Example(\" \".join(sentence))\n",
    "#     wp1.populate_embeddings(model.vocab)\n",
    "#     return wp1\n",
    "\n",
    "# def find_similarity(s1, s2):\n",
    "#     with torch.no_grad():\n",
    "#         s1 = [make_example(x, model) for x in s1]\n",
    "#         s2 = [make_example(x, model) for x in s2]\n",
    "#         wx1, wl1, wm1 = model.torchify_batch(s1)\n",
    "#         wx2, wl2, wm2 = model.torchify_batch(s2)\n",
    "#         BATCH_SIZE = 512\n",
    "#         all_scores = []\n",
    "#         for i in range(0, len(wx1), BATCH_SIZE):\n",
    "#             scores = model.scoring_function(wx1[i:i + BATCH_SIZE], wm1[i:i + BATCH_SIZE], wl1[i:i + BATCH_SIZE],\n",
    "#                                             wx2[i:i + BATCH_SIZE], wm2[i:i + BATCH_SIZE], wl2[i:i + BATCH_SIZE])\n",
    "#             all_scores.extend([x.item() for x in scores])\n",
    "#         return all_scores\n",
    "\n",
    "# def find_similarity_matrix(s1, s2):\n",
    "#     with torch.no_grad():\n",
    "#         s1 = [make_example(x, model) for x in s1]\n",
    "#         s2 = [make_example(x, model) for x in s2]\n",
    "#         wx1, wl1, wm1 = model.torchify_batch(s1)\n",
    "#         wx2, wl2, wm2 = model.torchify_batch(s2)\n",
    "\n",
    "#         BATCH_SIZE = 2000\n",
    "#         vecs1 = []\n",
    "#         vecs2 = []\n",
    "#         for i in range(0, len(wx1), BATCH_SIZE):\n",
    "#             curr_vecs1 = model.encode(idxs=wx1[i:i + BATCH_SIZE],\n",
    "#                                       mask=wm1[i:i + BATCH_SIZE],\n",
    "#                                       lengths=wl1[i:i + BATCH_SIZE])\n",
    "#             vecs1.append(curr_vecs1)\n",
    "#         for i in range(0, len(wx2), BATCH_SIZE):\n",
    "#             curr_vecs2 = model.encode(idxs=wx2[i:i + BATCH_SIZE],\n",
    "#                                       mask=wm2[i:i + BATCH_SIZE],\n",
    "#                                       lengths=wl2[i:i + BATCH_SIZE])\n",
    "#             vecs2.append(curr_vecs2)\n",
    "#         vecs1 = torch.cat(vecs1)\n",
    "#         vecs2 = torch.cat(vecs2)\n",
    "#         dot_product = torch.matmul(vecs1, vecs2.t())\n",
    "\n",
    "#         vecs1_norm = torch.norm(vecs1, dim=1, keepdim=True)\n",
    "#         vecs2_norm = torch.norm(vecs2, dim=1, keepdim=True)\n",
    "#         norm_product = torch.matmul(vecs1_norm, vecs2_norm.t())\n",
    "#     return torch.div(dot_product, norm_product)\n",
    "\n",
    "# def encode_text(s1):\n",
    "#     with torch.no_grad():\n",
    "#         s1 = [make_example(x, model) for x in s1]\n",
    "#         wx1, wl1, wm1 = model.torchify_batch(s1)\n",
    "#         vecs1 = model.encode(idxs=wx1, mask=wm1, lengths=wl1)\n",
    "#         return vecs1\n"
   ]
  },
  {
   "cell_type": "code",
   "execution_count": 6,
   "metadata": {},
   "outputs": [],
   "source": [
    "# tok = TreebankWordTokenizer()\n",
    "\n",
    "# model = torch.load('/home/kkatsy/par3/par3_align/similarity/sim/sim.pt')\n",
    "# state_dict = model['state_dict']\n",
    "# vocab_words = model['vocab_words']\n",
    "# args = model['args']\n",
    "# # turn off gpu\n",
    "# model = WordAveraging(args, vocab_words)\n",
    "# model.load_state_dict(state_dict, strict=True)\n",
    "# sp = spm.SentencePieceProcessor()\n",
    "# sp.Load('/home/kkatsy/par3/par3_align/similarity/sim/sim.sp.30k.model')\n",
    "# model.eval()"
   ]
  },
  {
   "cell_type": "code",
   "execution_count": 7,
   "metadata": {},
   "outputs": [],
   "source": [
    "def get_score(refs, cands, metric='sim'):\n",
    "    return find_similarity(refs,cands)"
   ]
  },
  {
   "cell_type": "markdown",
   "metadata": {},
   "source": [
    "## Data Prep"
   ]
  },
  {
   "cell_type": "code",
   "execution_count": 8,
   "metadata": {},
   "outputs": [],
   "source": [
    "import pickle\n",
    "\n",
    "with open('aligned_paragraph_dataset.pickle', 'rb') as fp:\n",
    "  aligned_paragraph_dataset = pickle.load(fp)\n",
    "\n",
    "with open('source_paragraph_dataset.pickle', 'rb') as fp:\n",
    "  source_paragraph_dataset = pickle.load(fp)"
   ]
  },
  {
   "cell_type": "code",
   "execution_count": 9,
   "metadata": {},
   "outputs": [
    {
     "data": {
      "text/plain": [
       "[{'Katz': '\"You\\'re a scoundrel,\" the thought flashed through my mind, \"if you laugh at that now.\\'',\n",
       "  'PV': '\"What a scoundrel you are,\" raced through my head, \"to laugh at that now!\"',\n",
       "  'Garnett': '\"You are a scoundrel,\" a thought flashed through my mind, \"if you laugh at this now.\"',\n",
       "  'Hogarth': '\"You cur! \" I went on, in objurgation of Zvierkov.'},\n",
       " {'Katz': '\"So what!\" I cried in reply. \"Everything is lost now, anyway!\"',\n",
       "  'PV': '\"What of it!\" I cried, answering myself. \"All is lost now!\"',\n",
       "  'Garnett': '\"No matter!\" I cried, answering myself. \"Now everything is lost!\"',\n",
       "  'Hogarth': '\"What if you should get the laugh of me even now?\" \"No matter if he does,\" I cried the next moment, in answer to myself. \" Hy now you have lost everything.\"'},\n",
       " {'Katz': \"There was no sign of them, but it didn't matter. I knew where they were going.\",\n",
       "  'PV': 'Their trail was already cold; but no matter: I knew where they had gone.',\n",
       "  'Garnett': 'There was no trace to be seen of them, but that made no difference—I knew where they had gone.',\n",
       "  'Hogarth': 'The scent of my quarry had now had time to grow cool, yet I knew where to find the man for whom I was seeking.'},\n",
       " {'Katz': 'At the entrance stood a solitary, late-night cabby in a coarse peasant coat powdered with wet, seemingly warm snow that was still falling. It was steamy and stuffy outside. The little shaggy piebald nag was also dusted with snow and was coughing; I remember that very well. I headed for the rough-hewn sledge; but as  soon as I raised one foot to get in, the recollection of how Simonov had just given me six rubles hit me with such force that I tumbled into the sledge like a sack.',\n",
       "  'PV': 'By the porch stood a lonely cabbie, a night coachman, in a homespun coat all dusted with the still-falling wet and as if warm snow. It was steamy and stuffy. His shaggy little piebald nag was also all dusted with snow, and was coughing—I very much remember that. I rushed to the bast-covered sled; but as I raised my foot to get in, the recollection of the way Simonov had just given me the six roubles cut me down, and I dropped into the sled like a sack.',\n",
       "  'Garnett': 'At the steps was standing a solitary night sledge-driver in a rough peasant coat, powdered over with the still falling, wet, and as it were warm, snow. It was hot and steamy. The little shaggy piebald horse was also covered with snow and coughing, I remember that very well. I made a rush for the roughly made sledge; but as soon as I raised my foot to get into it, the recollection of how Simonov had just given me six roubles seemed to double me up and I tumbled into the sledge like a sack.',\n",
       "  'Hogarth': 'At the door of the hotel there was lounging a solitary night cabman, with his greatcoat dusted over with the moist — almost warm- snow which was still falling and making everything look dim and oppressive; while his shaggy little piebald pony also had a powdering of snow upon its back, and from time to time, I remember, kept coughing. Leaping into the rough bark sledge, I was in the act of bending my legs to sit down when the recollection of Simonov’s recent loan of six roubles threw me into such a state of mind that I rolled backwards on to the seat like a sack. \"'},\n",
       " {'Katz': '\"No! There\\'s a lot I have to do to make up for that!\" I cried. \"But make up for it I will or else I\\'ll perish on the spot this very night. Let\\'s go!\"',\n",
       "  'PV': '\"No! Much must be done to redeem it all!\" I cried out, \"but I will redeem it, or perish on the spot this very night! Drive!\"',\n",
       "  'Garnett': '\"No, I must do a great deal to make up for all that,\" I cried. \"But I will make up for it or perish on the spot this very night. Start!\"',\n",
       "  'Hogarth': 'Leaping into the rough bark sledge, I was in the act of bending my legs to sit down when the recollection of Simonov’s recent loan of six roubles threw me into such a state of mind that I rolled backwards on to the seat like a sack. \" Yes, it will take a great deal to set all this right,\" I exclaimed as I did so. \"Yet I \\'.rill set things right, or perish in the attempt. Forward! \"'}]"
      ]
     },
     "execution_count": 9,
     "metadata": {},
     "output_type": "execute_result"
    }
   ],
   "source": [
    "aligned_paragraph_dataset['NotesFromUnderground'][260:265]"
   ]
  },
  {
   "cell_type": "code",
   "execution_count": 10,
   "metadata": {},
   "outputs": [
    {
     "data": {
      "text/plain": [
       "['«Подлец ты!— пронеслось в моей голове,— коли над этим теперь смеешься».',\n",
       " '—Пусть!— крикнул я, отвечая себе.— Теперь ведь уж все погибло!',\n",
       " 'Их уж и след простыл; но все равно: я знал, куда они поехали.',\n",
       " 'У крыльца стоял одинокий Ванька, ночник, в сермяге, весь запорошенный все еще валившимся мокрым и как будто теплым снегом. Было парно и душно. Маленькая лохматая, пегая лошаденка его была тоже вся запорошена и кашляла; я это очень помню. Я бросился в лубошные санки; но только было я занес ногу, чтоб сесть, воспоминание о том, как Симонов сейчас давал мне шесть рублей, так и подкосило меня, и я, как мешок, повалился в санки.',\n",
       " '—Нет! Надо много сделать, чтоб все это выкупить!— прокричал я,— но я выкуплю или в эту же ночь погибну на месте. Пошел!']"
      ]
     },
     "execution_count": 10,
     "metadata": {},
     "output_type": "execute_result"
    }
   ],
   "source": [
    "source_paragraph_dataset['NotesFromUnderground'][260:265]"
   ]
  },
  {
   "cell_type": "code",
   "execution_count": 11,
   "metadata": {},
   "outputs": [],
   "source": [
    "import itertools\n",
    "from statistics import mean\n",
    "from operator import itemgetter\n",
    "\n",
    "def get_best_alignments(par_list, source_par_list, top_k_percent, num_k, drop_top, metric, min_len, max_len):\n",
    "\n",
    "    # dict -> score:par_set\n",
    "    # iter thru par_list, prune by length, get metric for set\n",
    "    keep_index_list = []\n",
    "    i2score = {}\n",
    "    for i in range(len(par_list)):\n",
    "        keep_index_list.append(i)\n",
    "        par_set = par_list[i]\n",
    "\n",
    "        max_par_len = len(max(par_set, key = len))\n",
    "        min_par_len = len(min(par_set, key = len))\n",
    "        source_len = len(source_par_list[i])\n",
    "\n",
    "        if (min_par_len >= min_len) and (max_par_len) <= max_len and not all(x==par_set[0] for x in par_set) and (max_par_len <= 3*source_len) and (min_par_len*3 >= source_len):\n",
    "\n",
    "            pairs = list(itertools.combinations(par_set, 2))\n",
    "            refs, cands = [], []\n",
    "            for s1, s2 in pairs:\n",
    "                refs.append(s1)\n",
    "                cands.append(s2)\n",
    "                \n",
    "            pair_scores = get_score(refs, cands, metric)\n",
    "\n",
    "            average_score = mean(pair_scores)\n",
    "            i2score[i] = average_score\n",
    "\n",
    "    # get top k par sets\n",
    "    num_pars = len(list(i2score))\n",
    "    top_k = int(top_k_percent * num_pars)\n",
    "    if top_k >= num_k:\n",
    "        top_k_scores = sorted(i2score.items(), key=itemgetter(1), reverse=True)[int(num_pars*drop_top):int(num_pars*drop_top) + num_k]\n",
    "    else:\n",
    "        top_k_scores = sorted(i2score.items(), key=itemgetter(1), reverse=True)[int(num_pars*drop_top):int(num_pars*drop_top) + top_k]\n",
    "    \n",
    "    i2score = sorted(i2score.items(), key=itemgetter(1), reverse=True)\n",
    "    return i2score, top_k_scores, keep_index_list"
   ]
  },
  {
   "cell_type": "code",
   "execution_count": 12,
   "metadata": {},
   "outputs": [],
   "source": [
    "min_paragraph_len = 20\n",
    "max_paragraph_len = 1000000000000\n",
    "top_k_percent = 0.9\n",
    "num_k = 10000\n",
    "drop_top = 0.02"
   ]
  },
  {
   "cell_type": "code",
   "execution_count": 13,
   "metadata": {},
   "outputs": [
    {
     "data": {
      "text/plain": [
       "['DeadSouls',\n",
       " 'FathersAndSons',\n",
       " 'PoorFolk',\n",
       " 'Demons',\n",
       " 'AnnaKarenina',\n",
       " 'NotesFromUnderground',\n",
       " 'TheBrothersKaramazov',\n",
       " 'TheIdiot',\n",
       " 'CrimeAndPunishment']"
      ]
     },
     "execution_count": 13,
     "metadata": {},
     "output_type": "execute_result"
    }
   ],
   "source": [
    "list(aligned_paragraph_dataset.keys())"
   ]
  },
  {
   "cell_type": "code",
   "execution_count": 14,
   "metadata": {},
   "outputs": [],
   "source": [
    "# # format: label->translator, x->source+translation\n",
    "# # dict: key-> translator, value: list of {source:s, translation:t, index:i}\n",
    "# translator_to_pars = {}\n",
    "# translator_to_pars_holdout = {}\n",
    "\n",
    "# # Holdout\n",
    "# # NotesFromUnderground - Katz, PV, Garnett, Hogarth\n",
    "# # PoorFolk - McDuff, Hogarth, Garnett\n",
    "# # TheIdiot - Garnett, McDuff, PV\n",
    "# # CrimeAndPunishment - Katz, McDuff, PV, Garnett\n",
    "# holdout_books = ['TheIdiot', 'NotesFromUnderground']\n",
    "# ignore_books = []\n",
    "# translator_to_pars = {}\n",
    "# translator_to_pars_holdout = {}\n",
    "\n",
    "# # for each book in train:\n",
    "# for book in sorted(list(aligned_paragraph_dataset.keys())):\n",
    "#     # get par list of aligned sentences, best k alignments\n",
    "#     book_par_list = [list(aligned_paragraph_dataset[book][p].values()) for p in range(len(aligned_paragraph_dataset[book]))]\n",
    "#     source_par_list = source_paragraph_dataset[book]\n",
    "\n",
    "#     if book in holdout_books:\n",
    "#         i2score, top_k, keep_idx = get_best_alignments(book_par_list, source_par_list, 1.0, 5000, 0, 'sim', min_paragraph_len, max_paragraph_len)\n",
    "#     elif book not in ignore_books:\n",
    "#         i2score, top_k, keep_idx = get_best_alignments(book_par_list, source_par_list, top_k_percent, num_k, drop_top, 'sim', min_paragraph_len, max_paragraph_len)\n",
    "#     else:\n",
    "#         top_k = []\n",
    "\n",
    "#     for i, sim in top_k:\n",
    "#         par_trans_dict = aligned_paragraph_dataset[book][i]\n",
    "#         par_source = source_paragraph_dataset[book][i]\n",
    "\n",
    "#         for translator, t in par_trans_dict.items():\n",
    "#             t = t.replace('\\\\\\'', '\\'')\n",
    "#             datum_dict = {'source':par_source, 'translation': t, 'idx': i, 'book': book, 'sim': sim, 'translator': translator}\n",
    "\n",
    "#             if translator not in translator_to_pars.keys():\n",
    "#                 translator_to_pars[translator] = []\n",
    "#                 translator_to_pars_holdout[translator] = []\n",
    "                \n",
    "#             if book in holdout_books:\n",
    "#                 translator_to_pars_holdout[translator].append(datum_dict)\n",
    "#                 # print('len par_list: ', len(book_par_list))\n",
    "#                 # print('len top_k: ', len(top_k))\n",
    "#             else:\n",
    "#                 translator_to_pars[translator].append(datum_dict)"
   ]
  },
  {
   "cell_type": "code",
   "execution_count": 15,
   "metadata": {},
   "outputs": [],
   "source": [
    "# BUILD TRAIN SET\n",
    "\n",
    "# translators = ['Hogarth', 'PV', 'Katz', 'McDuff', 'Garnett']\n",
    "# holdout_books = ['TheIdiot', 'NotesFromUnderground']\n",
    "\n",
    "# translator_to_pars = {}\n",
    "\n",
    "# for t in translators:\n",
    "#     t_pars = []\n",
    "#     for book in list(aligned_paragraph_dataset.keys()):\n",
    "#         if book not in holdout_books:\n",
    "#             if t in aligned_paragraph_dataset[book][0].keys():\n",
    "#                 for par_dict in aligned_paragraph_dataset[book]:\n",
    "#                     t_pars.append(par_dict[t])\n",
    "\n",
    "#     print(t)\n",
    "#     print(len(t_pars))\n",
    "\n",
    "#     i2score, top_k, keep_idx = get_best_alignments(t_pars, top_k_percent, num_k, drop_top, 'sim', min_paragraph_len, max_paragraph_len)\n",
    "    \n",
    "#     # for i, sim in top_k:\n",
    "#     print(len(top_k))\n",
    "#     print()\n",
    "\n",
    "# translator_to_pars_holdout = {}"
   ]
  },
  {
   "cell_type": "code",
   "execution_count": 16,
   "metadata": {},
   "outputs": [],
   "source": [
    "# newlist = sorted(translator_to_pars['PV'], key=lambda d: d['sim'], reverse=True) \n",
    "# newlist[0:5]"
   ]
  },
  {
   "cell_type": "code",
   "execution_count": 17,
   "metadata": {},
   "outputs": [],
   "source": [
    "# min_len = len(translator_to_pars['Hogarth'])\n",
    "# print(min_len)\n",
    "# for t in translator_to_pars.keys():\n",
    "#     keep = sorted(translator_to_pars[t], key=lambda d: d['sim'], reverse=True)[:min_len]\n",
    "#     translator_to_pars[t] = keep"
   ]
  },
  {
   "cell_type": "code",
   "execution_count": 18,
   "metadata": {},
   "outputs": [],
   "source": [
    "# from random import sample\n",
    "\n",
    "# min_len_h = len(translator_to_pars_holdout['Hogarth'])\n",
    "# print(min_len_h)\n",
    "# for t in translator_to_pars_holdout.keys():\n",
    "#     keep = sample(translator_to_pars_holdout[t], min_len_h) \n",
    "#     translator_to_pars_holdout[t] = keep"
   ]
  },
  {
   "cell_type": "code",
   "execution_count": 19,
   "metadata": {},
   "outputs": [],
   "source": [
    "# aligned_paragraph_dataset['Demons'][4748]"
   ]
  },
  {
   "cell_type": "code",
   "execution_count": 20,
   "metadata": {},
   "outputs": [],
   "source": [
    "# abs_total = 0\n",
    "# print('\\nAll')\n",
    "# for k in translator_to_pars_holdout.keys():\n",
    "#     both = len(translator_to_pars_holdout[k]) + len(translator_to_pars[k])\n",
    "#     print(k, both)\n",
    "#     abs_total += both\n",
    "# print('Total', abs_total)\n",
    "\n",
    "# train_total = 0\n",
    "# min_class = 100000000000\n",
    "# print('\\nTrain')\n",
    "# for k in translator_to_pars.keys():\n",
    "#     print(k, len(translator_to_pars[k]))\n",
    "#     if len(translator_to_pars[k]) < min_class:\n",
    "#         min_class = len(translator_to_pars[k])\n",
    "    \n",
    "# train_total = len(translator_to_pars.keys()) * min_class\n",
    "\n",
    "# holdout_total = 0\n",
    "# min_class_h = 100000000000\n",
    "# print('\\nHoldout')\n",
    "# for k in translator_to_pars_holdout.keys():\n",
    "#     print(k, len(translator_to_pars_holdout[k]))\n",
    "#     if len(translator_to_pars_holdout[k]) < min_class_h:\n",
    "#         min_class_h = len(translator_to_pars_holdout[k])\n",
    "\n",
    "# holdout_total = len(translator_to_pars.keys()) * min_class_h\n",
    "\n",
    "# print('Train total: ', min_class*5)\n",
    "# print('Val/Test total: ', min_class_h*5)\n",
    "# print()\n",
    "# print('train % = ', train_total/(holdout_total+train_total))\n",
    "# print('holdout % = ', holdout_total/(holdout_total+train_total))\n"
   ]
  },
  {
   "cell_type": "code",
   "execution_count": 40,
   "metadata": {},
   "outputs": [
    {
     "name": "stdout",
     "output_type": "stream",
     "text": [
      "[0 3 4 2 1]\n"
     ]
    }
   ],
   "source": [
    "from sklearn.preprocessing import LabelEncoder\n",
    "\n",
    "le = LabelEncoder()\n",
    "class_keys = [\"Garnett\", \"McDuff\", \"PV\", \"Katz\", \"Hogarth\"]\n",
    "le.fit([\"Garnett\", \"McDuff\", \"PV\", \"Katz\", \"Hogarth\"])\n",
    "print(le.transform([\"Garnett\", \"McDuff\", \"PV\", \"Katz\", \"Hogarth\"]))"
   ]
  },
  {
   "cell_type": "code",
   "execution_count": 22,
   "metadata": {},
   "outputs": [],
   "source": [
    "# data_list = []\n",
    "# i = 0\n",
    "# for tr in translator_to_pars.keys():\n",
    "#     label = le.transform([tr])[0]\n",
    "#     for d in translator_to_pars[tr]:\n",
    "#         src, tgt = d['source'], d['translation']\n",
    "#         concat = src + ' <SEP> ' + tgt\n",
    "#         sent_dict = {'idx': d['idx'], 'book':d['book'], 'labels': label, 'concat': concat,  'translator': d['translator'], 'sim': d['sim'], 'src': src, 'tgt': tgt}\n",
    "#         data_list.append(sent_dict)\n",
    "#         i += 1\n",
    "\n",
    "\n",
    "# data_list_holdout = []\n",
    "# i = 0\n",
    "# for tr in translator_to_pars_holdout.keys():\n",
    "#     label = le.transform([tr])[0]\n",
    "#     for d in translator_to_pars_holdout[tr]:\n",
    "#         src, tgt = d['source'], d['translation']\n",
    "#         concat = src + ' <SEP> ' + tgt\n",
    "#         sent_dict = {'idx': d['idx'], 'book':d['book'], 'labels': label, 'concat': concat, 'translator': d['translator'], 'sim': d['sim'], 'src': src, 'tgt': tgt}\n",
    "#         data_list_holdout.append(sent_dict)\n",
    "#         i += 1\n",
    "        \n",
    "# print(data_list[:1])"
   ]
  },
  {
   "cell_type": "code",
   "execution_count": 23,
   "metadata": {},
   "outputs": [],
   "source": [
    "# import pandas as pd\n",
    "\n",
    "# df = pd.DataFrame(data_list)\n",
    "# df_holdout = pd.DataFrame(data_list_holdout)\n",
    "# pd.set_option('display.max_colwidth', 0)"
   ]
  },
  {
   "cell_type": "code",
   "execution_count": 24,
   "metadata": {},
   "outputs": [],
   "source": [
    "# print(df.shape)\n",
    "# print(df_holdout.shape)"
   ]
  },
  {
   "cell_type": "code",
   "execution_count": 25,
   "metadata": {},
   "outputs": [],
   "source": [
    "# # {'idx': d['idx'], 'book':d['book'], 'labels': label, 'concat': concat, 'translator': d['translator'], 'sim': d['sim'], 'src': src, 'tgt': tgt}\n",
    "# df_holdout_X = df_holdout[['idx','book', 'concat', 'translator', 'sim', 'src', 'tgt']]\n",
    "# # df1.head()"
   ]
  },
  {
   "cell_type": "code",
   "execution_count": 26,
   "metadata": {},
   "outputs": [],
   "source": [
    "# from sklearn.model_selection import train_test_split\n",
    "\n",
    "# # train_texts = df['sentence'].values.tolist()\n",
    "# # train_labels = df['labels'].values.tolist()\n",
    "# # test_texts = df_holdout['concat'].values.tolist()\n",
    "# # test_labels = df_holdout['labels'].values.tolist()\n",
    "\n",
    "# # train_texts =  df['concat'].values.tolist()\n",
    "# # train_labels = df['labels'].values.tolist()\n",
    "\n",
    "# test_texts, val_texts, test_labels, val_labels = train_test_split(\n",
    "#     df_holdout_X, df_holdout['labels'],\n",
    "#     stratify = df_holdout['labels'], shuffle=True, test_size=0.5\n",
    "# )\n",
    "\n",
    "# train_df = df\n",
    "# test_df = pd.concat([test_texts, test_labels], axis=1)\n",
    "# val_df = pd.concat([val_texts, val_labels], axis=1)\n",
    "# print('train size: ', train_df.shape)\n",
    "# print('val size: ', val_df.shape)\n",
    "# print('test size: ', test_df.shape)\n",
    "\n",
    "# sentences = {}\n",
    "# sentences['train'] = [{'label': row['labels'], 'text':row['concat']} for i, row in train_df.iterrows()]\n",
    "# sentences['test'] = [{'label': row['labels'], 'text':row['concat']} for i, row in test_df.iterrows()]\n",
    "# sentences['val'] = [{'label': row['labels'], 'text':row['concat']} for i, row in val_df.iterrows()]\n",
    "# # for t, l in zip(train_texts, train_labels):\n",
    "# #     datum = {'label': l, 'text': t}\n",
    "# #     sentences['train'].append(datum)\n",
    "\n",
    "# # for t, l in zip(val_texts, val_labels):\n",
    "# #     datum = {'label': l, 'text': t}\n",
    "# #     sentences['val'].append(datum)\n",
    "\n",
    "# # for t, l in zip(test_texts, test_labels):\n",
    "# #     datum = {'label': l, 'text': t}\n",
    "# #     sentences['test'].append(datum)\n",
    "\n",
    "# print(sentences['train'][770])\n",
    "\n",
    "\n",
    "# print('train size: ', len(sentences['train']))\n",
    "# print('val size: ', len(sentences['val']))\n",
    "# print('test size: ', len(sentences['test']))"
   ]
  },
  {
   "cell_type": "code",
   "execution_count": 27,
   "metadata": {},
   "outputs": [
    {
     "name": "stdout",
     "output_type": "stream",
     "text": [
      "train size:  (17735, 8)\n",
      "val size:  (1175, 8)\n",
      "test size:  (1175, 8)\n",
      "train size:  17735\n",
      "val size:  1175\n",
      "test size:  1175\n"
     ]
    }
   ],
   "source": [
    "import pandas as pd \n",
    "\n",
    "train_df = pd.read_pickle(\"/home/kkatsy/litMT/experiment_dataset/aligned_train_df.pickle\")  \n",
    "test_df = pd.read_pickle(\"/home/kkatsy/litMT/experiment_dataset/experiment_test_df.pickle\") \n",
    "val_df = pd.read_pickle(\"/home/kkatsy/litMT/experiment_dataset/experiment_val_df.pickle\") \n",
    "print('train size: ', train_df.shape)\n",
    "print('val size: ', val_df.shape)\n",
    "print('test size: ', test_df.shape)\n",
    "\n",
    "sentences = {}\n",
    "sentences['train'] = [{'label': row['labels'], 'text':row['concat']} for i, row in train_df.iterrows()]\n",
    "sentences['test'] = [{'label': row['labels'], 'text':row['concat']} for i, row in test_df.iterrows()]\n",
    "sentences['val'] = [{'label': row['labels'], 'text':row['concat']} for i, row in val_df.iterrows()]\n",
    "\n",
    "\n",
    "print('train size: ', len(sentences['train']))\n",
    "print('val size: ', len(sentences['val']))\n",
    "print('test size: ', len(sentences['test']))"
   ]
  },
  {
   "cell_type": "code",
   "execution_count": 28,
   "metadata": {},
   "outputs": [],
   "source": [
    "# with open('/home/kkatsy/litMT/classification_experiments_dataset.pickle', 'wb') as handle:\n",
    "#     pickle.dump(sentences, handle, protocol=pickle.HIGHEST_PROTOCOL)"
   ]
  },
  {
   "cell_type": "code",
   "execution_count": 29,
   "metadata": {},
   "outputs": [],
   "source": [
    "# with open('/home/kkatsy/litMT/classification_experiments_dataset.pickle', 'wb') as handle:\n",
    "#     a = pickle.load(sentences, handle, protocol=pickle.HIGHEST_PROTOCOL)"
   ]
  },
  {
   "cell_type": "markdown",
   "metadata": {},
   "source": [
    "## Train Model"
   ]
  },
  {
   "cell_type": "code",
   "execution_count": 30,
   "metadata": {},
   "outputs": [],
   "source": [
    "if torch.cuda.is_available():\n",
    "  dev = \"cuda\"\n",
    "else:\n",
    "  dev = \"cpu\"\n",
    "device = torch.device(dev)"
   ]
  },
  {
   "cell_type": "code",
   "execution_count": 31,
   "metadata": {},
   "outputs": [],
   "source": [
    "BERT_MODEL = \"bert-base-multilingual-cased\"\n",
    "\n",
    "from transformers import AutoTokenizer\n",
    "\n",
    "tokenizer = AutoTokenizer.from_pretrained('bert-base-multilingual-cased')"
   ]
  },
  {
   "cell_type": "code",
   "execution_count": 32,
   "metadata": {},
   "outputs": [
    {
     "name": "stdout",
     "output_type": "stream",
     "text": [
      "[102, 10882, 62900, 19226, 10105, 19157, 10169, 43019, 57098, 11445, 117, 10261, 12174, 10472, 15217, 75349, 19113, 169, 16620, 14478, 23515, 117, 10146, 12277, 10108, 17333, 32782, 10336, 31031, 16460, 117, 10135, 10105, 13295, 10111, 10106, 10105, 21047, 17527, 10108, 41653, 10206, 67552, 51210, 14401, 119, 43019, 57098, 11445, 12149, 11898, 10226, 63646, 10111, 10169, 10226, 11250, 11170, 72333, 20006, 10708, 10105, 26234, 117, 24426, 31303, 10114, 10105, 14248, 95941, 10107, 10759, 110883, 10106, 48497, 83592, 10806, 10479, 171, 25497, 10114, 10957, 117, 64728, 39460, 10491, 10455, 28150, 119, 74857, 10230, 13448, 10111, 12153, 10114, 10105, 12541, 62026, 10604, 30518, 23203, 18800, 10108, 24742, 42948, 28524, 10479, 21031, 10741, 11155, 117, 10146, 14234, 30935, 117, 10261, 13446, 10114, 10105, 18121, 117, 15689, 10226, 32362, 10108, 12556, 41513, 10169, 169, 17684, 10108, 26228, 117, 10111, 12415, 26133, 10114, 10105, 37992, 11894, 79999, 10106, 29956, 14496, 13326, 117, 23455, 10112, 10111, 21550, 36630, 10479, 10134, 62151, 10160, 10105, 46298, 117, 10380, 10189, 13246, 10531, 11894, 79999, 11499, 21328, 10708, 15331, 63251, 27207, 45953, 119, 62900, 12172, 10472, 69423, 12556, 41513, 117, 12277, 10893, 12373, 10531, 11894, 79999, 117, 10479, 64676, 10114, 67120, 34053, 10108, 10684, 11426, 112, 187, 40830, 117, 23491, 16419, 10104, 29956, 10305, 10111, 38973, 11542, 26095, 10104, 63131, 12131, 117, 220, 10134, 31820, 10114, 10957, 119, 10357, 10393, 52423, 10162, 10114, 31877, 14942, 10188, 10485, 10146, 10188, 169, 15895, 11195, 28504, 119, 11597, 21047, 33068, 10134, 10491, 105739, 10230, 10169, 10105, 11639, 60503, 81371, 10419, 10108, 53623, 117, 10111, 10106, 10226, 38144, 48201, 12926, 102]\n"
     ]
    }
   ],
   "source": [
    "text1, text2 = sentences['train'][770]['text'].split(' <SEP> ')\n",
    "tokenized1 = tokenizer([text1, text2], [text1, text2], padding='max_length', max_length=512, truncation='longest_first')\n",
    "tokenized2 = tokenizer(text1, text2, padding='max_length', max_length=512, truncation='longest_first')\n",
    "\n",
    "\n",
    "print(tokenized2.input_ids[256:])\n"
   ]
  },
  {
   "cell_type": "code",
   "execution_count": 33,
   "metadata": {},
   "outputs": [],
   "source": [
    "import datasets\n",
    "import pandas as pd\n",
    "\n",
    "train_dataset = datasets.Dataset.from_pandas(pd.DataFrame(data=sentences['train']))\n",
    "val_dataset = datasets.Dataset.from_pandas(pd.DataFrame(data=sentences['val']))\n",
    "test_dataset = datasets.Dataset.from_pandas(pd.DataFrame(data=sentences['test']))"
   ]
  },
  {
   "cell_type": "code",
   "execution_count": 34,
   "metadata": {},
   "outputs": [
    {
     "data": {
      "application/vnd.jupyter.widget-view+json": {
       "model_id": "3bd5a1db30b647848f857ed9d6d74976",
       "version_major": 2,
       "version_minor": 0
      },
      "text/plain": [
       "Map:   0%|          | 0/17735 [00:00<?, ? examples/s]"
      ]
     },
     "metadata": {},
     "output_type": "display_data"
    },
    {
     "data": {
      "application/vnd.jupyter.widget-view+json": {
       "model_id": "0fe70b1d4846448facfe8cac59047153",
       "version_major": 2,
       "version_minor": 0
      },
      "text/plain": [
       "Map:   0%|          | 0/1175 [00:00<?, ? examples/s]"
      ]
     },
     "metadata": {},
     "output_type": "display_data"
    },
    {
     "data": {
      "application/vnd.jupyter.widget-view+json": {
       "model_id": "5bc6b50db4d2419bbf5189a719b5706b",
       "version_major": 2,
       "version_minor": 0
      },
      "text/plain": [
       "Map:   0%|          | 0/1175 [00:00<?, ? examples/s]"
      ]
     },
     "metadata": {},
     "output_type": "display_data"
    }
   ],
   "source": [
    "def preprocess_function(datum):\n",
    "    src, tgt = datum['text'].split(' <SEP> ')\n",
    "    return tokenizer(src, tgt, padding='max_length', max_length=512, truncation='longest_first')\n",
    "\n",
    "tokenized_train = train_dataset.map(preprocess_function)\n",
    "tokenized_val = val_dataset.map(preprocess_function)\n",
    "tokenized_test = test_dataset.map(preprocess_function)"
   ]
  },
  {
   "cell_type": "code",
   "execution_count": 35,
   "metadata": {},
   "outputs": [
    {
     "name": "stderr",
     "output_type": "stream",
     "text": [
      "2024-02-23 15:26:32.101179: I tensorflow/core/platform/cpu_feature_guard.cc:182] This TensorFlow binary is optimized to use available CPU instructions in performance-critical operations.\n",
      "To enable the following instructions: SSE4.1 SSE4.2 AVX AVX2 FMA, in other operations, rebuild TensorFlow with the appropriate compiler flags.\n"
     ]
    }
   ],
   "source": [
    "from transformers import DataCollatorWithPadding\n",
    "\n",
    "data_collator = DataCollatorWithPadding(tokenizer=tokenizer)"
   ]
  },
  {
   "cell_type": "code",
   "execution_count": 36,
   "metadata": {},
   "outputs": [],
   "source": [
    "import evaluate\n",
    "import numpy as np\n",
    "\n",
    "accuracy = evaluate.load(\"accuracy\")\n",
    "\n",
    "\n",
    "def compute_metrics(eval_pred):\n",
    "    predictions, labels = eval_pred\n",
    "    predictions = np.argmax(predictions, axis=1)\n",
    "    return accuracy.compute(predictions=predictions, references=labels)"
   ]
  },
  {
   "cell_type": "code",
   "execution_count": 37,
   "metadata": {},
   "outputs": [
    {
     "name": "stdout",
     "output_type": "stream",
     "text": [
      "{0: 'Garnett', 3: 'McDuff', 4: 'PV', 2: 'Katz', 1: 'Hogarth'}\n",
      "{'Garnett': 0, 'McDuff': 3, 'PV': 4, 'Katz': 2, 'Hogarth': 1}\n"
     ]
    }
   ],
   "source": [
    "label_list = [\"Garnett\", \"McDuff\", \"PV\", \"Katz\", \"Hogarth\"]\n",
    "id_list = le.transform(list(label_list))\n",
    "\n",
    "id2label = {}\n",
    "label2id = {}\n",
    "for l, i in zip(label_list, id_list):\n",
    "    id2label[i] = l\n",
    "    label2id[l] = i\n",
    "\n",
    "print(id2label)\n",
    "print(label2id)"
   ]
  },
  {
   "cell_type": "code",
   "execution_count": 38,
   "metadata": {},
   "outputs": [],
   "source": [
    "fine_tune = True"
   ]
  },
  {
   "cell_type": "code",
   "execution_count": 41,
   "metadata": {},
   "outputs": [
    {
     "name": "stderr",
     "output_type": "stream",
     "text": [
      "Some weights of BertForSequenceClassification were not initialized from the model checkpoint at bert-base-multilingual-cased and are newly initialized: ['classifier.bias', 'classifier.weight']\n",
      "You should probably TRAIN this model on a down-stream task to be able to use it for predictions and inference.\n"
     ]
    }
   ],
   "source": [
    "from numpy import mean\n",
    "from torch import nn\n",
    "from torch.utils.data import DataLoader\n",
    "from transformers import AutoModelForSequenceClassification, Trainer, TrainingArguments\n",
    "\n",
    "# device (turn on GPU acceleration for faster execution)\n",
    "# device = torch.device('cuda') if torch.cuda.is_available() else torch.device('cpu')\n",
    "\n",
    "if fine_tune:\n",
    "    # model\n",
    "    model = AutoModelForSequenceClassification.from_pretrained(\"bert-base-multilingual-cased\", num_labels = len(class_keys))\n",
    "    model.to(device)"
   ]
  },
  {
   "cell_type": "code",
   "execution_count": 42,
   "metadata": {},
   "outputs": [],
   "source": [
    "lr = 2e-5\n",
    "epochs = 5\n",
    "batch_size = 8"
   ]
  },
  {
   "cell_type": "code",
   "execution_count": 43,
   "metadata": {},
   "outputs": [
    {
     "name": "stderr",
     "output_type": "stream",
     "text": [
      "Failed to detect the name of this notebook, you can set it manually with the WANDB_NOTEBOOK_NAME environment variable to enable code saving.\n",
      "\u001b[34m\u001b[1mwandb\u001b[0m: Currently logged in as: \u001b[33mkkatsy\u001b[0m. Use \u001b[1m`wandb login --relogin`\u001b[0m to force relogin\n"
     ]
    },
    {
     "data": {
      "text/html": [
       "Tracking run with wandb version 0.16.3"
      ],
      "text/plain": [
       "<IPython.core.display.HTML object>"
      ]
     },
     "metadata": {},
     "output_type": "display_data"
    },
    {
     "data": {
      "text/html": [
       "Run data is saved locally in <code>/home/kkatsy/litMT/wandb/run-20240223_152722-wtsos231</code>"
      ],
      "text/plain": [
       "<IPython.core.display.HTML object>"
      ]
     },
     "metadata": {},
     "output_type": "display_data"
    },
    {
     "data": {
      "text/html": [
       "Syncing run <strong><a href='https://wandb.ai/kkatsy/translator-classification-aligned/runs/wtsos231' target=\"_blank\">dancing-envelope-29</a></strong> to <a href='https://wandb.ai/kkatsy/translator-classification-aligned' target=\"_blank\">Weights & Biases</a> (<a href='https://wandb.me/run' target=\"_blank\">docs</a>)<br/>"
      ],
      "text/plain": [
       "<IPython.core.display.HTML object>"
      ]
     },
     "metadata": {},
     "output_type": "display_data"
    },
    {
     "data": {
      "text/html": [
       " View project at <a href='https://wandb.ai/kkatsy/translator-classification-aligned' target=\"_blank\">https://wandb.ai/kkatsy/translator-classification-aligned</a>"
      ],
      "text/plain": [
       "<IPython.core.display.HTML object>"
      ]
     },
     "metadata": {},
     "output_type": "display_data"
    },
    {
     "data": {
      "text/html": [
       " View run at <a href='https://wandb.ai/kkatsy/translator-classification-aligned/runs/wtsos231' target=\"_blank\">https://wandb.ai/kkatsy/translator-classification-aligned/runs/wtsos231</a>"
      ],
      "text/plain": [
       "<IPython.core.display.HTML object>"
      ]
     },
     "metadata": {},
     "output_type": "display_data"
    }
   ],
   "source": [
    "import wandb\n",
    "\n",
    "run = wandb.init(\n",
    "        # Set the project where this run will be logged\n",
    "        project=\"translator-classification-aligned\",\n",
    "        # Track hyperparameters and run metadata\n",
    "        config={\n",
    "            \"learning_rate\": lr,\n",
    "            \"epochs\": epochs,\n",
    "        },\n",
    "    )\n",
    "\n",
    "os.environ[\"WANDB_PROJECT\"]=\"translator-classification-aligned\"\n",
    "os.environ[\"WANDB_NOTEBOOK_NAME\"]=\"translator-classification-aligned\""
   ]
  },
  {
   "cell_type": "code",
   "execution_count": 44,
   "metadata": {},
   "outputs": [
    {
     "name": "stderr",
     "output_type": "stream",
     "text": [
      "Detected kernel version 5.4.0, which is below the recommended minimum of 5.5.0; this can cause the process to hang. It is recommended to upgrade the kernel to the minimum version or higher.\n"
     ]
    }
   ],
   "source": [
    "if fine_tune:\n",
    "    training_args = TrainingArguments(\n",
    "        output_dir=\"/home/kkatsy/pretrained\",\n",
    "        learning_rate=lr,\n",
    "        per_device_train_batch_size=batch_size,\n",
    "        per_device_eval_batch_size=batch_size,\n",
    "        num_train_epochs=epochs,\n",
    "        weight_decay=0.01,\n",
    "        evaluation_strategy=\"epoch\",\n",
    "        save_strategy=\"epoch\",\n",
    "        load_best_model_at_end=False,\n",
    "        push_to_hub=False,\n",
    "        report_to=\"wandb\",\n",
    "        logging_dir=\"/home/kkatsy/litMT/logs/\",\n",
    "        logging_strategy=\"epoch\",\n",
    "        logging_first_step=False\n",
    "\n",
    "    )\n",
    "\n",
    "    trainer = Trainer(\n",
    "        model=model,\n",
    "        args=training_args,\n",
    "        train_dataset=tokenized_train,\n",
    "        eval_dataset=tokenized_val,\n",
    "        tokenizer=tokenizer,\n",
    "        data_collator=data_collator,\n",
    "        compute_metrics=compute_metrics\n",
    "    )"
   ]
  },
  {
   "cell_type": "code",
   "execution_count": 45,
   "metadata": {},
   "outputs": [
    {
     "data": {
      "text/html": [
       "\n",
       "    <div>\n",
       "      \n",
       "      <progress value='11085' max='11085' style='width:300px; height:20px; vertical-align: middle;'></progress>\n",
       "      [11085/11085 1:00:14, Epoch 5/5]\n",
       "    </div>\n",
       "    <table border=\"1\" class=\"dataframe\">\n",
       "  <thead>\n",
       " <tr style=\"text-align: left;\">\n",
       "      <th>Epoch</th>\n",
       "      <th>Training Loss</th>\n",
       "      <th>Validation Loss</th>\n",
       "      <th>Accuracy</th>\n",
       "    </tr>\n",
       "  </thead>\n",
       "  <tbody>\n",
       "    <tr>\n",
       "      <td>1</td>\n",
       "      <td>0.766400</td>\n",
       "      <td>1.578911</td>\n",
       "      <td>0.450213</td>\n",
       "    </tr>\n",
       "    <tr>\n",
       "      <td>2</td>\n",
       "      <td>0.433300</td>\n",
       "      <td>1.699028</td>\n",
       "      <td>0.490213</td>\n",
       "    </tr>\n",
       "    <tr>\n",
       "      <td>3</td>\n",
       "      <td>0.310500</td>\n",
       "      <td>2.055768</td>\n",
       "      <td>0.502979</td>\n",
       "    </tr>\n",
       "    <tr>\n",
       "      <td>4</td>\n",
       "      <td>0.225000</td>\n",
       "      <td>2.080844</td>\n",
       "      <td>0.582979</td>\n",
       "    </tr>\n",
       "    <tr>\n",
       "      <td>5</td>\n",
       "      <td>0.156200</td>\n",
       "      <td>2.391708</td>\n",
       "      <td>0.581277</td>\n",
       "    </tr>\n",
       "  </tbody>\n",
       "</table><p>"
      ],
      "text/plain": [
       "<IPython.core.display.HTML object>"
      ]
     },
     "metadata": {},
     "output_type": "display_data"
    },
    {
     "name": "stderr",
     "output_type": "stream",
     "text": [
      "Checkpoint destination directory /home/kkatsy/pretrained/checkpoint-2217 already exists and is non-empty.Saving will proceed but saved results may be invalid.\n",
      "Checkpoint destination directory /home/kkatsy/pretrained/checkpoint-4434 already exists and is non-empty.Saving will proceed but saved results may be invalid.\n"
     ]
    }
   ],
   "source": [
    "import warnings\n",
    "warnings.filterwarnings('ignore')\n",
    "\n",
    "if fine_tune:\n",
    "    trainer.train()"
   ]
  },
  {
   "cell_type": "code",
   "execution_count": 46,
   "metadata": {},
   "outputs": [
    {
     "data": {
      "text/html": [],
      "text/plain": [
       "<IPython.core.display.HTML object>"
      ]
     },
     "metadata": {},
     "output_type": "display_data"
    }
   ],
   "source": [
    "if fine_tune:\n",
    "    trainer.evaluate()"
   ]
  },
  {
   "cell_type": "code",
   "execution_count": 47,
   "metadata": {},
   "outputs": [
    {
     "data": {
      "text/plain": [
       "[{'loss': 0.7664,\n",
       "  'learning_rate': 1.6000000000000003e-05,\n",
       "  'epoch': 1.0,\n",
       "  'step': 2217},\n",
       " {'eval_loss': 1.5789110660552979,\n",
       "  'eval_accuracy': 0.4502127659574468,\n",
       "  'eval_runtime': 14.9443,\n",
       "  'eval_samples_per_second': 78.625,\n",
       "  'eval_steps_per_second': 9.837,\n",
       "  'epoch': 1.0,\n",
       "  'step': 2217},\n",
       " {'loss': 0.4333, 'learning_rate': 1.2e-05, 'epoch': 2.0, 'step': 4434},\n",
       " {'eval_loss': 1.699028491973877,\n",
       "  'eval_accuracy': 0.4902127659574468,\n",
       "  'eval_runtime': 14.9458,\n",
       "  'eval_samples_per_second': 78.617,\n",
       "  'eval_steps_per_second': 9.836,\n",
       "  'epoch': 2.0,\n",
       "  'step': 4434},\n",
       " {'loss': 0.3105,\n",
       "  'learning_rate': 8.000000000000001e-06,\n",
       "  'epoch': 3.0,\n",
       "  'step': 6651},\n",
       " {'eval_loss': 2.0557684898376465,\n",
       "  'eval_accuracy': 0.5029787234042553,\n",
       "  'eval_runtime': 14.983,\n",
       "  'eval_samples_per_second': 78.422,\n",
       "  'eval_steps_per_second': 9.811,\n",
       "  'epoch': 3.0,\n",
       "  'step': 6651},\n",
       " {'loss': 0.225,\n",
       "  'learning_rate': 4.000000000000001e-06,\n",
       "  'epoch': 4.0,\n",
       "  'step': 8868},\n",
       " {'eval_loss': 2.0808444023132324,\n",
       "  'eval_accuracy': 0.5829787234042553,\n",
       "  'eval_runtime': 14.9983,\n",
       "  'eval_samples_per_second': 78.342,\n",
       "  'eval_steps_per_second': 9.801,\n",
       "  'epoch': 4.0,\n",
       "  'step': 8868},\n",
       " {'loss': 0.1562, 'learning_rate': 0.0, 'epoch': 5.0, 'step': 11085},\n",
       " {'eval_loss': 2.3917083740234375,\n",
       "  'eval_accuracy': 0.5812765957446808,\n",
       "  'eval_runtime': 15.0068,\n",
       "  'eval_samples_per_second': 78.298,\n",
       "  'eval_steps_per_second': 9.796,\n",
       "  'epoch': 5.0,\n",
       "  'step': 11085},\n",
       " {'train_runtime': 3615.5431,\n",
       "  'train_samples_per_second': 24.526,\n",
       "  'train_steps_per_second': 3.066,\n",
       "  'total_flos': 2.33320012829952e+16,\n",
       "  'train_loss': 0.37828839637161,\n",
       "  'epoch': 5.0,\n",
       "  'step': 11085},\n",
       " {'eval_loss': 2.3917083740234375,\n",
       "  'eval_accuracy': 0.5812765957446808,\n",
       "  'eval_runtime': 14.8908,\n",
       "  'eval_samples_per_second': 78.908,\n",
       "  'eval_steps_per_second': 9.872,\n",
       "  'epoch': 5.0,\n",
       "  'step': 11085}]"
      ]
     },
     "execution_count": 47,
     "metadata": {},
     "output_type": "execute_result"
    }
   ],
   "source": [
    "trainer.state.log_history"
   ]
  },
  {
   "cell_type": "code",
   "execution_count": 50,
   "metadata": {},
   "outputs": [],
   "source": [
    "eval_loss = []\n",
    "eval_accuracy = []\n",
    "train_loss = []\n",
    "\n",
    "for d in trainer.state.log_history:\n",
    "    # run.log(d)\n",
    "    if 'eval_loss' in d.keys():\n",
    "        eval_loss.append(d['eval_loss'])\n",
    "        eval_accuracy.append(d['eval_accuracy'])\n",
    "    elif 'loss' in d.keys():\n",
    "        train_loss.append(d['loss'])\n",
    "        \n",
    "run_results = {'train_loss': train_loss, 'eval_loss':eval_loss, 'eval_accuracy': eval_accuracy}\n",
    "run.log(run_results)\n",
    "\n",
    "with open('/home/kkatsy/litMT/exp_logs/run_results.pickle', 'wb') as handle:\n",
    "    pickle.dump(run_results, handle, protocol=pickle.HIGHEST_PROTOCOL)"
   ]
  },
  {
   "cell_type": "code",
   "execution_count": 51,
   "metadata": {},
   "outputs": [
    {
     "data": {
      "text/html": [
       "<div>\n",
       "<style scoped>\n",
       "    .dataframe tbody tr th:only-of-type {\n",
       "        vertical-align: middle;\n",
       "    }\n",
       "\n",
       "    .dataframe tbody tr th {\n",
       "        vertical-align: top;\n",
       "    }\n",
       "\n",
       "    .dataframe thead th {\n",
       "        text-align: right;\n",
       "    }\n",
       "</style>\n",
       "<table border=\"1\" class=\"dataframe\">\n",
       "  <thead>\n",
       "    <tr style=\"text-align: right;\">\n",
       "      <th></th>\n",
       "      <th>loss</th>\n",
       "      <th>learning_rate</th>\n",
       "      <th>epoch</th>\n",
       "      <th>step</th>\n",
       "      <th>eval_loss</th>\n",
       "      <th>eval_accuracy</th>\n",
       "      <th>eval_runtime</th>\n",
       "      <th>eval_samples_per_second</th>\n",
       "      <th>eval_steps_per_second</th>\n",
       "      <th>train_runtime</th>\n",
       "      <th>train_samples_per_second</th>\n",
       "      <th>train_steps_per_second</th>\n",
       "      <th>total_flos</th>\n",
       "      <th>train_loss</th>\n",
       "    </tr>\n",
       "  </thead>\n",
       "  <tbody>\n",
       "    <tr>\n",
       "      <th>0</th>\n",
       "      <td>0.7664</td>\n",
       "      <td>0.000016</td>\n",
       "      <td>1.0</td>\n",
       "      <td>2217</td>\n",
       "      <td>NaN</td>\n",
       "      <td>NaN</td>\n",
       "      <td>NaN</td>\n",
       "      <td>NaN</td>\n",
       "      <td>NaN</td>\n",
       "      <td>NaN</td>\n",
       "      <td>NaN</td>\n",
       "      <td>NaN</td>\n",
       "      <td>NaN</td>\n",
       "      <td>NaN</td>\n",
       "    </tr>\n",
       "    <tr>\n",
       "      <th>1</th>\n",
       "      <td>NaN</td>\n",
       "      <td>NaN</td>\n",
       "      <td>1.0</td>\n",
       "      <td>2217</td>\n",
       "      <td>1.578911</td>\n",
       "      <td>0.450213</td>\n",
       "      <td>14.9443</td>\n",
       "      <td>78.625</td>\n",
       "      <td>9.837</td>\n",
       "      <td>NaN</td>\n",
       "      <td>NaN</td>\n",
       "      <td>NaN</td>\n",
       "      <td>NaN</td>\n",
       "      <td>NaN</td>\n",
       "    </tr>\n",
       "    <tr>\n",
       "      <th>2</th>\n",
       "      <td>0.4333</td>\n",
       "      <td>0.000012</td>\n",
       "      <td>2.0</td>\n",
       "      <td>4434</td>\n",
       "      <td>NaN</td>\n",
       "      <td>NaN</td>\n",
       "      <td>NaN</td>\n",
       "      <td>NaN</td>\n",
       "      <td>NaN</td>\n",
       "      <td>NaN</td>\n",
       "      <td>NaN</td>\n",
       "      <td>NaN</td>\n",
       "      <td>NaN</td>\n",
       "      <td>NaN</td>\n",
       "    </tr>\n",
       "    <tr>\n",
       "      <th>3</th>\n",
       "      <td>NaN</td>\n",
       "      <td>NaN</td>\n",
       "      <td>2.0</td>\n",
       "      <td>4434</td>\n",
       "      <td>1.699028</td>\n",
       "      <td>0.490213</td>\n",
       "      <td>14.9458</td>\n",
       "      <td>78.617</td>\n",
       "      <td>9.836</td>\n",
       "      <td>NaN</td>\n",
       "      <td>NaN</td>\n",
       "      <td>NaN</td>\n",
       "      <td>NaN</td>\n",
       "      <td>NaN</td>\n",
       "    </tr>\n",
       "    <tr>\n",
       "      <th>4</th>\n",
       "      <td>0.3105</td>\n",
       "      <td>0.000008</td>\n",
       "      <td>3.0</td>\n",
       "      <td>6651</td>\n",
       "      <td>NaN</td>\n",
       "      <td>NaN</td>\n",
       "      <td>NaN</td>\n",
       "      <td>NaN</td>\n",
       "      <td>NaN</td>\n",
       "      <td>NaN</td>\n",
       "      <td>NaN</td>\n",
       "      <td>NaN</td>\n",
       "      <td>NaN</td>\n",
       "      <td>NaN</td>\n",
       "    </tr>\n",
       "    <tr>\n",
       "      <th>5</th>\n",
       "      <td>NaN</td>\n",
       "      <td>NaN</td>\n",
       "      <td>3.0</td>\n",
       "      <td>6651</td>\n",
       "      <td>2.055768</td>\n",
       "      <td>0.502979</td>\n",
       "      <td>14.9830</td>\n",
       "      <td>78.422</td>\n",
       "      <td>9.811</td>\n",
       "      <td>NaN</td>\n",
       "      <td>NaN</td>\n",
       "      <td>NaN</td>\n",
       "      <td>NaN</td>\n",
       "      <td>NaN</td>\n",
       "    </tr>\n",
       "    <tr>\n",
       "      <th>6</th>\n",
       "      <td>0.2250</td>\n",
       "      <td>0.000004</td>\n",
       "      <td>4.0</td>\n",
       "      <td>8868</td>\n",
       "      <td>NaN</td>\n",
       "      <td>NaN</td>\n",
       "      <td>NaN</td>\n",
       "      <td>NaN</td>\n",
       "      <td>NaN</td>\n",
       "      <td>NaN</td>\n",
       "      <td>NaN</td>\n",
       "      <td>NaN</td>\n",
       "      <td>NaN</td>\n",
       "      <td>NaN</td>\n",
       "    </tr>\n",
       "    <tr>\n",
       "      <th>7</th>\n",
       "      <td>NaN</td>\n",
       "      <td>NaN</td>\n",
       "      <td>4.0</td>\n",
       "      <td>8868</td>\n",
       "      <td>2.080844</td>\n",
       "      <td>0.582979</td>\n",
       "      <td>14.9983</td>\n",
       "      <td>78.342</td>\n",
       "      <td>9.801</td>\n",
       "      <td>NaN</td>\n",
       "      <td>NaN</td>\n",
       "      <td>NaN</td>\n",
       "      <td>NaN</td>\n",
       "      <td>NaN</td>\n",
       "    </tr>\n",
       "    <tr>\n",
       "      <th>8</th>\n",
       "      <td>0.1562</td>\n",
       "      <td>0.000000</td>\n",
       "      <td>5.0</td>\n",
       "      <td>11085</td>\n",
       "      <td>NaN</td>\n",
       "      <td>NaN</td>\n",
       "      <td>NaN</td>\n",
       "      <td>NaN</td>\n",
       "      <td>NaN</td>\n",
       "      <td>NaN</td>\n",
       "      <td>NaN</td>\n",
       "      <td>NaN</td>\n",
       "      <td>NaN</td>\n",
       "      <td>NaN</td>\n",
       "    </tr>\n",
       "    <tr>\n",
       "      <th>9</th>\n",
       "      <td>NaN</td>\n",
       "      <td>NaN</td>\n",
       "      <td>5.0</td>\n",
       "      <td>11085</td>\n",
       "      <td>2.391708</td>\n",
       "      <td>0.581277</td>\n",
       "      <td>15.0068</td>\n",
       "      <td>78.298</td>\n",
       "      <td>9.796</td>\n",
       "      <td>NaN</td>\n",
       "      <td>NaN</td>\n",
       "      <td>NaN</td>\n",
       "      <td>NaN</td>\n",
       "      <td>NaN</td>\n",
       "    </tr>\n",
       "    <tr>\n",
       "      <th>10</th>\n",
       "      <td>NaN</td>\n",
       "      <td>NaN</td>\n",
       "      <td>5.0</td>\n",
       "      <td>11085</td>\n",
       "      <td>NaN</td>\n",
       "      <td>NaN</td>\n",
       "      <td>NaN</td>\n",
       "      <td>NaN</td>\n",
       "      <td>NaN</td>\n",
       "      <td>3615.5431</td>\n",
       "      <td>24.526</td>\n",
       "      <td>3.066</td>\n",
       "      <td>2.333200e+16</td>\n",
       "      <td>0.378288</td>\n",
       "    </tr>\n",
       "    <tr>\n",
       "      <th>11</th>\n",
       "      <td>NaN</td>\n",
       "      <td>NaN</td>\n",
       "      <td>5.0</td>\n",
       "      <td>11085</td>\n",
       "      <td>2.391708</td>\n",
       "      <td>0.581277</td>\n",
       "      <td>14.8908</td>\n",
       "      <td>78.908</td>\n",
       "      <td>9.872</td>\n",
       "      <td>NaN</td>\n",
       "      <td>NaN</td>\n",
       "      <td>NaN</td>\n",
       "      <td>NaN</td>\n",
       "      <td>NaN</td>\n",
       "    </tr>\n",
       "  </tbody>\n",
       "</table>\n",
       "</div>"
      ],
      "text/plain": [
       "      loss  learning_rate  epoch   step  eval_loss  eval_accuracy  \\\n",
       "0   0.7664       0.000016    1.0   2217        NaN            NaN   \n",
       "1      NaN            NaN    1.0   2217   1.578911       0.450213   \n",
       "2   0.4333       0.000012    2.0   4434        NaN            NaN   \n",
       "3      NaN            NaN    2.0   4434   1.699028       0.490213   \n",
       "4   0.3105       0.000008    3.0   6651        NaN            NaN   \n",
       "5      NaN            NaN    3.0   6651   2.055768       0.502979   \n",
       "6   0.2250       0.000004    4.0   8868        NaN            NaN   \n",
       "7      NaN            NaN    4.0   8868   2.080844       0.582979   \n",
       "8   0.1562       0.000000    5.0  11085        NaN            NaN   \n",
       "9      NaN            NaN    5.0  11085   2.391708       0.581277   \n",
       "10     NaN            NaN    5.0  11085        NaN            NaN   \n",
       "11     NaN            NaN    5.0  11085   2.391708       0.581277   \n",
       "\n",
       "    eval_runtime  eval_samples_per_second  eval_steps_per_second  \\\n",
       "0            NaN                      NaN                    NaN   \n",
       "1        14.9443                   78.625                  9.837   \n",
       "2            NaN                      NaN                    NaN   \n",
       "3        14.9458                   78.617                  9.836   \n",
       "4            NaN                      NaN                    NaN   \n",
       "5        14.9830                   78.422                  9.811   \n",
       "6            NaN                      NaN                    NaN   \n",
       "7        14.9983                   78.342                  9.801   \n",
       "8            NaN                      NaN                    NaN   \n",
       "9        15.0068                   78.298                  9.796   \n",
       "10           NaN                      NaN                    NaN   \n",
       "11       14.8908                   78.908                  9.872   \n",
       "\n",
       "    train_runtime  train_samples_per_second  train_steps_per_second  \\\n",
       "0             NaN                       NaN                     NaN   \n",
       "1             NaN                       NaN                     NaN   \n",
       "2             NaN                       NaN                     NaN   \n",
       "3             NaN                       NaN                     NaN   \n",
       "4             NaN                       NaN                     NaN   \n",
       "5             NaN                       NaN                     NaN   \n",
       "6             NaN                       NaN                     NaN   \n",
       "7             NaN                       NaN                     NaN   \n",
       "8             NaN                       NaN                     NaN   \n",
       "9             NaN                       NaN                     NaN   \n",
       "10      3615.5431                    24.526                   3.066   \n",
       "11            NaN                       NaN                     NaN   \n",
       "\n",
       "      total_flos  train_loss  \n",
       "0            NaN         NaN  \n",
       "1            NaN         NaN  \n",
       "2            NaN         NaN  \n",
       "3            NaN         NaN  \n",
       "4            NaN         NaN  \n",
       "5            NaN         NaN  \n",
       "6            NaN         NaN  \n",
       "7            NaN         NaN  \n",
       "8            NaN         NaN  \n",
       "9            NaN         NaN  \n",
       "10  2.333200e+16    0.378288  \n",
       "11           NaN         NaN  "
      ]
     },
     "execution_count": 51,
     "metadata": {},
     "output_type": "execute_result"
    }
   ],
   "source": [
    "pd.DataFrame(trainer.state.log_history)"
   ]
  },
  {
   "cell_type": "markdown",
   "metadata": {},
   "source": [
    "## Load Model"
   ]
  },
  {
   "cell_type": "code",
   "execution_count": 52,
   "metadata": {},
   "outputs": [],
   "source": [
    "# import gc\n",
    "# del model\n",
    "# gc.collect()\n",
    "\n",
    "# torch.cuda.empty_cache()"
   ]
  },
  {
   "cell_type": "code",
   "execution_count": 53,
   "metadata": {},
   "outputs": [],
   "source": [
    "load_tuned = False"
   ]
  },
  {
   "cell_type": "code",
   "execution_count": null,
   "metadata": {},
   "outputs": [],
   "source": []
  },
  {
   "cell_type": "code",
   "execution_count": 54,
   "metadata": {},
   "outputs": [],
   "source": [
    "if load_tuned:\n",
    "    model = AutoModelForSequenceClassification.from_pretrained(\"/trunk/kkatsy/aligned_20epochs_holdout\")\n",
    "    model.to(device)"
   ]
  },
  {
   "cell_type": "code",
   "execution_count": 55,
   "metadata": {},
   "outputs": [],
   "source": [
    "if load_tuned:\n",
    "\n",
    "    trainer = Trainer(\n",
    "        model=model,\n",
    "        train_dataset=tokenized_train,\n",
    "        eval_dataset=tokenized_val,\n",
    "        tokenizer=tokenizer,\n",
    "        data_collator=data_collator,\n",
    "        compute_metrics=compute_metrics\n",
    "    )"
   ]
  },
  {
   "cell_type": "markdown",
   "metadata": {},
   "source": [
    "## Evaluate"
   ]
  },
  {
   "cell_type": "code",
   "execution_count": 56,
   "metadata": {},
   "outputs": [],
   "source": [
    "if load_tuned:\n",
    "    trainer.evaluate()"
   ]
  },
  {
   "cell_type": "code",
   "execution_count": 57,
   "metadata": {},
   "outputs": [],
   "source": [
    "predictions, labels, metrics = trainer.predict(tokenized_test, metric_key_prefix=\"predict\")"
   ]
  },
  {
   "cell_type": "code",
   "execution_count": 58,
   "metadata": {},
   "outputs": [],
   "source": [
    "preds = np.argmax(predictions, axis=-1)\n",
    "\n",
    "pred_true = {'pred': preds, 'true': list(test_dataset['label'])}\n",
    "\n",
    "with open('/home/kkatsy/litMT/exp_logs/pred_true.pickle', 'wb') as handle:\n",
    "    pickle.dump(pred_true, handle, protocol=pickle.HIGHEST_PROTOCOL)"
   ]
  },
  {
   "cell_type": "code",
   "execution_count": 59,
   "metadata": {},
   "outputs": [
    {
     "data": {
      "text/plain": [
       "{'Garnett': 229, 'McDuff': 172, 'PV': 270, 'Katz': 288, 'Hogarth': 216}"
      ]
     },
     "execution_count": 59,
     "metadata": {},
     "output_type": "execute_result"
    }
   ],
   "source": [
    "translators = [id2label[l] for l in preds]\n",
    "\n",
    "pred_count = {}\n",
    "for i in label2id.keys():\n",
    "    count = translators.count(i)\n",
    "    pred_count[i] = count\n",
    "\n",
    "pred_count"
   ]
  },
  {
   "cell_type": "code",
   "execution_count": 60,
   "metadata": {},
   "outputs": [
    {
     "data": {
      "image/png": "[encoded data removed]",
      "text/plain": [
       "<Figure size 1000x500 with 1 Axes>"
      ]
     },
     "metadata": {},
     "output_type": "display_data"
    },
    {
     "data": {
      "text/plain": [
       "<Figure size 640x480 with 0 Axes>"
      ]
     },
     "metadata": {},
     "output_type": "display_data"
    }
   ],
   "source": [
    "import matplotlib.pyplot as plt\n",
    "\n",
    "\n",
    "courses = list(pred_count.keys())\n",
    "values = list(pred_count.values())\n",
    "  \n",
    "fig = plt.figure(figsize = (10, 5))\n",
    " \n",
    "# creating the bar plot\n",
    "plt.bar(courses, values, width = 0.4)\n",
    "plt.title(\"Predicted Distribution\")\n",
    "plt.show()\n",
    "plt.savefig('/home/kkatsy/litMT/exp_logs/Predicted Distribution.png')"
   ]
  },
  {
   "cell_type": "code",
   "execution_count": 61,
   "metadata": {},
   "outputs": [
    {
     "data": {
      "text/plain": [
       "{'Garnett': 235, 'McDuff': 235, 'PV': 235, 'Katz': 235, 'Hogarth': 235}"
      ]
     },
     "execution_count": 61,
     "metadata": {},
     "output_type": "execute_result"
    }
   ],
   "source": [
    "true_count = {}\n",
    "for i in id2label.keys():\n",
    "    count = list(test_dataset['label']).count(i)\n",
    "    true_count[id2label[i]] = count\n",
    "\n",
    "true_count"
   ]
  },
  {
   "cell_type": "code",
   "execution_count": 62,
   "metadata": {},
   "outputs": [
    {
     "data": {
      "image/png": "[encoded data removed]",
      "text/plain": [
       "<Figure size 1000x500 with 1 Axes>"
      ]
     },
     "metadata": {},
     "output_type": "display_data"
    }
   ],
   "source": [
    "courses = list(true_count.keys())\n",
    "values = list(true_count.values())\n",
    "  \n",
    "fig2 = plt.figure(figsize = (10, 5))\n",
    " \n",
    "# creating the bar plot\n",
    "plt.bar(courses, values, width = 0.4)\n",
    "plt.title(\"Actual Distribution\")\n",
    "plt.show()"
   ]
  },
  {
   "cell_type": "code",
   "execution_count": 69,
   "metadata": {},
   "outputs": [
    {
     "data": {
      "image/png": "[encoded data removed]",
      "text/plain": [
       "<Figure size 640x480 with 1 Axes>"
      ]
     },
     "metadata": {},
     "output_type": "display_data"
    }
   ],
   "source": [
    "X = ['Group A','Group B','Group C','Group D'] \n",
    "Ygirls = [10,20,20,40] \n",
    "Zboys = [20,30,25,30] \n",
    "  \n",
    "predicted = list(pred_count.values())\n",
    "actual = list(true_count.values())\n",
    "X_axis = np.arange(len(label_list))\n",
    "  \n",
    "plt.bar(X_axis - 0.2, actual, 0.4, label = 'TRUE', color='firebrick') \n",
    "plt.bar(X_axis + 0.2, predicted, 0.4, label = 'PRED', color='steelblue') \n",
    "  \n",
    "plt.xticks(X_axis, label_list) \n",
    "plt.xlabel(\"Translators\") \n",
    "plt.ylabel(\"Translator Par Counts\") \n",
    "plt.title(\"Predicted vs True Translator Distribution\") \n",
    "plt.legend() \n",
    "plt.show() "
   ]
  },
  {
   "cell_type": "code",
   "execution_count": 63,
   "metadata": {},
   "outputs": [
    {
     "name": "stdout",
     "output_type": "stream",
     "text": [
      "Test Accuracy:  0.548936170212766\n"
     ]
    },
    {
     "data": {
      "image/png": "[encoded data removed]",
      "text/plain": [
       "<Figure size 640x480 with 2 Axes>"
      ]
     },
     "metadata": {},
     "output_type": "display_data"
    },
    {
     "data": {
      "text/plain": [
       "<Figure size 640x480 with 0 Axes>"
      ]
     },
     "metadata": {},
     "output_type": "display_data"
    }
   ],
   "source": [
    "import matplotlib.pyplot as plt\n",
    "import numpy\n",
    "from sklearn import metrics\n",
    "\n",
    "acc = metrics.accuracy_score(labels, preds)\n",
    "run.log({\"Test accuracy\":acc})\n",
    "print('Test Accuracy: ', acc)\n",
    "\n",
    "confusion_matrix = metrics.confusion_matrix(labels, preds, normalize='pred')\n",
    "cm_display = metrics.ConfusionMatrixDisplay(confusion_matrix = confusion_matrix, display_labels=label2id)\n",
    "cm_display.plot()\n",
    "plt.show()\n",
    "plt.savefig('/home/kkatsy/litMT/exp_logs/Confusion Matrix')"
   ]
  },
  {
   "cell_type": "code",
   "execution_count": 64,
   "metadata": {},
   "outputs": [
    {
     "name": "stderr",
     "output_type": "stream",
     "text": [
      "wandb: WARNING Source type is set to 'repo' but some required information is missing from the environment. A job will not be created from this run. See https://docs.wandb.ai/guides/launch/create-job\n"
     ]
    },
    {
     "data": {
      "application/vnd.jupyter.widget-view+json": {
       "model_id": "cdbd1f8260b04b46b5019c71f72028e8",
       "version_major": 2,
       "version_minor": 0
      },
      "text/plain": [
       "VBox(children=(Label(value='0.006 MB of 0.006 MB uploaded\\r'), FloatProgress(value=1.0, max=1.0)))"
      ]
     },
     "metadata": {},
     "output_type": "display_data"
    },
    {
     "data": {
      "text/html": [
       "<style>\n",
       "    table.wandb td:nth-child(1) { padding: 0 10px; text-align: left ; width: auto;} td:nth-child(2) {text-align: left ; width: 100%}\n",
       "    .wandb-row { display: flex; flex-direction: row; flex-wrap: wrap; justify-content: flex-start; width: 100% }\n",
       "    .wandb-col { display: flex; flex-direction: column; flex-basis: 100%; flex: 1; padding: 10px; }\n",
       "    </style>\n",
       "<div class=\"wandb-row\"><div class=\"wandb-col\"><h3>Run history:</h3><br/><table class=\"wandb\"><tr><td>Test accuracy</td><td>▁</td></tr><tr><td>eval/accuracy</td><td>▁▃▄███</td></tr><tr><td>eval/loss</td><td>▁▂▅▅██</td></tr><tr><td>eval/runtime</td><td>▄▄▇▇█▁</td></tr><tr><td>eval/samples_per_second</td><td>▅▅▂▂▁█</td></tr><tr><td>eval/steps_per_second</td><td>▅▅▂▁▁█</td></tr><tr><td>train/epoch</td><td>▁▁▃▃▅▅▆▆████</td></tr><tr><td>train/global_step</td><td>▁▁▃▃▅▅▆▆███████</td></tr><tr><td>train/learning_rate</td><td>█▆▅▃▁</td></tr><tr><td>train/loss</td><td>█▄▃▂▁</td></tr><tr><td>train/total_flos</td><td>▁</td></tr><tr><td>train/train_loss</td><td>▁</td></tr><tr><td>train/train_runtime</td><td>▁</td></tr><tr><td>train/train_samples_per_second</td><td>▁</td></tr><tr><td>train/train_steps_per_second</td><td>▁</td></tr></table><br/></div><div class=\"wandb-col\"><h3>Run summary:</h3><br/><table class=\"wandb\"><tr><td>Test accuracy</td><td>0.54894</td></tr><tr><td>eval/accuracy</td><td>0.58128</td></tr><tr><td>eval/loss</td><td>2.39171</td></tr><tr><td>eval/runtime</td><td>14.8908</td></tr><tr><td>eval/samples_per_second</td><td>78.908</td></tr><tr><td>eval/steps_per_second</td><td>9.872</td></tr><tr><td>train/epoch</td><td>5.0</td></tr><tr><td>train/global_step</td><td>11085</td></tr><tr><td>train/learning_rate</td><td>0.0</td></tr><tr><td>train/loss</td><td>0.1562</td></tr><tr><td>train/total_flos</td><td>2.33320012829952e+16</td></tr><tr><td>train/train_loss</td><td>0.37829</td></tr><tr><td>train/train_runtime</td><td>3615.5431</td></tr><tr><td>train/train_samples_per_second</td><td>24.526</td></tr><tr><td>train/train_steps_per_second</td><td>3.066</td></tr></table><br/></div></div>"
      ],
      "text/plain": [
       "<IPython.core.display.HTML object>"
      ]
     },
     "metadata": {},
     "output_type": "display_data"
    },
    {
     "data": {
      "text/html": [
       " View run <strong style=\"color:#cdcd00\">dancing-envelope-29</strong> at: <a href='https://wandb.ai/kkatsy/translator-classification-aligned/runs/wtsos231' target=\"_blank\">https://wandb.ai/kkatsy/translator-classification-aligned/runs/wtsos231</a><br/>Synced 6 W&B file(s), 0 media file(s), 0 artifact file(s) and 0 other file(s)"
      ],
      "text/plain": [
       "<IPython.core.display.HTML object>"
      ]
     },
     "metadata": {},
     "output_type": "display_data"
    },
    {
     "data": {
      "text/html": [
       "Find logs at: <code>./wandb/run-20240223_152722-wtsos231/logs</code>"
      ],
      "text/plain": [
       "<IPython.core.display.HTML object>"
      ]
     },
     "metadata": {},
     "output_type": "display_data"
    }
   ],
   "source": [
    "# idiom lookup: search russian and english datasets for idioms\n",
    "# english idiom dataset\n",
    "wandb.finish()"
   ]
  }
 ],
 "metadata": {
  "kernelspec": {
   "display_name": "base",
   "language": "python",
   "name": "python3"
  },
  "language_info": {
   "codemirror_mode": {
    "name": "ipython",
    "version": 3
   },
   "file_extension": ".py",
   "mimetype": "text/x-python",
   "name": "python",
   "nbconvert_exporter": "python",
   "pygments_lexer": "ipython3",
   "version": "3.11.7"
  }
 },
 "nbformat": 4,
 "nbformat_minor": 2
}
