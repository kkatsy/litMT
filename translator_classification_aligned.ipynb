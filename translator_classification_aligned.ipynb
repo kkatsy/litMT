{
 "cells": [
  {
   "cell_type": "markdown",
   "metadata": {},
   "source": [
    "## Init"
   ]
  },
  {
   "cell_type": "code",
   "execution_count": 1,
   "metadata": {},
   "outputs": [],
   "source": [
    "import os\n",
    "os.environ[\"CUDA_VISIBLE_DEVICES\"] = \"1\""
   ]
  },
  {
   "cell_type": "code",
   "execution_count": 2,
   "metadata": {},
   "outputs": [
    {
     "name": "stdout",
     "output_type": "stream",
     "text": [
      "cuda\n"
     ]
    }
   ],
   "source": [
    "import torch\n",
    "\n",
    "if torch.cuda.is_available():\n",
    "  dev = \"cuda\"\n",
    "else:\n",
    "  dev = \"cpu\"\n",
    "device = torch.device(dev)\n",
    "\n",
    "# device = torch.device('cpu')\n",
    "print(device)"
   ]
  },
  {
   "cell_type": "markdown",
   "metadata": {},
   "source": [
    "## SIM score"
   ]
  },
  {
   "cell_type": "code",
   "execution_count": 3,
   "metadata": {},
   "outputs": [],
   "source": [
    "# %load par3/par3_align/similarity/sim_models.py\n",
    "import torch\n",
    "import torch.nn as nn\n",
    "from torch.nn.modules.distance import CosineSimilarity\n",
    "import numpy as np\n",
    "\n",
    "class ParaModel(nn.Module):\n",
    "\n",
    "    def __init__(self, args, vocab):\n",
    "        super(ParaModel, self).__init__()\n",
    "\n",
    "        self.args = args\n",
    "        self.vocab = vocab\n",
    "        self.gpu = args.gpu\n",
    "\n",
    "        self.cosine = CosineSimilarity()\n",
    "\n",
    "    def compute_mask(self, lengths):\n",
    "\n",
    "        lengths = lengths.cpu()\n",
    "        max_len = torch.max(lengths)\n",
    "        range_row = torch.arange(0, max_len).long()[None, :].expand(lengths.size()[0], max_len)\n",
    "        mask = lengths[:, None].expand_as(range_row)\n",
    "        mask = range_row < mask\n",
    "        mask = mask.float()\n",
    "        if self.gpu >= 0:\n",
    "            mask = mask.cuda()\n",
    "        return mask\n",
    "\n",
    "    def torchify_batch(self, batch):\n",
    "\n",
    "        max_len = 0\n",
    "        for i in batch:\n",
    "            if len(i.embeddings) > max_len:\n",
    "                max_len = len(i.embeddings)\n",
    "\n",
    "        batch_len = len(batch)\n",
    "\n",
    "        np_sents = np.zeros((batch_len, max_len), dtype='int32')\n",
    "        np_lens = np.zeros((batch_len,), dtype='int32')\n",
    "\n",
    "        for i, ex in enumerate(batch):\n",
    "            np_sents[i, :len(ex.embeddings)] = ex.embeddings\n",
    "            np_lens[i] = len(ex.embeddings)\n",
    "\n",
    "        idxs, lengths, masks = torch.from_numpy(np_sents).long(), \\\n",
    "                               torch.from_numpy(np_lens).float().long(), \\\n",
    "                               self.compute_mask(torch.from_numpy(np_lens).long())\n",
    "\n",
    "        if self.gpu >= 0:\n",
    "            idxs = idxs.cuda()\n",
    "            lengths = lengths.cuda()\n",
    "            masks = masks.cuda()\n",
    "    \n",
    "        return idxs, lengths, masks\n",
    "\n",
    "    def scoring_function(self, g_idxs1, g_mask1, g_lengths1, g_idxs2, g_mask2, g_lengths2):\n",
    "\n",
    "        g1 = self.encode(g_idxs1, g_mask1, g_lengths1)\n",
    "        g2 = self.encode(g_idxs2, g_mask2, g_lengths2)\n",
    "        return self.cosine(g1, g2)\n",
    "\n",
    "class WordAveraging(ParaModel):\n",
    "\n",
    "    def __init__(self, args, vocab):\n",
    "        super(WordAveraging, self).__init__(args, vocab)\n",
    "\n",
    "        self.vocab = vocab\n",
    "        self.embedding = nn.Embedding(len(self.vocab), self.args.dim)\n",
    "\n",
    "        if args.gpu >= 0:\n",
    "           self.cuda()\n",
    "\n",
    "    def encode(self, idxs, mask, lengths):\n",
    "        word_embs = self.embedding(idxs)\n",
    "        word_embs = word_embs * mask[:, :, None]\n",
    "        g = word_embs.sum(dim=1) / lengths[:, None].float()\n",
    "        return g"
   ]
  },
  {
   "cell_type": "code",
   "execution_count": 4,
   "metadata": {},
   "outputs": [],
   "source": [
    "# %load par3/par3_align/similarity/sim_utils.py\n",
    "import io\n",
    "import numpy as np\n",
    "import torch\n",
    "\n",
    "def get_wordmap(textfile):\n",
    "    words={}\n",
    "    We = []\n",
    "    f = io.open(textfile, 'r', encoding='utf-8')\n",
    "    lines = f.readlines()\n",
    "    if len(lines[0].split()) == 2:\n",
    "        lines.pop(0)\n",
    "    ct = 0\n",
    "    for (n,i) in enumerate(lines):\n",
    "        word = i.split(' ', 1)[0]\n",
    "        vec = i.split(' ', 1)[1].split(' ')\n",
    "        j = 0\n",
    "        v = []\n",
    "        while j < len(vec):\n",
    "            v.append(float(vec[j]))\n",
    "            j += 1\n",
    "        words[word] = ct\n",
    "        ct += 1\n",
    "        We.append(v)\n",
    "    return words, np.array(We)\n",
    "\n",
    "def get_minibatches_idx(n, minibatch_size, shuffle=False):\n",
    "    idx_list = np.arange(n, dtype=\"int32\")\n",
    "\n",
    "    if shuffle:\n",
    "        np.random.shuffle(idx_list)\n",
    "\n",
    "    minibatches = []\n",
    "    minibatch_start = 0\n",
    "    for i in range(n // minibatch_size):\n",
    "        minibatches.append(idx_list[minibatch_start:\n",
    "                                    minibatch_start + minibatch_size])\n",
    "        minibatch_start += minibatch_size\n",
    "\n",
    "    if (minibatch_start != n):\n",
    "        # Make a minibatch out of what is left\n",
    "        minibatches.append(idx_list[minibatch_start:])\n",
    "\n",
    "    return zip(range(len(minibatches)), minibatches)\n",
    "\n",
    "def max_pool(x, lengths, gpu):\n",
    "    out = torch.FloatTensor(x.size(0), x.size(2)).zero_()\n",
    "    if gpu >= 0:\n",
    "        out = out.cuda()\n",
    "    for i in range(len(lengths)):\n",
    "        out[i] = torch.max(x[i][0:lengths[i]], 0)[0]\n",
    "    return out\n",
    "\n",
    "def mean_pool(x, lengths, gpu):\n",
    "    out = torch.FloatTensor(x.size(0), x.size(2)).zero_()\n",
    "    if gpu >= 0:\n",
    "        out = out.cuda()\n",
    "    for i in range(len(lengths)):\n",
    "        out[i] = torch.mean(x[i][0:lengths[i]], 0)\n",
    "    return out\n",
    "\n",
    "def lookup(words, w):\n",
    "    w = w.lower()\n",
    "    if w in words:\n",
    "        return words[w]\n",
    "\n",
    "class Example(object):\n",
    "\n",
    "    def __init__(self, sentence):\n",
    "        self.sentence = sentence.strip().lower()\n",
    "        self.embeddings = []\n",
    "        self.representation = None\n",
    "\n",
    "    def populate_embeddings(self, words):\n",
    "        sentence = self.sentence.lower()\n",
    "        arr = sentence.split()\n",
    "        for i in arr:\n",
    "            emb = lookup(words, i)\n",
    "            if emb:\n",
    "                self.embeddings.append(emb)\n",
    "        if len(self.embeddings) == 0:\n",
    "            self.embeddings.append(words['UUUNKKK'])"
   ]
  },
  {
   "cell_type": "code",
   "execution_count": 5,
   "metadata": {},
   "outputs": [
    {
     "name": "stderr",
     "output_type": "stream",
     "text": [
      "/home/kkatsy/anaconda3/lib/python3.11/site-packages/torch/cuda/__init__.py:611: UserWarning: Can't initialize NVML\n",
      "  warnings.warn(\"Can't initialize NVML\")\n"
     ]
    }
   ],
   "source": [
    "# %load par3/par3_align/similarity/test_sim.py\n",
    "import torch\n",
    "from nltk.tokenize import TreebankWordTokenizer\n",
    "import sentencepiece as spm\n",
    "\n",
    "tok = TreebankWordTokenizer()\n",
    "\n",
    "model = torch.load('/home/kkatsy/par3/par3_align/similarity/sim/sim.pt')\n",
    "state_dict = model['state_dict']\n",
    "vocab_words = model['vocab_words']\n",
    "args = model['args']\n",
    "# turn off gpu\n",
    "model = WordAveraging(args, vocab_words)\n",
    "model.load_state_dict(state_dict, strict=True)\n",
    "sp = spm.SentencePieceProcessor()\n",
    "sp.Load('/home/kkatsy/par3/par3_align/similarity/sim/sim.sp.30k.model')\n",
    "model.eval()\n",
    "\n",
    "def make_example(sentence, model):\n",
    "    sentence = sentence.lower()\n",
    "    sentence = \" \".join(tok.tokenize(sentence))\n",
    "    sentence = sp.EncodeAsPieces(sentence)\n",
    "    wp1 = Example(\" \".join(sentence))\n",
    "    wp1.populate_embeddings(model.vocab)\n",
    "    return wp1\n",
    "\n",
    "def find_similarity(s1, s2):\n",
    "    with torch.no_grad():\n",
    "        s1 = [make_example(x, model) for x in s1]\n",
    "        s2 = [make_example(x, model) for x in s2]\n",
    "        wx1, wl1, wm1 = model.torchify_batch(s1)\n",
    "        wx2, wl2, wm2 = model.torchify_batch(s2)\n",
    "        BATCH_SIZE = 512\n",
    "        all_scores = []\n",
    "        for i in range(0, len(wx1), BATCH_SIZE):\n",
    "            scores = model.scoring_function(wx1[i:i + BATCH_SIZE], wm1[i:i + BATCH_SIZE], wl1[i:i + BATCH_SIZE],\n",
    "                                            wx2[i:i + BATCH_SIZE], wm2[i:i + BATCH_SIZE], wl2[i:i + BATCH_SIZE])\n",
    "            all_scores.extend([x.item() for x in scores])\n",
    "        return all_scores\n",
    "\n",
    "def find_similarity_matrix(s1, s2):\n",
    "    with torch.no_grad():\n",
    "        s1 = [make_example(x, model) for x in s1]\n",
    "        s2 = [make_example(x, model) for x in s2]\n",
    "        wx1, wl1, wm1 = model.torchify_batch(s1)\n",
    "        wx2, wl2, wm2 = model.torchify_batch(s2)\n",
    "\n",
    "        BATCH_SIZE = 2000\n",
    "        vecs1 = []\n",
    "        vecs2 = []\n",
    "        for i in range(0, len(wx1), BATCH_SIZE):\n",
    "            curr_vecs1 = model.encode(idxs=wx1[i:i + BATCH_SIZE],\n",
    "                                      mask=wm1[i:i + BATCH_SIZE],\n",
    "                                      lengths=wl1[i:i + BATCH_SIZE])\n",
    "            vecs1.append(curr_vecs1)\n",
    "        for i in range(0, len(wx2), BATCH_SIZE):\n",
    "            curr_vecs2 = model.encode(idxs=wx2[i:i + BATCH_SIZE],\n",
    "                                      mask=wm2[i:i + BATCH_SIZE],\n",
    "                                      lengths=wl2[i:i + BATCH_SIZE])\n",
    "            vecs2.append(curr_vecs2)\n",
    "        vecs1 = torch.cat(vecs1)\n",
    "        vecs2 = torch.cat(vecs2)\n",
    "        dot_product = torch.matmul(vecs1, vecs2.t())\n",
    "\n",
    "        vecs1_norm = torch.norm(vecs1, dim=1, keepdim=True)\n",
    "        vecs2_norm = torch.norm(vecs2, dim=1, keepdim=True)\n",
    "        norm_product = torch.matmul(vecs1_norm, vecs2_norm.t())\n",
    "    return torch.div(dot_product, norm_product)\n",
    "\n",
    "def encode_text(s1):\n",
    "    with torch.no_grad():\n",
    "        s1 = [make_example(x, model) for x in s1]\n",
    "        wx1, wl1, wm1 = model.torchify_batch(s1)\n",
    "        vecs1 = model.encode(idxs=wx1, mask=wm1, lengths=wl1)\n",
    "        return vecs1\n"
   ]
  },
  {
   "cell_type": "code",
   "execution_count": 6,
   "metadata": {},
   "outputs": [
    {
     "data": {
      "text/plain": [
       "WordAveraging(\n",
       "  (cosine): CosineSimilarity()\n",
       "  (embedding): Embedding(65733, 300)\n",
       ")"
      ]
     },
     "execution_count": 6,
     "metadata": {},
     "output_type": "execute_result"
    }
   ],
   "source": [
    "tok = TreebankWordTokenizer()\n",
    "\n",
    "model = torch.load('/home/kkatsy/par3/par3_align/similarity/sim/sim.pt')\n",
    "state_dict = model['state_dict']\n",
    "vocab_words = model['vocab_words']\n",
    "args = model['args']\n",
    "# turn off gpu\n",
    "model = WordAveraging(args, vocab_words)\n",
    "model.load_state_dict(state_dict, strict=True)\n",
    "sp = spm.SentencePieceProcessor()\n",
    "sp.Load('/home/kkatsy/par3/par3_align/similarity/sim/sim.sp.30k.model')\n",
    "model.eval()"
   ]
  },
  {
   "cell_type": "code",
   "execution_count": 7,
   "metadata": {},
   "outputs": [],
   "source": [
    "def get_score(refs, cands, metric='sim'):\n",
    "    return find_similarity(refs,cands)"
   ]
  },
  {
   "cell_type": "markdown",
   "metadata": {},
   "source": [
    "## Data Prep"
   ]
  },
  {
   "cell_type": "code",
   "execution_count": 8,
   "metadata": {},
   "outputs": [],
   "source": [
    "import pickle\n",
    "\n",
    "with open('aligned_paragraph_dataset.pickle', 'rb') as fp:\n",
    "  aligned_paragraph_dataset = pickle.load(fp)\n",
    "\n",
    "with open('source_paragraph_dataset.pickle', 'rb') as fp:\n",
    "  source_paragraph_dataset = pickle.load(fp)"
   ]
  },
  {
   "cell_type": "code",
   "execution_count": 9,
   "metadata": {},
   "outputs": [
    {
     "data": {
      "text/plain": [
       "[{'Katz': '\"You\\'re a scoundrel,\" the thought flashed through my mind, \"if you laugh at that now.\\'',\n",
       "  'PV': '\"What a scoundrel you are,\" raced through my head, \"to laugh at that now!\"',\n",
       "  'Garnett': '\"You are a scoundrel,\" a thought flashed through my mind, \"if you laugh at this now.\"',\n",
       "  'Hogarth': '\"You cur! \" I went on, in objurgation of Zvierkov.'},\n",
       " {'Katz': '\"So what!\" I cried in reply. \"Everything is lost now, anyway!\"',\n",
       "  'PV': '\"What of it!\" I cried, answering myself. \"All is lost now!\"',\n",
       "  'Garnett': '\"No matter!\" I cried, answering myself. \"Now everything is lost!\"',\n",
       "  'Hogarth': '\"What if you should get the laugh of me even now?\" \"No matter if he does,\" I cried the next moment, in answer to myself. \" Hy now you have lost everything.\"'},\n",
       " {'Katz': \"There was no sign of them, but it didn't matter. I knew where they were going.\",\n",
       "  'PV': 'Their trail was already cold; but no matter: I knew where they had gone.',\n",
       "  'Garnett': 'There was no trace to be seen of them, but that made no difference—I knew where they had gone.',\n",
       "  'Hogarth': 'The scent of my quarry had now had time to grow cool, yet I knew where to find the man for whom I was seeking.'},\n",
       " {'Katz': 'At the entrance stood a solitary, late-night cabby in a coarse peasant coat powdered with wet, seemingly warm snow that was still falling. It was steamy and stuffy outside. The little shaggy piebald nag was also dusted with snow and was coughing; I remember that very well. I headed for the rough-hewn sledge; but as  soon as I raised one foot to get in, the recollection of how Simonov had just given me six rubles hit me with such force that I tumbled into the sledge like a sack.',\n",
       "  'PV': 'By the porch stood a lonely cabbie, a night coachman, in a homespun coat all dusted with the still-falling wet and as if warm snow. It was steamy and stuffy. His shaggy little piebald nag was also all dusted with snow, and was coughing—I very much remember that. I rushed to the bast-covered sled; but as I raised my foot to get in, the recollection of the way Simonov had just given me the six roubles cut me down, and I dropped into the sled like a sack.',\n",
       "  'Garnett': 'At the steps was standing a solitary night sledge-driver in a rough peasant coat, powdered over with the still falling, wet, and as it were warm, snow. It was hot and steamy. The little shaggy piebald horse was also covered with snow and coughing, I remember that very well. I made a rush for the roughly made sledge; but as soon as I raised my foot to get into it, the recollection of how Simonov had just given me six roubles seemed to double me up and I tumbled into the sledge like a sack.',\n",
       "  'Hogarth': 'At the door of the hotel there was lounging a solitary night cabman, with his greatcoat dusted over with the moist — almost warm- snow which was still falling and making everything look dim and oppressive; while his shaggy little piebald pony also had a powdering of snow upon its back, and from time to time, I remember, kept coughing. Leaping into the rough bark sledge, I was in the act of bending my legs to sit down when the recollection of Simonov’s recent loan of six roubles threw me into such a state of mind that I rolled backwards on to the seat like a sack. \"'},\n",
       " {'Katz': '\"No! There\\'s a lot I have to do to make up for that!\" I cried. \"But make up for it I will or else I\\'ll perish on the spot this very night. Let\\'s go!\"',\n",
       "  'PV': '\"No! Much must be done to redeem it all!\" I cried out, \"but I will redeem it, or perish on the spot this very night! Drive!\"',\n",
       "  'Garnett': '\"No, I must do a great deal to make up for all that,\" I cried. \"But I will make up for it or perish on the spot this very night. Start!\"',\n",
       "  'Hogarth': 'Leaping into the rough bark sledge, I was in the act of bending my legs to sit down when the recollection of Simonov’s recent loan of six roubles threw me into such a state of mind that I rolled backwards on to the seat like a sack. \" Yes, it will take a great deal to set all this right,\" I exclaimed as I did so. \"Yet I \\'.rill set things right, or perish in the attempt. Forward! \"'}]"
      ]
     },
     "execution_count": 9,
     "metadata": {},
     "output_type": "execute_result"
    }
   ],
   "source": [
    "aligned_paragraph_dataset['NotesFromUnderground'][260:265]"
   ]
  },
  {
   "cell_type": "code",
   "execution_count": 10,
   "metadata": {},
   "outputs": [
    {
     "data": {
      "text/plain": [
       "['«Подлец ты!— пронеслось в моей голове,— коли над этим теперь смеешься».',\n",
       " '—Пусть!— крикнул я, отвечая себе.— Теперь ведь уж все погибло!',\n",
       " 'Их уж и след простыл; но все равно: я знал, куда они поехали.',\n",
       " 'У крыльца стоял одинокий Ванька, ночник, в сермяге, весь запорошенный все еще валившимся мокрым и как будто теплым снегом. Было парно и душно. Маленькая лохматая, пегая лошаденка его была тоже вся запорошена и кашляла; я это очень помню. Я бросился в лубошные санки; но только было я занес ногу, чтоб сесть, воспоминание о том, как Симонов сейчас давал мне шесть рублей, так и подкосило меня, и я, как мешок, повалился в санки.',\n",
       " '—Нет! Надо много сделать, чтоб все это выкупить!— прокричал я,— но я выкуплю или в эту же ночь погибну на месте. Пошел!']"
      ]
     },
     "execution_count": 10,
     "metadata": {},
     "output_type": "execute_result"
    }
   ],
   "source": [
    "source_paragraph_dataset['NotesFromUnderground'][260:265]"
   ]
  },
  {
   "cell_type": "code",
   "execution_count": 11,
   "metadata": {},
   "outputs": [],
   "source": [
    "import itertools\n",
    "from statistics import mean\n",
    "from operator import itemgetter\n",
    "\n",
    "def get_best_alignments(par_list, source_par_list, top_k_percent, num_k, drop_top, metric, min_len, max_len):\n",
    "\n",
    "    # dict -> score:par_set\n",
    "    # iter thru par_list, prune by length, get metric for set\n",
    "    keep_index_list = []\n",
    "    i2score = {}\n",
    "    for i in range(len(par_list)):\n",
    "        keep_index_list.append(i)\n",
    "        par_set = par_list[i]\n",
    "\n",
    "        max_par_len = len(max(par_set, key = len))\n",
    "        min_par_len = len(min(par_set, key = len))\n",
    "        source_len = len(source_par_list[i])\n",
    "\n",
    "        if (min_par_len >= min_len) and (max_par_len) <= max_len and not all(x==par_set[0] for x in par_set) and (max_par_len <= 3*source_len) and (min_par_len*3 >= source_len):\n",
    "\n",
    "            pairs = list(itertools.combinations(par_set, 2))\n",
    "            refs, cands = [], []\n",
    "            for s1, s2 in pairs:\n",
    "                refs.append(s1)\n",
    "                cands.append(s2)\n",
    "                \n",
    "            pair_scores = get_score(refs, cands, metric)\n",
    "\n",
    "            average_score = mean(pair_scores)\n",
    "            i2score[i] = average_score\n",
    "\n",
    "    # get top k par sets\n",
    "    num_pars = len(list(i2score))\n",
    "    top_k = int(top_k_percent * num_pars)\n",
    "    if top_k >= num_k:\n",
    "        top_k_scores = sorted(i2score.items(), key=itemgetter(1), reverse=True)[int(num_pars*drop_top):int(num_pars*drop_top) + num_k]\n",
    "    else:\n",
    "        top_k_scores = sorted(i2score.items(), key=itemgetter(1), reverse=True)[int(num_pars*drop_top):int(num_pars*drop_top) + top_k]\n",
    "    \n",
    "    i2score = sorted(i2score.items(), key=itemgetter(1), reverse=True)\n",
    "    return i2score, top_k_scores, keep_index_list"
   ]
  },
  {
   "cell_type": "code",
   "execution_count": 15,
   "metadata": {},
   "outputs": [],
   "source": [
    "min_paragraph_len = 20\n",
    "max_paragraph_len = 1000000000000\n",
    "top_k_percent = 0.9\n",
    "num_k = 10000\n",
    "drop_top = 0.02"
   ]
  },
  {
   "cell_type": "code",
   "execution_count": 16,
   "metadata": {},
   "outputs": [
    {
     "data": {
      "text/plain": [
       "['PoorFolk',\n",
       " 'AnnaKarenina',\n",
       " 'DeadSouls',\n",
       " 'TheIdiot',\n",
       " 'CrimeAndPunishment',\n",
       " 'NotesFromUnderground',\n",
       " 'FathersAndSons',\n",
       " 'TheBrothersKaramazov',\n",
       " 'Demons']"
      ]
     },
     "execution_count": 16,
     "metadata": {},
     "output_type": "execute_result"
    }
   ],
   "source": [
    "list(aligned_paragraph_dataset.keys())"
   ]
  },
  {
   "cell_type": "code",
   "execution_count": 17,
   "metadata": {},
   "outputs": [],
   "source": [
    "# format: label->translator, x->source+translation\n",
    "# dict: key-> translator, value: list of {source:s, translation:t, index:i}\n",
    "translator_to_pars = {}\n",
    "translator_to_pars_holdout = {}\n",
    "\n",
    "# Holdout\n",
    "# NotesFromUnderground - Katz, PV, Garnett, Hogarth\n",
    "# PoorFolk - McDuff, Hogarth, Garnett\n",
    "# TheIdiot - Garnett, McDuff, PV\n",
    "# CrimeAndPunishment - Katz, McDuff, PV, Garnett\n",
    "holdout_books = ['TheIdiot', 'NotesFromUnderground']\n",
    "ignore_books = []\n",
    "translator_to_pars = {}\n",
    "translator_to_pars_holdout = {}\n",
    "\n",
    "# for each book in train:\n",
    "for book in sorted(list(aligned_paragraph_dataset.keys())):\n",
    "    # get par list of aligned sentences, best k alignments\n",
    "    book_par_list = [list(aligned_paragraph_dataset[book][p].values()) for p in range(len(aligned_paragraph_dataset[book]))]\n",
    "    source_par_list = source_paragraph_dataset[book]\n",
    "\n",
    "    if book in holdout_books:\n",
    "        i2score, top_k, keep_idx = get_best_alignments(book_par_list, source_par_list, 1.0, 5000, 0, 'sim', min_paragraph_len, max_paragraph_len)\n",
    "    elif book not in ignore_books:\n",
    "        i2score, top_k, keep_idx = get_best_alignments(book_par_list, source_par_list, top_k_percent, num_k, drop_top, 'sim', min_paragraph_len, max_paragraph_len)\n",
    "    else:\n",
    "        top_k = []\n",
    "\n",
    "    for i, sim in top_k:\n",
    "        par_trans_dict = aligned_paragraph_dataset[book][i]\n",
    "        par_source = source_paragraph_dataset[book][i]\n",
    "\n",
    "        for translator, t in par_trans_dict.items():\n",
    "            t = t.replace('\\\\\\'', '\\'')\n",
    "            datum_dict = {'source':par_source, 'translation': t, 'idx': i, 'book': book, 'sim': sim, 'translator': translator}\n",
    "\n",
    "            if translator not in translator_to_pars.keys():\n",
    "                translator_to_pars[translator] = []\n",
    "                translator_to_pars_holdout[translator] = []\n",
    "                \n",
    "            if book in holdout_books:\n",
    "                translator_to_pars_holdout[translator].append(datum_dict)\n",
    "                # print('len par_list: ', len(book_par_list))\n",
    "                # print('len top_k: ', len(top_k))\n",
    "            else:\n",
    "                translator_to_pars[translator].append(datum_dict)"
   ]
  },
  {
   "cell_type": "code",
   "execution_count": null,
   "metadata": {},
   "outputs": [],
   "source": [
    "# BUILD TRAIN SET\n",
    "\n",
    "# translators = ['Hogarth', 'PV', 'Katz', 'McDuff', 'Garnett']\n",
    "# holdout_books = ['TheIdiot', 'NotesFromUnderground']\n",
    "\n",
    "# translator_to_pars = {}\n",
    "\n",
    "# for t in translators:\n",
    "#     t_pars = []\n",
    "#     for book in list(aligned_paragraph_dataset.keys()):\n",
    "#         if book not in holdout_books:\n",
    "#             if t in aligned_paragraph_dataset[book][0].keys():\n",
    "#                 for par_dict in aligned_paragraph_dataset[book]:\n",
    "#                     t_pars.append(par_dict[t])\n",
    "\n",
    "#     print(t)\n",
    "#     print(len(t_pars))\n",
    "\n",
    "#     i2score, top_k, keep_idx = get_best_alignments(t_pars, top_k_percent, num_k, drop_top, 'sim', min_paragraph_len, max_paragraph_len)\n",
    "    \n",
    "#     # for i, sim in top_k:\n",
    "#     print(len(top_k))\n",
    "#     print()\n",
    "\n",
    "# translator_to_pars_holdout = {}"
   ]
  },
  {
   "cell_type": "code",
   "execution_count": 18,
   "metadata": {},
   "outputs": [
    {
     "data": {
      "text/plain": [
       "[{'source': 'Из лицея молодой человек в первые два года приезжал на вакацию. Во время поездки в Петербург Варвары Петровны и Степана Трофимовича он присутствовал иногда на литературных вечерах, бывавших у мамаши, слушал и наблюдал. Говорил мало и всё по-прежнему был тих и застенчив. К Степану Трофимовичу относился с прежним нежным вниманием, но уже как-то сдержаннее: о высоких предметах и о воспоминаниях прошлого видимо удалялся с ним заговаривать. Кончив курс, он, по желанию мамаши, поступил в военную службу и вскоре был зачислен в один из самых видных гвардейских кавалерийских полков. Показаться мамаше в мундире он не приехал и редко стал писать из Петербурга. Денег Варвара Петровна посылала ему не жалея, несмотря на то что после реформы доход с ее имений упал до того, что в первое время она и половины прежнего дохода не получала. У ней, впрочем, накоплен был долгою экономией некоторый, не совсем маленький капитал. Ее очень интересовали успехи сына в высшем петербургском обществе. Что не удалось ей, то удалось молодому офицеру, богатому и с надеждами. Он возобновил такие знакомства, о которых она и мечтать уже не могла, и везде был принят с большим удовольствием. Но очень скоро начали доходить к Варваре Петровне довольно странные слухи: молодой человек как-то безумно и вдруг закутил. Не то чтоб он играл или очень пил; рассказывали только о какой-то дикой разнузданности, о задавленных рысаками людях, о зверском поступке с одною дамой хорошего общества, с которою он был в связи, а потом оскорбил ее публично. Что-то даже слишком уж откровенно грязное было в этом деле. Прибавляли сверх того, что он какой-то бретер, привязывается и оскорбляет из удовольствия оскорбить. Варвара Петровна волновалась и тосковала. Степан Трофимович уверял ее, что это только первые, буйные порывы слишком богатой организации, что море уляжется и что всё это похоже на юность принца Гарри, кутившего с Фальстафом, Пойнсом и мистрис Квикли, описанную у Шекспира. Варвара Петровна на этот раз не крикнула: «Вздор, вздор!», как повадилась в последнее время покрикивать очень часто на Степана Трофимовича, а, напротив, очень прислушалась, велела растолковать себе подробнее, сама взяла Шекспира и с чрезвычайным вниманием прочла бессмертную хронику. Но хроника ее не успокоила, да и сходства она не так много нашла. Она лихорадочно ждала ответов на несколько своих писем. Ответы не замедлили; скоро было получено роковое известие, что принц Гарри имел почти разом две дуэли, кругом был виноват в обеих, убил одного из своих противников наповал, а другого искалечил и вследствие таковых деяний был отдан под суд. Дело кончилось разжалованием в солдаты, с лишением прав и ссылкой на службу в один из пехотных армейских полков, да и то еще по особенной милости.',\n",
       "  'translation': 'For the first two years the young man came home from the lycée for vacations. While Varvara Petrovna and Stepan Trofimovich were in Petersburg, he was sometimes present at his mother\\'s literary evenings, listening and observing. He spoke little, and was quiet and shy as before. He treated Stepan Trofimovich with the former tender attentiveness, but now somehow more reservedly: he obviously refrained from talking with him about lofty subjects or memories of the past. In accordance with his mama\\'s wish, after completing his studies he entered military service and was soon enrolled in one of the most distinguished regiments of the Horse Guard. He did not come to show himself to his mama in his uniform and now rarely wrote from Petersburg. Varvara Petrovna sent him money without stint, in spite of the fact that the income from her estates fell so much after the reform that at first she did not get even half of her former income. However, through long economy she had saved up a certain not exactly small sum. She was very interested in her son\\'s successes in Petersburg high society. The young officer, rich and with expectations, succeeded where she had not. He renewed acquaintances of which she could no longer even dream, and was received everywhere with great pleasure. But very soon rather strange rumors began to reach Varvara Petrovna: the young man, somehow madly and suddenly, started leading a wild life. Not that he gambled or drank too much; there was only talk of some savage unbridledness, of some people being run over by horses, of some beastly behavior towards a lady of good society with whom he had had a liaison and whom he afterwards publicly insulted. There was something even too frankly dirty about this affair. It was added, furthermore, that he was some sort of swashbuckler, that he picked on people and insulted them for the pleasure of it. Varvara Petrovna was worried and anguished. Stepan Trofimovich assured her that these were merely the first stormy impulses of an overabundant constitution, that the sea would grow calm, and that it all resembled Shakespeare\\'s description of the youth of Prince Harry, carousing with Falstaff, Poins, and Mistress Quickly. This time Varvara Petrovna did not shout \"Nonsense, nonsense!\" as it had lately become her habit to shout quite often at Stepan Trofimovich, but, on the contrary, paid great heed to him, asked him to explain in more detail, herself took Shakespeare and read the immortal chronicle with extreme attention. But the chronicle did not calm her down, nor did  she find all that much resemblance. She waited feverishly for answers to certain of her letters. The answers were not slow in coming; soon the fatal news was  received that Prince Harry had almost simultaneously fought two duels, was entirely to blame for both of them, had killed one of his opponents on the spot and crippled the other, and as a consequence of such deeds had been brought to trial. The affair ended with his being broken to the ranks, stripped of his rights, and exiled to service in one of the infantry regiments, and even that only by special favor.',\n",
       "  'idx': 91,\n",
       "  'book': 'Demons',\n",
       "  'sim': 0.9765744209289551,\n",
       "  'translator': 'PV'},\n",
       " {'source': '– Вещь короткая; даже, если хотите, по-настоящему это и не анекдот, – посыпался бисер. – Впрочем, романист от безделья мог бы испечь роман. Довольно интересная вещица, Прасковья Ивановна, и я уверен, что Лизавета Николаевна с любопытством выслушает, потому что тут много если не чудных, то причудливых вещей. Лет пять тому, в Петербурге, Николай Всеволодович узнал этого господина, – вот этого самого господина Лебядкина, который стоит разиня рот и, кажется, собирался сейчас улизнуть. Извините, Варвара Петровна. Я вам, впрочем, не советую улепетывать, господин отставной чиновник бывшего провиантского ведомства (видите, я отлично вас помню). И мне и Николаю Всеволодовичу слишком известны ваши здешние проделки, в которых, не забудьте это, вы должны будете дать отчет. Еще раз прошу извинения, Варвара Петровна. Николай Всеволодович называл тогда этого господина своим Фальстафом; это, должно быть (пояснил он вдруг), какой-нибудь бывший характер, burlesque,[105] над которым все смеются и который сам позволяет над собою всем смеяться, лишь бы платили деньги. Николай Всеволодович вел тогда в Петербурге жизнь, так сказать, насмешливую, – другим словом не могу определить ее, потому что в разочарование этот человек не впадет, а делом он и сам тогда пренебрегал заниматься. Я говорю про одно лишь тогдашнее время, Варвара Петровна. У Лебядкина этого была сестра, – вот эта самая, что сейчас здесь сидела. Братец и сестрица не имели своего угла и скитались по чужим. Он бродил под арками Гостиного двора, непременно в бывшем мундире, и останавливал прохожих с виду почище, а что наберет – пропивал. Сестрица же кормилась как птица небесная. Она там в углах помогала и за нужду прислуживала. Содом был ужаснейший; я миную картину этой угловой жизни, – жизни, которой из чудачества предавался тогда и Николай Всеволодович. Я только про тогдашнее время, Варвара Петровна; а что касается до «чудачества», то это его собственное выражение. Он многое от меня не скрывает. Mademoiselle Лебядкина, которой одно время слишком часто пришлось встречать Николая Всеволодовича, была поражена его наружностью. Это был, так сказать, бриллиант на грязном фоне ее жизни. Я плохой описатель чувств, а потому пройду мимо; но ее тотчас же подняли дрянные людишки на смех, и она загрустила. Там вообще над нею смеялись, но прежде она вовсе не замечала того. Голова ее уже и тогда была не в порядке, но тогда все-таки не так, как теперь. Есть основание предположить, что в детстве, через какую-то благодетельницу, она чуть было не получила воспитания. Николай Всеволодович никогда не обращал на нее ни малейшего внимания и играл больше в старые замасленные карты по четверть копейки в преферанс с чиновниками. Но раз, когда ее обижали, он (не спрашивая причины) схватил одного чиновника за шиворот и спустил изо второго этажа в окно. Никаких рыцарских негодований в пользу оскорбленной невинности тут не было; вся операция произошла при общем смехе, и смеялся всех больше Николай Всеволодович сам; когда же всё кончилось благополучно, то помирились и стали пить пунш. Но угнетенная невинность сама про то не забыла. Разумеется, кончилось окончательным сотрясением ее умственных способностей. Повторяю, я плохой описатель чувств, но тут главное мечта. А Николай Всеволодович, как нарочно, еще более раздражал мечту: вместо того чтобы рассмеяться, он вдруг стал обращаться к mademoiselle Лебядкиной с неожиданным уважением. Кириллов, тут бывший (чрезвычайный оригинал, Варвара Петровна, и чрезвычайно отрывистый человек; вы, может быть, когда-нибудь его увидите, он теперь здесь), ну так вот, этот Кириллов, который, по обыкновению, всё молчит, а тут вдруг разгорячился, заметил, я помню, Николаю Всеволодовичу, что тот третирует эту госпожу как маркизу и тем окончательно ее добивает. Прибавлю, что Николай Всеволодович несколько уважал этого Кириллова. Что же, вы думаете, он ему ответил: «Вы полагаете, господин Кириллов, что я смеюсь над нею; разуверьтесь, я в самом деле ее уважаю, потому что она всех нас лучше». И, знаете, таким серьезным тоном сказал. Между тем в эти два-три месяца он, кроме «здравствуйте» да «прощайте», в сущности, не проговорил с ней ни слова. Я, тут бывший, наверно помню, что она до того уже, наконец, дошла, что считала его чем-то вроде жениха своего, не смеющего ее «похитить» единственно потому, что у него много врагов и семейных препятствий или что-то в этом роде. Много тут было смеху! Кончилось тем, что когда Николаю Всеволодовичу пришлось тогда отправляться сюда, он, уезжая, распорядился о ее содержании и, кажется, довольно значительном ежегодном пенсионе, рублей в триста по крайней мере, если не более. Одним словом, положим, всё это с его стороны баловство, фантазия преждевременно уставшего человека, – пусть даже, наконец, как говорил Кириллов, это был новый этюд пресыщенного человека с целью узнать, до чего можно довести сумасшедшую калеку. «Вы, говорит, нарочно выбрали самое последнее существо, калеку, покрытую вечным позором и побоями, – и вдобавок зная, что это существо умирает к вам от комической любви своей, – и вдруг вы нарочно принимаетесь ее морочить, единственно для того, чтобы посмотреть, что из этого выйдет!» Чем, наконец, так особенно виноват человек в фантазиях сумасшедшей женщины, с которой, заметьте, он вряд ли две фразы во всё время выговорил! Есть вещи, Варвара Петровна, о которых не только нельзя умно говорить, но о которых и начинать-то говорить неумно. Ну пусть, наконец, чудачество – но ведь более-то уж ничего нельзя сказать; а между тем теперь вот из этого сделали историю… Мне отчасти известно, Варвара Петровна, о том, что здесь происходит. Рассказчик вдруг оборвал и повернулся было к Лебядкину, но Варвара Петровна остановила его; она была в сильнейшей экзальтации.',\n",
       "  'translation': '\"It\\'s a short matter; in fact, if you like, it\\'s not even an anecdote,\" the beads began spilling out. \"However, a novelist might cook up a novel from it in an idle moment. It\\'s quite an interesting little matter, Praskovya Ivanovna, and I\\'m sure Lizaveta Nikolaevna will listen with curiosity, because there are many things here which, if not queer, are at least quaint. About five years ago, in Petersburg, Nikolai Vsevolodovich got to know this gentleman-this same Mr. Lebyadkin who is standing here with his mouth hanging open and, it seems, was just about to slip away. Forgive me, Varvara Petrovna. Incidentally, I\\'d advise you not to take to your heels, mister retired official of the former supply department (you see, I remember you perfectly). Both I and Nikolai Vsevolodovich are all too well informed of  your local tricks, of which, don\\'t forget, you will have to give an accounting. Once again I ask your forgiveness, Varvara Petrovna. Nikolai Vsevolodovich used to call  this gentleman his Falstaff -that must be some former character,\" he suddenly explained, \"some burlesque everyone laughs at and who allows everyone to laugh at him, so long as they pay money. The life Nikolai Vsevolodovich then led in Petersburg was, so to speak, a jeering one-I cannot define it by any other word, because he was not a man to fall into disillusionment, and he scorned then to do anything serious. I\\'m talking only about that time, Varvara Petrovna. This Lebyadkin had a sister-the very one who was just sitting here. This nice brother and sister had no corner of their own, and wandered about staying with various people. He loitered under the arcades of the Gostiny Dvor, unfailingly wearing his former uniform, and stopped the cleanerlooking passersby, and whatever he collected he would spend on drink. His sister lived like the birds of the air. She helped out in those corners and served in exchange for necessities. It was a most terrible Sodom; I\\'ll pass over the picture of this corner life-the life to which Nikolai Vsevolodovich then gave himself out of whimsicality. This was only then, Varvara Petrovna; and as for \\'whimsicality,\\' the expression is his. There is much that he does not conceal from me. Mademoiselle Lebyadkin, who at a certain period happened to run into Nikolai Vsevolodovich all too often, was struck by his appearance. He was, so to speak, a diamond set against the dirty background of her life. I\\'m a poor describer of feelings, so I\\'ll pass that over; but rotten little people immediately made fun of her, and she grew sad. They generally laughed at her there, but before she didn\\'t notice it. She was already not right in the head then, but less so than now. There\\'s reason to think that in childhood, through some benefactress, she almost received an education. Nikolai Vsevolodovich never paid the slightest attention to her, and rather spent his time playing old greasy cards, the game of preference for quarterkopeck stakes, with some clerks. But once when she was being mistreated, he, without asking why, grabbed one clerk by the scruff of the neck and chucked him out the secondstory window. There wasn\\'t any chivalrous indignation in favor of offended innocence in it; the whole operation took place amid general laughter, and Nikolai Vsevolodovich himself laughed most of all; everything eventually came to a good end, they made peace and began drinking punch. But oppressed innocence herself did not forget it. Of course, it ended with the final shaking of her mental faculties. I repeat, I\\'m a poor describer of feelings, but the main thing here was the dream. And Nikolai Vsevolodovich, as if on purpose, aroused the dream even more; instead of just laughing at it, he suddenly began addressing Mademoiselle Lebyadkin with unexpected esteem. Kirillov, who was there (an exceedingly original man, Varvara Petrovna, and an exceedingly abrupt one; perhaps you\\'ll meet him one day, he\\'s here now), well, so this Kirillov, who ordinarily is always silent, but then suddenly got excited, observed to Nikolai Vsevolodovich, as I remember, that his treating this lady as a marquise was finally going to finish her off. I will add that Nikolai Vsevolodovich had a certain respect for this Kirillov. And how do you think he answered him? \\'You assume, Mr. Kirillov, that I am laughing at her; let me assure you that I do indeed respect her, because she is better than any of us.\\' And, you know, he said it in such a serious tone. Though, in fact, during those two or three months he hadn\\'t said a word to her except \\'hello\\' and \\'goodbye.\\' I, who was there, remember for a certainty that she finally reached the point of regarding him as something like her fiancé, who did not dare to \\'abduct\\' her solely because he had many enemies and family obstacles, or something of the sort. There was much laughter over that! In the end, when Nikolai Vsevolodovich had to come here that time, as he was leaving he arranged for her keep, and it seems it was quite a substantial yearly pension, at least three hundred roubles, if not more. In short, let\\'s say it was all selfindulgence, the fancy of a prematurely weary man-let it be, finally, as Kirillov was saying, a new étude by ajaded man, with the object of finding out what a mad cripple can be brought to. \\'You chose on purpose,\\' he said, \\'the very least of beings, a cripple covered in eternal shame and beatings-and knowing, besides, that this being is dying of her comical love for you-and you suddenly start to flummox her on purpose, solely to see what will come of it!\\' Why, finally, is a man so especially to blame for the fantasy of a mad woman to whom, notice, he had hardly spoken two sentences during that whole time! There are things, Varvara Petrovna, of which it is not only impossible to speak intelligently, but of which it is not intelligent even to begin speaking. Well, let it be whimsicality, finally- but that\\'s all one can say; and yet quite a story has been made of it now... I\\'m partly informed, Varvara Petrovna, of what is going on here.\" The narrator suddenly broke off and was turning to Lebyadkin, but Varvara Petrovna stopped him; she was in the greatest exaltation.',\n",
       "  'idx': 1263,\n",
       "  'book': 'Demons',\n",
       "  'sim': 0.9765353202819824,\n",
       "  'translator': 'PV'},\n",
       " {'source': '– Да кто? Кто велел вам сюда приходить? – допрашивала Варвара Петровна.',\n",
       "  'translation': '\"But, who? Who told you to come here?\" Varvara Petrovna questioned.',\n",
       "  'idx': 1228,\n",
       "  'book': 'Demons',\n",
       "  'sim': 0.9762787818908691,\n",
       "  'translator': 'PV'},\n",
       " {'source': 'Так называемое у нас имение Степана Трофимовича (душ пятьдесят по старинному счету, и смежное со Скворешниками) было вовсе не его, а принадлежало первой его супруге, а стало быть, теперь их сыну, Петру Степановичу Верховенскому. Степан Трофимович только опекунствовал, а потому, когда птенец оперился, действовал по формальной от него доверенности на управление имением. Сделка для молодого человека была выгодная: он получал с отца в год до тысячи рублей в виде дохода с имения, тогда как оно при новых порядках не давало и пятисот (а может быть, и того менее). Бог знает как установились подобные отношения. Впрочем, всю эту тысячу целиком высылала Варвара Петровна, а Степан Трофимович ни единым рублем в ней не участвовал. Напротив, весь доход с землицы оставлял у себя в кармане и, кроме того, разорил ее вконец, сдав ее в аренду какому-то промышленнику и, тихонько от Варвары Петровны, продав на сруб рощу, то есть главную ее ценность. Эту рощицу он уже давно продавал урывками. Вся она стоила по крайней мере тысяч восемь, а он взял за нее только пять. Но он иногда слишком много проигрывал в клубе, а просить у Варвары Петровны боялся. Она скрежетала зубами, когда наконец обо всем узнала. И вдруг теперь сынок извещал, что приедет сам продать свои владения во что бы ни стало, а отцу поручал неотлагательно позаботиться о продаже. Ясное дело, что при благородстве и бескорыстии Степана Трофимовича ему стало совестно пред се cher enfant[41] (которого он в последний раз видел целых девять лет тому назад, в Петербурге, студентом). Первоначально все имение могло стоить тысяч тринадцать или четырнадцать, теперь вряд ли кто бы дал за него и пять. Без сомнения, Степан Трофимович имел полное право, по смыслу формальной доверенности, продать лес и, поставив в счет тысячерублевый невозможный ежегодный доход, столько лет высылавшийся аккуратно, сильно оградить себя при расчете. Но Степан Трофимович был благороден, со стремлениями высшими. В голове его мелькнула одна удивительно красивая мысль: когда приедет Петруша, вдруг благородно выложить на стол самый высший maximum цены, то есть даже пятнадцать тысяч, без малейшего намека на высылавшиеся до сих пор суммы, и крепко-крепко, со слезами, прижать к груди се cher fils,[42] чем и покончить все счеты. Отдаленно и осторожно начал он развертывать эту картинку пред Варварой Петровной. Он намекал, что это даже придаст какой-то особый, благородный оттенок их дружеской связи… их «идее». Это выставило бы в таком бескорыстном и великодушном виде прежних отцов и вообще прежних людей сравнительно с новою легкомысленною и социальною молодежью. Много еще он говорил, но Варвара Петровна всё отмалчивалась. Наконец сухо объявила ему, что согласна купить их землю и даст за нее maximum цены, то есть тысяч шесть, семь (и за четыре можно было купить). Об остальных же восьми тысячах, улетевших с рощей, не сказала ни слова.',\n",
       "  'translation': 'Stepan Trofimovich\\'s estate, as we used to call it (about fifty souls by the old way of reckoning, and adjoining Skvoreshniki), was not his at all, but had belonged to his first wife, and so now to their son, Pyotr Stepanovich Verkhovensky. Stepan Trofimovich was merely the trustee, and thus, once the nestling was fully fledged, acted through a formal warrant as manager of the estate. For the young man it was a profitable deal: he received up to a thousand roubles a year from his father as income from the estate, while under the new regulations it did not yield as much as five hundred (and perhaps even less). God knows how such arrangements were set up. However, the entire thousand was sent by Varvara Petrovna, and Stepan Trofimovich did not contribute a single rouble to it. On the contrary, he pocketed all the income from this bit of land, and, furthermore, ruined it altogether by leasing it to some dealer and, in secret from Varvara Petrovna, selling the timber that was its main valuable asset. He had been selling this timber piecemeal for a long time. Its total worth was about eight thousand at least, yet he got only five for it. But he sometimes lost too much at the club, and was afraid to ask Varvara Petrovna. She ground her teeth when she finally learned of it all. And now the boy suddenly notified him that he was coming himself to sell his property at all costs, and charged his father with promptly arranging for the sale. It was clear that Stepan Trofimovich, being a lofty and disinterested man, felt ashamed before ce cher enfant (whom he had last seen as a student in Petersburg all of nine years earlier). Originally, the entire estate might have been worth some thirteen or fourteen thousand, but now it was unlikely that anyone would give five for it. Stepan Trofimovich undoubtedly had every right, in terms of the formal warrant, to sell the timber, and taking into account the impossible annual income of a thousand roubles, which had been sent punctually for so many years, could make a good defense of himself in any final settlement. But Stepan Trofimovich was noble and had lofty aspirations. A remarkably beautiful thought flashed in his head: to lay out nobly on the table, when Petrusha came, the highest maximum of the pricethat is, even fifteen thousand-without the slightest hint at the sums that had been sent previously, and then firmly, very firmly, with tears, to press ce cher fils to his heart, and so settle all accounts. He began remotely and cautiously unfolding this picture before Varvara Petrovna. He hinted that it would even add some special, noble tinge to their friendly connection ... to their \"idea.\" It would show former fathers and former people generally in such a disinterested and magnanimous light, as compared with the new frivolous and social youth. He said many other things, but Varvara Petrovna kept silent. At last she dryly informed him that she would agree to buy their land and would pay the maximum price for it-that is, six or seven thousand (even four would have been enough). Of the remaining eight thousand that had flown away with the timber, she did not say a word.',\n",
       "  'idx': 289,\n",
       "  'book': 'Demons',\n",
       "  'sim': 0.9760987162590027,\n",
       "  'translator': 'PV'},\n",
       " {'source': '– Шатов? Это брат Дарьи Павловны…',\n",
       "  'translation': '\"Shatov? He is Darya Pavlovna\\'s brother...\"',\n",
       "  'idx': 528,\n",
       "  'book': 'Demons',\n",
       "  'sim': 0.9759403467178345,\n",
       "  'translator': 'PV'}]"
      ]
     },
     "execution_count": 18,
     "metadata": {},
     "output_type": "execute_result"
    }
   ],
   "source": [
    "newlist = sorted(translator_to_pars['PV'], key=lambda d: d['sim'], reverse=True) \n",
    "newlist[0:5]"
   ]
  },
  {
   "cell_type": "code",
   "execution_count": 19,
   "metadata": {},
   "outputs": [
    {
     "name": "stdout",
     "output_type": "stream",
     "text": [
      "3547\n"
     ]
    }
   ],
   "source": [
    "min_len = len(translator_to_pars['Hogarth'])\n",
    "print(min_len)\n",
    "for t in translator_to_pars.keys():\n",
    "    keep = sorted(translator_to_pars[t], key=lambda d: d['sim'], reverse=True)[:min_len]\n",
    "    translator_to_pars[t] = keep"
   ]
  },
  {
   "cell_type": "code",
   "execution_count": 20,
   "metadata": {},
   "outputs": [
    {
     "name": "stdout",
     "output_type": "stream",
     "text": [
      "433\n"
     ]
    }
   ],
   "source": [
    "from random import sample\n",
    "\n",
    "min_len_h = len(translator_to_pars_holdout['Hogarth'])\n",
    "print(min_len_h)\n",
    "for t in translator_to_pars_holdout.keys():\n",
    "    keep = sample(translator_to_pars_holdout[t], min_len_h) \n",
    "    translator_to_pars_holdout[t] = keep"
   ]
  },
  {
   "cell_type": "code",
   "execution_count": null,
   "metadata": {},
   "outputs": [
    {
     "data": {
      "text/plain": [
       "{'Garnett': '\"What?\" Pyotr Stepanovitch pricked up his ears. \"What idea? Did he tell you something himself?\"',\n",
       " 'PV': '\"What?\" Pyotr Stepanovich pricked up his ears. \"What idea? Did he tell you something himself?\"'}"
      ]
     },
     "execution_count": 19,
     "metadata": {},
     "output_type": "execute_result"
    }
   ],
   "source": [
    "aligned_paragraph_dataset['Demons'][4748]"
   ]
  },
  {
   "cell_type": "code",
   "execution_count": null,
   "metadata": {},
   "outputs": [
    {
     "name": "stdout",
     "output_type": "stream",
     "text": [
      "\n",
      "All\n",
      "PV 3980\n",
      "Garnett 3980\n",
      "Katz 3980\n",
      "McDuff 3980\n",
      "Hogarth 3980\n",
      "Total 19900\n",
      "\n",
      "Train\n",
      "PV 3547\n",
      "Garnett 3547\n",
      "Katz 3547\n",
      "McDuff 3547\n",
      "Hogarth 3547\n",
      "\n",
      "Holdout\n",
      "PV 433\n",
      "Garnett 433\n",
      "Katz 433\n",
      "McDuff 433\n",
      "Hogarth 433\n",
      "Train total:  17735\n",
      "Val/Test total:  2165\n",
      "train % =  0.8912060301507537\n",
      "holdout % =  0.10879396984924623\n"
     ]
    }
   ],
   "source": [
    "abs_total = 0\n",
    "print('\\nAll')\n",
    "for k in translator_to_pars_holdout.keys():\n",
    "    both = len(translator_to_pars_holdout[k]) + len(translator_to_pars[k])\n",
    "    print(k, both)\n",
    "    abs_total += both\n",
    "print('Total', abs_total)\n",
    "\n",
    "train_total = 0\n",
    "min_class = 100000000000\n",
    "print('\\nTrain')\n",
    "for k in translator_to_pars.keys():\n",
    "    print(k, len(translator_to_pars[k]))\n",
    "    if len(translator_to_pars[k]) < min_class:\n",
    "        min_class = len(translator_to_pars[k])\n",
    "    \n",
    "train_total = len(translator_to_pars.keys()) * min_class\n",
    "\n",
    "holdout_total = 0\n",
    "min_class_h = 100000000000\n",
    "print('\\nHoldout')\n",
    "for k in translator_to_pars_holdout.keys():\n",
    "    print(k, len(translator_to_pars_holdout[k]))\n",
    "    if len(translator_to_pars_holdout[k]) < min_class_h:\n",
    "        min_class_h = len(translator_to_pars_holdout[k])\n",
    "\n",
    "holdout_total = len(translator_to_pars.keys()) * min_class_h\n",
    "\n",
    "print('Train total: ', min_class*5)\n",
    "print('Val/Test total: ', min_class_h*5)\n",
    "print()\n",
    "print('train % = ', train_total/(holdout_total+train_total))\n",
    "print('holdout % = ', holdout_total/(holdout_total+train_total))\n"
   ]
  },
  {
   "cell_type": "code",
   "execution_count": null,
   "metadata": {},
   "outputs": [
    {
     "name": "stdout",
     "output_type": "stream",
     "text": [
      "[0 3 4 2 1]\n"
     ]
    }
   ],
   "source": [
    "from sklearn.preprocessing import LabelEncoder\n",
    "\n",
    "le = LabelEncoder()\n",
    "le.fit(list(translator_to_pars.keys()))\n",
    "print(le.transform([\"Garnett\", \"McDuff\", \"PV\", \"Katz\", \"Hogarth\"]))"
   ]
  },
  {
   "cell_type": "code",
   "execution_count": null,
   "metadata": {},
   "outputs": [
    {
     "name": "stdout",
     "output_type": "stream",
     "text": [
      "[{'idx': 91, 'book': 'Demons', 'labels': 4, 'concat': 'Из лицея молодой человек в первые два года приезжал на вакацию. Во время поездки в Петербург Варвары Петровны и Степана Трофимовича он присутствовал иногда на литературных вечерах, бывавших у мамаши, слушал и наблюдал. Говорил мало и всё по-прежнему был тих и застенчив. К Степану Трофимовичу относился с прежним нежным вниманием, но уже как-то сдержаннее: о высоких предметах и о воспоминаниях прошлого видимо удалялся с ним заговаривать. Кончив курс, он, по желанию мамаши, поступил в военную службу и вскоре был зачислен в один из самых видных гвардейских кавалерийских полков. Показаться мамаше в мундире он не приехал и редко стал писать из Петербурга. Денег Варвара Петровна посылала ему не жалея, несмотря на то что после реформы доход с ее имений упал до того, что в первое время она и половины прежнего дохода не получала. У ней, впрочем, накоплен был долгою экономией некоторый, не совсем маленький капитал. Ее очень интересовали успехи сына в высшем петербургском обществе. Что не удалось ей, то удалось молодому офицеру, богатому и с надеждами. Он возобновил такие знакомства, о которых она и мечтать уже не могла, и везде был принят с большим удовольствием. Но очень скоро начали доходить к Варваре Петровне довольно странные слухи: молодой человек как-то безумно и вдруг закутил. Не то чтоб он играл или очень пил; рассказывали только о какой-то дикой разнузданности, о задавленных рысаками людях, о зверском поступке с одною дамой хорошего общества, с которою он был в связи, а потом оскорбил ее публично. Что-то даже слишком уж откровенно грязное было в этом деле. Прибавляли сверх того, что он какой-то бретер, привязывается и оскорбляет из удовольствия оскорбить. Варвара Петровна волновалась и тосковала. Степан Трофимович уверял ее, что это только первые, буйные порывы слишком богатой организации, что море уляжется и что всё это похоже на юность принца Гарри, кутившего с Фальстафом, Пойнсом и мистрис Квикли, описанную у Шекспира. Варвара Петровна на этот раз не крикнула: «Вздор, вздор!», как повадилась в последнее время покрикивать очень часто на Степана Трофимовича, а, напротив, очень прислушалась, велела растолковать себе подробнее, сама взяла Шекспира и с чрезвычайным вниманием прочла бессмертную хронику. Но хроника ее не успокоила, да и сходства она не так много нашла. Она лихорадочно ждала ответов на несколько своих писем. Ответы не замедлили; скоро было получено роковое известие, что принц Гарри имел почти разом две дуэли, кругом был виноват в обеих, убил одного из своих противников наповал, а другого искалечил и вследствие таковых деяний был отдан под суд. Дело кончилось разжалованием в солдаты, с лишением прав и ссылкой на службу в один из пехотных армейских полков, да и то еще по особенной милости. <SEP> For the first two years the young man came home from the lycée for vacations. While Varvara Petrovna and Stepan Trofimovich were in Petersburg, he was sometimes present at his mother\\'s literary evenings, listening and observing. He spoke little, and was quiet and shy as before. He treated Stepan Trofimovich with the former tender attentiveness, but now somehow more reservedly: he obviously refrained from talking with him about lofty subjects or memories of the past. In accordance with his mama\\'s wish, after completing his studies he entered military service and was soon enrolled in one of the most distinguished regiments of the Horse Guard. He did not come to show himself to his mama in his uniform and now rarely wrote from Petersburg. Varvara Petrovna sent him money without stint, in spite of the fact that the income from her estates fell so much after the reform that at first she did not get even half of her former income. However, through long economy she had saved up a certain not exactly small sum. She was very interested in her son\\'s successes in Petersburg high society. The young officer, rich and with expectations, succeeded where she had not. He renewed acquaintances of which she could no longer even dream, and was received everywhere with great pleasure. But very soon rather strange rumors began to reach Varvara Petrovna: the young man, somehow madly and suddenly, started leading a wild life. Not that he gambled or drank too much; there was only talk of some savage unbridledness, of some people being run over by horses, of some beastly behavior towards a lady of good society with whom he had had a liaison and whom he afterwards publicly insulted. There was something even too frankly dirty about this affair. It was added, furthermore, that he was some sort of swashbuckler, that he picked on people and insulted them for the pleasure of it. Varvara Petrovna was worried and anguished. Stepan Trofimovich assured her that these were merely the first stormy impulses of an overabundant constitution, that the sea would grow calm, and that it all resembled Shakespeare\\'s description of the youth of Prince Harry, carousing with Falstaff, Poins, and Mistress Quickly. This time Varvara Petrovna did not shout \"Nonsense, nonsense!\" as it had lately become her habit to shout quite often at Stepan Trofimovich, but, on the contrary, paid great heed to him, asked him to explain in more detail, herself took Shakespeare and read the immortal chronicle with extreme attention. But the chronicle did not calm her down, nor did  she find all that much resemblance. She waited feverishly for answers to certain of her letters. The answers were not slow in coming; soon the fatal news was  received that Prince Harry had almost simultaneously fought two duels, was entirely to blame for both of them, had killed one of his opponents on the spot and crippled the other, and as a consequence of such deeds had been brought to trial. The affair ended with his being broken to the ranks, stripped of his rights, and exiled to service in one of the infantry regiments, and even that only by special favor.', 'translator': 'PV', 'sim': 0.9765744209289551, 'src': 'Из лицея молодой человек в первые два года приезжал на вакацию. Во время поездки в Петербург Варвары Петровны и Степана Трофимовича он присутствовал иногда на литературных вечерах, бывавших у мамаши, слушал и наблюдал. Говорил мало и всё по-прежнему был тих и застенчив. К Степану Трофимовичу относился с прежним нежным вниманием, но уже как-то сдержаннее: о высоких предметах и о воспоминаниях прошлого видимо удалялся с ним заговаривать. Кончив курс, он, по желанию мамаши, поступил в военную службу и вскоре был зачислен в один из самых видных гвардейских кавалерийских полков. Показаться мамаше в мундире он не приехал и редко стал писать из Петербурга. Денег Варвара Петровна посылала ему не жалея, несмотря на то что после реформы доход с ее имений упал до того, что в первое время она и половины прежнего дохода не получала. У ней, впрочем, накоплен был долгою экономией некоторый, не совсем маленький капитал. Ее очень интересовали успехи сына в высшем петербургском обществе. Что не удалось ей, то удалось молодому офицеру, богатому и с надеждами. Он возобновил такие знакомства, о которых она и мечтать уже не могла, и везде был принят с большим удовольствием. Но очень скоро начали доходить к Варваре Петровне довольно странные слухи: молодой человек как-то безумно и вдруг закутил. Не то чтоб он играл или очень пил; рассказывали только о какой-то дикой разнузданности, о задавленных рысаками людях, о зверском поступке с одною дамой хорошего общества, с которою он был в связи, а потом оскорбил ее публично. Что-то даже слишком уж откровенно грязное было в этом деле. Прибавляли сверх того, что он какой-то бретер, привязывается и оскорбляет из удовольствия оскорбить. Варвара Петровна волновалась и тосковала. Степан Трофимович уверял ее, что это только первые, буйные порывы слишком богатой организации, что море уляжется и что всё это похоже на юность принца Гарри, кутившего с Фальстафом, Пойнсом и мистрис Квикли, описанную у Шекспира. Варвара Петровна на этот раз не крикнула: «Вздор, вздор!», как повадилась в последнее время покрикивать очень часто на Степана Трофимовича, а, напротив, очень прислушалась, велела растолковать себе подробнее, сама взяла Шекспира и с чрезвычайным вниманием прочла бессмертную хронику. Но хроника ее не успокоила, да и сходства она не так много нашла. Она лихорадочно ждала ответов на несколько своих писем. Ответы не замедлили; скоро было получено роковое известие, что принц Гарри имел почти разом две дуэли, кругом был виноват в обеих, убил одного из своих противников наповал, а другого искалечил и вследствие таковых деяний был отдан под суд. Дело кончилось разжалованием в солдаты, с лишением прав и ссылкой на службу в один из пехотных армейских полков, да и то еще по особенной милости.', 'tgt': 'For the first two years the young man came home from the lycée for vacations. While Varvara Petrovna and Stepan Trofimovich were in Petersburg, he was sometimes present at his mother\\'s literary evenings, listening and observing. He spoke little, and was quiet and shy as before. He treated Stepan Trofimovich with the former tender attentiveness, but now somehow more reservedly: he obviously refrained from talking with him about lofty subjects or memories of the past. In accordance with his mama\\'s wish, after completing his studies he entered military service and was soon enrolled in one of the most distinguished regiments of the Horse Guard. He did not come to show himself to his mama in his uniform and now rarely wrote from Petersburg. Varvara Petrovna sent him money without stint, in spite of the fact that the income from her estates fell so much after the reform that at first she did not get even half of her former income. However, through long economy she had saved up a certain not exactly small sum. She was very interested in her son\\'s successes in Petersburg high society. The young officer, rich and with expectations, succeeded where she had not. He renewed acquaintances of which she could no longer even dream, and was received everywhere with great pleasure. But very soon rather strange rumors began to reach Varvara Petrovna: the young man, somehow madly and suddenly, started leading a wild life. Not that he gambled or drank too much; there was only talk of some savage unbridledness, of some people being run over by horses, of some beastly behavior towards a lady of good society with whom he had had a liaison and whom he afterwards publicly insulted. There was something even too frankly dirty about this affair. It was added, furthermore, that he was some sort of swashbuckler, that he picked on people and insulted them for the pleasure of it. Varvara Petrovna was worried and anguished. Stepan Trofimovich assured her that these were merely the first stormy impulses of an overabundant constitution, that the sea would grow calm, and that it all resembled Shakespeare\\'s description of the youth of Prince Harry, carousing with Falstaff, Poins, and Mistress Quickly. This time Varvara Petrovna did not shout \"Nonsense, nonsense!\" as it had lately become her habit to shout quite often at Stepan Trofimovich, but, on the contrary, paid great heed to him, asked him to explain in more detail, herself took Shakespeare and read the immortal chronicle with extreme attention. But the chronicle did not calm her down, nor did  she find all that much resemblance. She waited feverishly for answers to certain of her letters. The answers were not slow in coming; soon the fatal news was  received that Prince Harry had almost simultaneously fought two duels, was entirely to blame for both of them, had killed one of his opponents on the spot and crippled the other, and as a consequence of such deeds had been brought to trial. The affair ended with his being broken to the ranks, stripped of his rights, and exiled to service in one of the infantry regiments, and even that only by special favor.'}]\n"
     ]
    }
   ],
   "source": [
    "data_list = []\n",
    "i = 0\n",
    "for tr in translator_to_pars.keys():\n",
    "    label = le.transform([tr])[0]\n",
    "    for d in translator_to_pars[tr]:\n",
    "        src, tgt = d['source'], d['translation']\n",
    "        concat = src + ' <SEP> ' + tgt\n",
    "        sent_dict = {'idx': d['idx'], 'book':d['book'], 'labels': label, 'concat': concat,  'translator': d['translator'], 'sim': d['sim'], 'src': src, 'tgt': tgt}\n",
    "        data_list.append(sent_dict)\n",
    "        i += 1\n",
    "\n",
    "\n",
    "data_list_holdout = []\n",
    "i = 0\n",
    "for tr in translator_to_pars_holdout.keys():\n",
    "    label = le.transform([tr])[0]\n",
    "    for d in translator_to_pars_holdout[tr]:\n",
    "        src, tgt = d['source'], d['translation']\n",
    "        concat = src + ' <SEP> ' + tgt\n",
    "        sent_dict = {'idx': d['idx'], 'book':d['book'], 'labels': label, 'concat': concat, 'translator': d['translator'], 'sim': d['sim'], 'src': src, 'tgt': tgt}\n",
    "        data_list_holdout.append(sent_dict)\n",
    "        i += 1\n",
    "        \n",
    "print(data_list[:1])"
   ]
  },
  {
   "cell_type": "code",
   "execution_count": null,
   "metadata": {},
   "outputs": [],
   "source": [
    "import pandas as pd\n",
    "\n",
    "df = pd.DataFrame(data_list)\n",
    "df_holdout = pd.DataFrame(data_list_holdout)\n",
    "pd.set_option('display.max_colwidth', 0)"
   ]
  },
  {
   "cell_type": "code",
   "execution_count": null,
   "metadata": {},
   "outputs": [
    {
     "name": "stdout",
     "output_type": "stream",
     "text": [
      "(17735, 8)\n",
      "(2165, 8)\n"
     ]
    }
   ],
   "source": [
    "print(df.shape)\n",
    "print(df_holdout.shape)"
   ]
  },
  {
   "cell_type": "code",
   "execution_count": null,
   "metadata": {},
   "outputs": [],
   "source": [
    "# {'idx': d['idx'], 'book':d['book'], 'labels': label, 'concat': concat, 'translator': d['translator'], 'sim': d['sim'], 'src': src, 'tgt': tgt}\n",
    "df_holdout_X = df_holdout[['idx','book', 'concat', 'translator', 'sim', 'src', 'tgt']]\n",
    "# df1.head()"
   ]
  },
  {
   "cell_type": "code",
   "execution_count": null,
   "metadata": {},
   "outputs": [
    {
     "name": "stdout",
     "output_type": "stream",
     "text": [
      "train size:  (17735, 8)\n",
      "val size:  (1083, 8)\n",
      "test size:  (1082, 8)\n",
      "{'label': 4, 'text': \"Когда Левин вошел с Облонским в гостиницу, он не мог не заметить некоторой особенности выражения, как бы сдержанного сияния, на лице и во всей фигуре Степана Аркадьича. Облонский снял пальто и в шляпе набекрень прошел в столовую, отдавая приказания липнувшим к нему татарам во фраках и с салфетками. Кланяясь направо и налево нашедшимся и тут, как везде, радостно встречавшим его знакомым, он подошел к буфету, закусил водку рыбкой и что-то такое сказал раскрашенной, в ленточках, кружевах и завитушках француженке, сидевшей за конторкой, что даже эта француженка искренно засмеялась. Левин же только оттого не выпил водки, что ему оскорбительна была эта француженка, вся составленная, казалось, из чужих волос, poudre de riz и vinaigre de toilette.[44] Он, как от грязного места, поспешно отошел от нее. Вся душа его была переполнена воспоминанием о Кити, и в глазах его светилась улыбка торжества и счастия. <SEP> As Levin entered the hotel with Oblonsky, he could not help noticing a certain special expression, as if of restrained radiance, on the face and in the whole figure of Stepan Arkadyich. Oblonsky took off his coat and with his hat cocked passed into the restaurant, giving orders to the Tartars1¢ in tailcoats who clung to him, napkins over their arms. Bowing right and left to the joyful greetings of acquaintances who turned up there, as everywhere, he went to the bar, followed his glass of vodka with a bit of fish, and said something to the painted Frenchwoman in ribbons, lace and ringlets who was sitting at the counter, so that even this Frenchwoman burst into genuine laughter. Levin did not drink vodka, if only because this Frenchwoman, who seemed to consist entirely of other people's hair, poudre de riz and vinaigre de toilette,» was offensive to him. He hastened to step away from her as from a dirty spot. His whole soul was overflowing with the remembrance of Kitty, and in his eyes shone a smile of triumph and happiness.\"}\n",
      "train size:  17735\n",
      "val size:  1083\n",
      "test size:  1082\n"
     ]
    }
   ],
   "source": [
    "from sklearn.model_selection import train_test_split\n",
    "\n",
    "# train_texts = df['sentence'].values.tolist()\n",
    "# train_labels = df['labels'].values.tolist()\n",
    "# test_texts = df_holdout['concat'].values.tolist()\n",
    "# test_labels = df_holdout['labels'].values.tolist()\n",
    "\n",
    "# train_texts =  df['concat'].values.tolist()\n",
    "# train_labels = df['labels'].values.tolist()\n",
    "\n",
    "test_texts, val_texts, test_labels, val_labels = train_test_split(\n",
    "    df_holdout_X, df_holdout['labels'],\n",
    "    stratify = df_holdout['labels'], shuffle=True, test_size=0.5\n",
    ")\n",
    "\n",
    "train_df = df\n",
    "test_df = pd.concat([test_texts, test_labels], axis=1)\n",
    "val_df = pd.concat([val_texts, val_labels], axis=1)\n",
    "print('train size: ', train_df.shape)\n",
    "print('val size: ', val_df.shape)\n",
    "print('test size: ', test_df.shape)\n",
    "\n",
    "sentences = {}\n",
    "sentences['train'] = [{'label': row['labels'], 'text':row['concat']} for i, row in train_df.iterrows()]\n",
    "sentences['test'] = [{'label': row['labels'], 'text':row['concat']} for i, row in test_df.iterrows()]\n",
    "sentences['val'] = [{'label': row['labels'], 'text':row['concat']} for i, row in val_df.iterrows()]\n",
    "# for t, l in zip(train_texts, train_labels):\n",
    "#     datum = {'label': l, 'text': t}\n",
    "#     sentences['train'].append(datum)\n",
    "\n",
    "# for t, l in zip(val_texts, val_labels):\n",
    "#     datum = {'label': l, 'text': t}\n",
    "#     sentences['val'].append(datum)\n",
    "\n",
    "# for t, l in zip(test_texts, test_labels):\n",
    "#     datum = {'label': l, 'text': t}\n",
    "#     sentences['test'].append(datum)\n",
    "\n",
    "print(sentences['train'][770])\n",
    "\n",
    "\n",
    "print('train size: ', len(sentences['train']))\n",
    "print('val size: ', len(sentences['val']))\n",
    "print('test size: ', len(sentences['test']))"
   ]
  },
  {
   "cell_type": "code",
   "execution_count": null,
   "metadata": {},
   "outputs": [],
   "source": [
    "# with open('/home/kkatsy/litMT/classification_experiments_dataset.pickle', 'wb') as handle:\n",
    "#     pickle.dump(sentences, handle, protocol=pickle.HIGHEST_PROTOCOL)"
   ]
  },
  {
   "cell_type": "code",
   "execution_count": null,
   "metadata": {},
   "outputs": [],
   "source": [
    "# with open('/home/kkatsy/litMT/classification_experiments_dataset.pickle', 'wb') as handle:\n",
    "#     a = pickle.load(sentences, handle, protocol=pickle.HIGHEST_PROTOCOL)"
   ]
  },
  {
   "cell_type": "markdown",
   "metadata": {},
   "source": [
    "## Train Model"
   ]
  },
  {
   "cell_type": "code",
   "execution_count": null,
   "metadata": {},
   "outputs": [],
   "source": [
    "if torch.cuda.is_available():\n",
    "  dev = \"cuda\"\n",
    "else:\n",
    "  dev = \"cpu\"\n",
    "device = torch.device(dev)"
   ]
  },
  {
   "cell_type": "code",
   "execution_count": null,
   "metadata": {},
   "outputs": [],
   "source": [
    "BERT_MODEL = \"bert-base-multilingual-cased\"\n",
    "\n",
    "from transformers import AutoTokenizer\n",
    "\n",
    "tokenizer = AutoTokenizer.from_pretrained('bert-base-multilingual-cased')"
   ]
  },
  {
   "cell_type": "code",
   "execution_count": null,
   "metadata": {},
   "outputs": [
    {
     "name": "stdout",
     "output_type": "stream",
     "text": [
      "[102, 10882, 62900, 19226, 10105, 19157, 10169, 43019, 57098, 11445, 117, 10261, 12174, 10472, 15217, 75349, 19113, 169, 16620, 14478, 23515, 117, 10146, 12277, 10108, 17333, 32782, 10336, 31031, 16460, 117, 10135, 10105, 13295, 10111, 10106, 10105, 21047, 17527, 10108, 41653, 10206, 67552, 51210, 14401, 119, 43019, 57098, 11445, 12149, 11898, 10226, 63646, 10111, 10169, 10226, 11250, 11170, 72333, 20006, 10708, 10105, 26234, 117, 24426, 31303, 10114, 10105, 14248, 95941, 10107, 10759, 110883, 10106, 48497, 83592, 10806, 10479, 171, 25497, 10114, 10957, 117, 64728, 39460, 10491, 10455, 28150, 119, 74857, 10230, 13448, 10111, 12153, 10114, 10105, 12541, 62026, 10604, 30518, 23203, 18800, 10108, 24742, 42948, 28524, 10479, 21031, 10741, 11155, 117, 10146, 14234, 30935, 117, 10261, 13446, 10114, 10105, 18121, 117, 15689, 10226, 32362, 10108, 12556, 41513, 10169, 169, 17684, 10108, 26228, 117, 10111, 12415, 26133, 10114, 10105, 37992, 11894, 79999, 10106, 29956, 14496, 13326, 117, 23455, 10112, 10111, 21550, 36630, 10479, 10134, 62151, 10160, 10105, 46298, 117, 10380, 10189, 13246, 10531, 11894, 79999, 11499, 21328, 10708, 15331, 63251, 27207, 45953, 119, 62900, 12172, 10472, 69423, 12556, 41513, 117, 12277, 10893, 12373, 10531, 11894, 79999, 117, 10479, 64676, 10114, 67120, 34053, 10108, 10684, 11426, 112, 187, 40830, 117, 23491, 16419, 10104, 29956, 10305, 10111, 38973, 11542, 26095, 10104, 63131, 12131, 117, 220, 10134, 31820, 10114, 10957, 119, 10357, 10393, 52423, 10162, 10114, 31877, 14942, 10188, 10485, 10146, 10188, 169, 15895, 11195, 28504, 119, 11597, 21047, 33068, 10134, 10491, 105739, 10230, 10169, 10105, 11639, 60503, 81371, 10419, 10108, 53623, 117, 10111, 10106, 10226, 38144, 48201, 12926, 102]\n"
     ]
    }
   ],
   "source": [
    "text1, text2 = sentences['train'][770]['text'].split(' <SEP> ')\n",
    "tokenized1 = tokenizer([text1, text2], [text1, text2], padding='max_length', max_length=512, truncation='longest_first')\n",
    "tokenized2 = tokenizer(text1, text2, padding='max_length', max_length=512, truncation='longest_first')\n",
    "\n",
    "\n",
    "print(tokenized2.input_ids[256:])\n"
   ]
  },
  {
   "cell_type": "code",
   "execution_count": null,
   "metadata": {},
   "outputs": [],
   "source": [
    "import datasets\n",
    "import pandas as pd\n",
    "\n",
    "train_dataset = datasets.Dataset.from_pandas(pd.DataFrame(data=sentences['train']))\n",
    "val_dataset = datasets.Dataset.from_pandas(pd.DataFrame(data=sentences['val']))\n",
    "test_dataset = datasets.Dataset.from_pandas(pd.DataFrame(data=sentences['test']))"
   ]
  },
  {
   "cell_type": "code",
   "execution_count": null,
   "metadata": {},
   "outputs": [
    {
     "data": {
      "application/vnd.jupyter.widget-view+json": {
       "model_id": "09d1cfe50d6542818883ad8f74b51f90",
       "version_major": 2,
       "version_minor": 0
      },
      "text/plain": [
       "Map:   0%|          | 0/17735 [00:00<?, ? examples/s]"
      ]
     },
     "metadata": {},
     "output_type": "display_data"
    },
    {
     "data": {
      "application/vnd.jupyter.widget-view+json": {
       "model_id": "7966ed9b512a4d6aaf3e442d13fb3f37",
       "version_major": 2,
       "version_minor": 0
      },
      "text/plain": [
       "Map:   0%|          | 0/1083 [00:00<?, ? examples/s]"
      ]
     },
     "metadata": {},
     "output_type": "display_data"
    },
    {
     "ename": "KeyboardInterrupt",
     "evalue": "",
     "output_type": "error",
     "traceback": [
      "\u001b[0;31m---------------------------------------------------------------------------\u001b[0m",
      "\u001b[0;31mKeyboardInterrupt\u001b[0m                         Traceback (most recent call last)",
      "Cell \u001b[0;32mIn[33], line 6\u001b[0m\n\u001b[1;32m      3\u001b[0m     \u001b[38;5;28;01mreturn\u001b[39;00m tokenizer(src, tgt, padding\u001b[38;5;241m=\u001b[39m\u001b[38;5;124m'\u001b[39m\u001b[38;5;124mmax_length\u001b[39m\u001b[38;5;124m'\u001b[39m, max_length\u001b[38;5;241m=\u001b[39m\u001b[38;5;241m512\u001b[39m, truncation\u001b[38;5;241m=\u001b[39m\u001b[38;5;124m'\u001b[39m\u001b[38;5;124mlongest_first\u001b[39m\u001b[38;5;124m'\u001b[39m)\n\u001b[1;32m      5\u001b[0m tokenized_train \u001b[38;5;241m=\u001b[39m train_dataset\u001b[38;5;241m.\u001b[39mmap(preprocess_function)\n\u001b[0;32m----> 6\u001b[0m tokenized_val \u001b[38;5;241m=\u001b[39m val_dataset\u001b[38;5;241m.\u001b[39mmap(preprocess_function)\n\u001b[1;32m      7\u001b[0m tokenized_test \u001b[38;5;241m=\u001b[39m test_dataset\u001b[38;5;241m.\u001b[39mmap(preprocess_function)\n",
      "File \u001b[0;32m~/anaconda3/lib/python3.11/site-packages/datasets/arrow_dataset.py:591\u001b[0m, in \u001b[0;36mtransmit_tasks.<locals>.wrapper\u001b[0;34m(*args, **kwargs)\u001b[0m\n\u001b[1;32m    589\u001b[0m     \u001b[38;5;28mself\u001b[39m: \u001b[38;5;124m\"\u001b[39m\u001b[38;5;124mDataset\u001b[39m\u001b[38;5;124m\"\u001b[39m \u001b[38;5;241m=\u001b[39m kwargs\u001b[38;5;241m.\u001b[39mpop(\u001b[38;5;124m\"\u001b[39m\u001b[38;5;124mself\u001b[39m\u001b[38;5;124m\"\u001b[39m)\n\u001b[1;32m    590\u001b[0m \u001b[38;5;66;03m# apply actual function\u001b[39;00m\n\u001b[0;32m--> 591\u001b[0m out: Union[\u001b[38;5;124m\"\u001b[39m\u001b[38;5;124mDataset\u001b[39m\u001b[38;5;124m\"\u001b[39m, \u001b[38;5;124m\"\u001b[39m\u001b[38;5;124mDatasetDict\u001b[39m\u001b[38;5;124m\"\u001b[39m] \u001b[38;5;241m=\u001b[39m func(\u001b[38;5;28mself\u001b[39m, \u001b[38;5;241m*\u001b[39margs, \u001b[38;5;241m*\u001b[39m\u001b[38;5;241m*\u001b[39mkwargs)\n\u001b[1;32m    592\u001b[0m datasets: List[\u001b[38;5;124m\"\u001b[39m\u001b[38;5;124mDataset\u001b[39m\u001b[38;5;124m\"\u001b[39m] \u001b[38;5;241m=\u001b[39m \u001b[38;5;28mlist\u001b[39m(out\u001b[38;5;241m.\u001b[39mvalues()) \u001b[38;5;28;01mif\u001b[39;00m \u001b[38;5;28misinstance\u001b[39m(out, \u001b[38;5;28mdict\u001b[39m) \u001b[38;5;28;01melse\u001b[39;00m [out]\n\u001b[1;32m    593\u001b[0m \u001b[38;5;28;01mfor\u001b[39;00m dataset \u001b[38;5;129;01min\u001b[39;00m datasets:\n\u001b[1;32m    594\u001b[0m     \u001b[38;5;66;03m# Remove task templates if a column mapping of the template is no longer valid\u001b[39;00m\n",
      "File \u001b[0;32m~/anaconda3/lib/python3.11/site-packages/datasets/arrow_dataset.py:556\u001b[0m, in \u001b[0;36mtransmit_format.<locals>.wrapper\u001b[0;34m(*args, **kwargs)\u001b[0m\n\u001b[1;32m    549\u001b[0m self_format \u001b[38;5;241m=\u001b[39m {\n\u001b[1;32m    550\u001b[0m     \u001b[38;5;124m\"\u001b[39m\u001b[38;5;124mtype\u001b[39m\u001b[38;5;124m\"\u001b[39m: \u001b[38;5;28mself\u001b[39m\u001b[38;5;241m.\u001b[39m_format_type,\n\u001b[1;32m    551\u001b[0m     \u001b[38;5;124m\"\u001b[39m\u001b[38;5;124mformat_kwargs\u001b[39m\u001b[38;5;124m\"\u001b[39m: \u001b[38;5;28mself\u001b[39m\u001b[38;5;241m.\u001b[39m_format_kwargs,\n\u001b[1;32m    552\u001b[0m     \u001b[38;5;124m\"\u001b[39m\u001b[38;5;124mcolumns\u001b[39m\u001b[38;5;124m\"\u001b[39m: \u001b[38;5;28mself\u001b[39m\u001b[38;5;241m.\u001b[39m_format_columns,\n\u001b[1;32m    553\u001b[0m     \u001b[38;5;124m\"\u001b[39m\u001b[38;5;124moutput_all_columns\u001b[39m\u001b[38;5;124m\"\u001b[39m: \u001b[38;5;28mself\u001b[39m\u001b[38;5;241m.\u001b[39m_output_all_columns,\n\u001b[1;32m    554\u001b[0m }\n\u001b[1;32m    555\u001b[0m \u001b[38;5;66;03m# apply actual function\u001b[39;00m\n\u001b[0;32m--> 556\u001b[0m out: Union[\u001b[38;5;124m\"\u001b[39m\u001b[38;5;124mDataset\u001b[39m\u001b[38;5;124m\"\u001b[39m, \u001b[38;5;124m\"\u001b[39m\u001b[38;5;124mDatasetDict\u001b[39m\u001b[38;5;124m\"\u001b[39m] \u001b[38;5;241m=\u001b[39m func(\u001b[38;5;28mself\u001b[39m, \u001b[38;5;241m*\u001b[39margs, \u001b[38;5;241m*\u001b[39m\u001b[38;5;241m*\u001b[39mkwargs)\n\u001b[1;32m    557\u001b[0m datasets: List[\u001b[38;5;124m\"\u001b[39m\u001b[38;5;124mDataset\u001b[39m\u001b[38;5;124m\"\u001b[39m] \u001b[38;5;241m=\u001b[39m \u001b[38;5;28mlist\u001b[39m(out\u001b[38;5;241m.\u001b[39mvalues()) \u001b[38;5;28;01mif\u001b[39;00m \u001b[38;5;28misinstance\u001b[39m(out, \u001b[38;5;28mdict\u001b[39m) \u001b[38;5;28;01melse\u001b[39;00m [out]\n\u001b[1;32m    558\u001b[0m \u001b[38;5;66;03m# re-apply format to the output\u001b[39;00m\n",
      "File \u001b[0;32m~/anaconda3/lib/python3.11/site-packages/datasets/arrow_dataset.py:3089\u001b[0m, in \u001b[0;36mDataset.map\u001b[0;34m(self, function, with_indices, with_rank, input_columns, batched, batch_size, drop_last_batch, remove_columns, keep_in_memory, load_from_cache_file, cache_file_name, writer_batch_size, features, disable_nullable, fn_kwargs, num_proc, suffix_template, new_fingerprint, desc)\u001b[0m\n\u001b[1;32m   3082\u001b[0m \u001b[38;5;28;01mif\u001b[39;00m transformed_dataset \u001b[38;5;129;01mis\u001b[39;00m \u001b[38;5;28;01mNone\u001b[39;00m:\n\u001b[1;32m   3083\u001b[0m     \u001b[38;5;28;01mwith\u001b[39;00m logging\u001b[38;5;241m.\u001b[39mtqdm(\n\u001b[1;32m   3084\u001b[0m         disable\u001b[38;5;241m=\u001b[39m\u001b[38;5;129;01mnot\u001b[39;00m logging\u001b[38;5;241m.\u001b[39mis_progress_bar_enabled(),\n\u001b[1;32m   3085\u001b[0m         unit\u001b[38;5;241m=\u001b[39m\u001b[38;5;124m\"\u001b[39m\u001b[38;5;124m examples\u001b[39m\u001b[38;5;124m\"\u001b[39m,\n\u001b[1;32m   3086\u001b[0m         total\u001b[38;5;241m=\u001b[39mpbar_total,\n\u001b[1;32m   3087\u001b[0m         desc\u001b[38;5;241m=\u001b[39mdesc \u001b[38;5;129;01mor\u001b[39;00m \u001b[38;5;124m\"\u001b[39m\u001b[38;5;124mMap\u001b[39m\u001b[38;5;124m\"\u001b[39m,\n\u001b[1;32m   3088\u001b[0m     ) \u001b[38;5;28;01mas\u001b[39;00m pbar:\n\u001b[0;32m-> 3089\u001b[0m         \u001b[38;5;28;01mfor\u001b[39;00m rank, done, content \u001b[38;5;129;01min\u001b[39;00m Dataset\u001b[38;5;241m.\u001b[39m_map_single(\u001b[38;5;241m*\u001b[39m\u001b[38;5;241m*\u001b[39mdataset_kwargs):\n\u001b[1;32m   3090\u001b[0m             \u001b[38;5;28;01mif\u001b[39;00m done:\n\u001b[1;32m   3091\u001b[0m                 shards_done \u001b[38;5;241m+\u001b[39m\u001b[38;5;241m=\u001b[39m \u001b[38;5;241m1\u001b[39m\n",
      "File \u001b[0;32m~/anaconda3/lib/python3.11/site-packages/datasets/arrow_dataset.py:3442\u001b[0m, in \u001b[0;36mDataset._map_single\u001b[0;34m(shard, function, with_indices, with_rank, input_columns, batched, batch_size, drop_last_batch, remove_columns, keep_in_memory, cache_file_name, writer_batch_size, features, disable_nullable, fn_kwargs, new_fingerprint, rank, offset)\u001b[0m\n\u001b[1;32m   3440\u001b[0m _time \u001b[38;5;241m=\u001b[39m time\u001b[38;5;241m.\u001b[39mtime()\n\u001b[1;32m   3441\u001b[0m \u001b[38;5;28;01mfor\u001b[39;00m i, example \u001b[38;5;129;01min\u001b[39;00m shard_iterable:\n\u001b[0;32m-> 3442\u001b[0m     example \u001b[38;5;241m=\u001b[39m apply_function_on_filtered_inputs(example, i, offset\u001b[38;5;241m=\u001b[39moffset)\n\u001b[1;32m   3443\u001b[0m     \u001b[38;5;28;01mif\u001b[39;00m update_data:\n\u001b[1;32m   3444\u001b[0m         \u001b[38;5;28;01mif\u001b[39;00m i \u001b[38;5;241m==\u001b[39m \u001b[38;5;241m0\u001b[39m:\n",
      "File \u001b[0;32m~/anaconda3/lib/python3.11/site-packages/datasets/arrow_dataset.py:3345\u001b[0m, in \u001b[0;36mDataset._map_single.<locals>.apply_function_on_filtered_inputs\u001b[0;34m(pa_inputs, indices, check_same_num_examples, offset)\u001b[0m\n\u001b[1;32m   3343\u001b[0m \u001b[38;5;28;01mif\u001b[39;00m with_rank:\n\u001b[1;32m   3344\u001b[0m     additional_args \u001b[38;5;241m+\u001b[39m\u001b[38;5;241m=\u001b[39m (rank,)\n\u001b[0;32m-> 3345\u001b[0m processed_inputs \u001b[38;5;241m=\u001b[39m function(\u001b[38;5;241m*\u001b[39mfn_args, \u001b[38;5;241m*\u001b[39madditional_args, \u001b[38;5;241m*\u001b[39m\u001b[38;5;241m*\u001b[39mfn_kwargs)\n\u001b[1;32m   3346\u001b[0m \u001b[38;5;28;01mif\u001b[39;00m \u001b[38;5;28misinstance\u001b[39m(processed_inputs, LazyDict):\n\u001b[1;32m   3347\u001b[0m     processed_inputs \u001b[38;5;241m=\u001b[39m {\n\u001b[1;32m   3348\u001b[0m         k: v \u001b[38;5;28;01mfor\u001b[39;00m k, v \u001b[38;5;129;01min\u001b[39;00m processed_inputs\u001b[38;5;241m.\u001b[39mdata\u001b[38;5;241m.\u001b[39mitems() \u001b[38;5;28;01mif\u001b[39;00m k \u001b[38;5;129;01mnot\u001b[39;00m \u001b[38;5;129;01min\u001b[39;00m processed_inputs\u001b[38;5;241m.\u001b[39mkeys_to_format\n\u001b[1;32m   3349\u001b[0m     }\n",
      "Cell \u001b[0;32mIn[33], line 3\u001b[0m, in \u001b[0;36mpreprocess_function\u001b[0;34m(datum)\u001b[0m\n\u001b[1;32m      1\u001b[0m \u001b[38;5;28;01mdef\u001b[39;00m \u001b[38;5;21mpreprocess_function\u001b[39m(datum):\n\u001b[1;32m      2\u001b[0m     src, tgt \u001b[38;5;241m=\u001b[39m datum[\u001b[38;5;124m'\u001b[39m\u001b[38;5;124mtext\u001b[39m\u001b[38;5;124m'\u001b[39m]\u001b[38;5;241m.\u001b[39msplit(\u001b[38;5;124m'\u001b[39m\u001b[38;5;124m <SEP> \u001b[39m\u001b[38;5;124m'\u001b[39m)\n\u001b[0;32m----> 3\u001b[0m     \u001b[38;5;28;01mreturn\u001b[39;00m tokenizer(src, tgt, padding\u001b[38;5;241m=\u001b[39m\u001b[38;5;124m'\u001b[39m\u001b[38;5;124mmax_length\u001b[39m\u001b[38;5;124m'\u001b[39m, max_length\u001b[38;5;241m=\u001b[39m\u001b[38;5;241m512\u001b[39m, truncation\u001b[38;5;241m=\u001b[39m\u001b[38;5;124m'\u001b[39m\u001b[38;5;124mlongest_first\u001b[39m\u001b[38;5;124m'\u001b[39m)\n",
      "File \u001b[0;32m~/anaconda3/lib/python3.11/site-packages/transformers/tokenization_utils_base.py:2803\u001b[0m, in \u001b[0;36mPreTrainedTokenizerBase.__call__\u001b[0;34m(self, text, text_pair, text_target, text_pair_target, add_special_tokens, padding, truncation, max_length, stride, is_split_into_words, pad_to_multiple_of, return_tensors, return_token_type_ids, return_attention_mask, return_overflowing_tokens, return_special_tokens_mask, return_offsets_mapping, return_length, verbose, **kwargs)\u001b[0m\n\u001b[1;32m   2801\u001b[0m     \u001b[38;5;28;01mif\u001b[39;00m \u001b[38;5;129;01mnot\u001b[39;00m \u001b[38;5;28mself\u001b[39m\u001b[38;5;241m.\u001b[39m_in_target_context_manager:\n\u001b[1;32m   2802\u001b[0m         \u001b[38;5;28mself\u001b[39m\u001b[38;5;241m.\u001b[39m_switch_to_input_mode()\n\u001b[0;32m-> 2803\u001b[0m     encodings \u001b[38;5;241m=\u001b[39m \u001b[38;5;28mself\u001b[39m\u001b[38;5;241m.\u001b[39m_call_one(text\u001b[38;5;241m=\u001b[39mtext, text_pair\u001b[38;5;241m=\u001b[39mtext_pair, \u001b[38;5;241m*\u001b[39m\u001b[38;5;241m*\u001b[39mall_kwargs)\n\u001b[1;32m   2804\u001b[0m \u001b[38;5;28;01mif\u001b[39;00m text_target \u001b[38;5;129;01mis\u001b[39;00m \u001b[38;5;129;01mnot\u001b[39;00m \u001b[38;5;28;01mNone\u001b[39;00m:\n\u001b[1;32m   2805\u001b[0m     \u001b[38;5;28mself\u001b[39m\u001b[38;5;241m.\u001b[39m_switch_to_target_mode()\n",
      "File \u001b[0;32m~/anaconda3/lib/python3.11/site-packages/transformers/tokenization_utils_base.py:2909\u001b[0m, in \u001b[0;36mPreTrainedTokenizerBase._call_one\u001b[0;34m(self, text, text_pair, add_special_tokens, padding, truncation, max_length, stride, is_split_into_words, pad_to_multiple_of, return_tensors, return_token_type_ids, return_attention_mask, return_overflowing_tokens, return_special_tokens_mask, return_offsets_mapping, return_length, verbose, **kwargs)\u001b[0m\n\u001b[1;32m   2889\u001b[0m     \u001b[38;5;28;01mreturn\u001b[39;00m \u001b[38;5;28mself\u001b[39m\u001b[38;5;241m.\u001b[39mbatch_encode_plus(\n\u001b[1;32m   2890\u001b[0m         batch_text_or_text_pairs\u001b[38;5;241m=\u001b[39mbatch_text_or_text_pairs,\n\u001b[1;32m   2891\u001b[0m         add_special_tokens\u001b[38;5;241m=\u001b[39madd_special_tokens,\n\u001b[0;32m   (...)\u001b[0m\n\u001b[1;32m   2906\u001b[0m         \u001b[38;5;241m*\u001b[39m\u001b[38;5;241m*\u001b[39mkwargs,\n\u001b[1;32m   2907\u001b[0m     )\n\u001b[1;32m   2908\u001b[0m \u001b[38;5;28;01melse\u001b[39;00m:\n\u001b[0;32m-> 2909\u001b[0m     \u001b[38;5;28;01mreturn\u001b[39;00m \u001b[38;5;28mself\u001b[39m\u001b[38;5;241m.\u001b[39mencode_plus(\n\u001b[1;32m   2910\u001b[0m         text\u001b[38;5;241m=\u001b[39mtext,\n\u001b[1;32m   2911\u001b[0m         text_pair\u001b[38;5;241m=\u001b[39mtext_pair,\n\u001b[1;32m   2912\u001b[0m         add_special_tokens\u001b[38;5;241m=\u001b[39madd_special_tokens,\n\u001b[1;32m   2913\u001b[0m         padding\u001b[38;5;241m=\u001b[39mpadding,\n\u001b[1;32m   2914\u001b[0m         truncation\u001b[38;5;241m=\u001b[39mtruncation,\n\u001b[1;32m   2915\u001b[0m         max_length\u001b[38;5;241m=\u001b[39mmax_length,\n\u001b[1;32m   2916\u001b[0m         stride\u001b[38;5;241m=\u001b[39mstride,\n\u001b[1;32m   2917\u001b[0m         is_split_into_words\u001b[38;5;241m=\u001b[39mis_split_into_words,\n\u001b[1;32m   2918\u001b[0m         pad_to_multiple_of\u001b[38;5;241m=\u001b[39mpad_to_multiple_of,\n\u001b[1;32m   2919\u001b[0m         return_tensors\u001b[38;5;241m=\u001b[39mreturn_tensors,\n\u001b[1;32m   2920\u001b[0m         return_token_type_ids\u001b[38;5;241m=\u001b[39mreturn_token_type_ids,\n\u001b[1;32m   2921\u001b[0m         return_attention_mask\u001b[38;5;241m=\u001b[39mreturn_attention_mask,\n\u001b[1;32m   2922\u001b[0m         return_overflowing_tokens\u001b[38;5;241m=\u001b[39mreturn_overflowing_tokens,\n\u001b[1;32m   2923\u001b[0m         return_special_tokens_mask\u001b[38;5;241m=\u001b[39mreturn_special_tokens_mask,\n\u001b[1;32m   2924\u001b[0m         return_offsets_mapping\u001b[38;5;241m=\u001b[39mreturn_offsets_mapping,\n\u001b[1;32m   2925\u001b[0m         return_length\u001b[38;5;241m=\u001b[39mreturn_length,\n\u001b[1;32m   2926\u001b[0m         verbose\u001b[38;5;241m=\u001b[39mverbose,\n\u001b[1;32m   2927\u001b[0m         \u001b[38;5;241m*\u001b[39m\u001b[38;5;241m*\u001b[39mkwargs,\n\u001b[1;32m   2928\u001b[0m     )\n",
      "File \u001b[0;32m~/anaconda3/lib/python3.11/site-packages/transformers/tokenization_utils_base.py:2982\u001b[0m, in \u001b[0;36mPreTrainedTokenizerBase.encode_plus\u001b[0;34m(self, text, text_pair, add_special_tokens, padding, truncation, max_length, stride, is_split_into_words, pad_to_multiple_of, return_tensors, return_token_type_ids, return_attention_mask, return_overflowing_tokens, return_special_tokens_mask, return_offsets_mapping, return_length, verbose, **kwargs)\u001b[0m\n\u001b[1;32m   2972\u001b[0m \u001b[38;5;66;03m# Backward compatibility for 'truncation_strategy', 'pad_to_max_length'\u001b[39;00m\n\u001b[1;32m   2973\u001b[0m padding_strategy, truncation_strategy, max_length, kwargs \u001b[38;5;241m=\u001b[39m \u001b[38;5;28mself\u001b[39m\u001b[38;5;241m.\u001b[39m_get_padding_truncation_strategies(\n\u001b[1;32m   2974\u001b[0m     padding\u001b[38;5;241m=\u001b[39mpadding,\n\u001b[1;32m   2975\u001b[0m     truncation\u001b[38;5;241m=\u001b[39mtruncation,\n\u001b[0;32m   (...)\u001b[0m\n\u001b[1;32m   2979\u001b[0m     \u001b[38;5;241m*\u001b[39m\u001b[38;5;241m*\u001b[39mkwargs,\n\u001b[1;32m   2980\u001b[0m )\n\u001b[0;32m-> 2982\u001b[0m \u001b[38;5;28;01mreturn\u001b[39;00m \u001b[38;5;28mself\u001b[39m\u001b[38;5;241m.\u001b[39m_encode_plus(\n\u001b[1;32m   2983\u001b[0m     text\u001b[38;5;241m=\u001b[39mtext,\n\u001b[1;32m   2984\u001b[0m     text_pair\u001b[38;5;241m=\u001b[39mtext_pair,\n\u001b[1;32m   2985\u001b[0m     add_special_tokens\u001b[38;5;241m=\u001b[39madd_special_tokens,\n\u001b[1;32m   2986\u001b[0m     padding_strategy\u001b[38;5;241m=\u001b[39mpadding_strategy,\n\u001b[1;32m   2987\u001b[0m     truncation_strategy\u001b[38;5;241m=\u001b[39mtruncation_strategy,\n\u001b[1;32m   2988\u001b[0m     max_length\u001b[38;5;241m=\u001b[39mmax_length,\n\u001b[1;32m   2989\u001b[0m     stride\u001b[38;5;241m=\u001b[39mstride,\n\u001b[1;32m   2990\u001b[0m     is_split_into_words\u001b[38;5;241m=\u001b[39mis_split_into_words,\n\u001b[1;32m   2991\u001b[0m     pad_to_multiple_of\u001b[38;5;241m=\u001b[39mpad_to_multiple_of,\n\u001b[1;32m   2992\u001b[0m     return_tensors\u001b[38;5;241m=\u001b[39mreturn_tensors,\n\u001b[1;32m   2993\u001b[0m     return_token_type_ids\u001b[38;5;241m=\u001b[39mreturn_token_type_ids,\n\u001b[1;32m   2994\u001b[0m     return_attention_mask\u001b[38;5;241m=\u001b[39mreturn_attention_mask,\n\u001b[1;32m   2995\u001b[0m     return_overflowing_tokens\u001b[38;5;241m=\u001b[39mreturn_overflowing_tokens,\n\u001b[1;32m   2996\u001b[0m     return_special_tokens_mask\u001b[38;5;241m=\u001b[39mreturn_special_tokens_mask,\n\u001b[1;32m   2997\u001b[0m     return_offsets_mapping\u001b[38;5;241m=\u001b[39mreturn_offsets_mapping,\n\u001b[1;32m   2998\u001b[0m     return_length\u001b[38;5;241m=\u001b[39mreturn_length,\n\u001b[1;32m   2999\u001b[0m     verbose\u001b[38;5;241m=\u001b[39mverbose,\n\u001b[1;32m   3000\u001b[0m     \u001b[38;5;241m*\u001b[39m\u001b[38;5;241m*\u001b[39mkwargs,\n\u001b[1;32m   3001\u001b[0m )\n",
      "File \u001b[0;32m~/anaconda3/lib/python3.11/site-packages/transformers/tokenization_utils_fast.py:576\u001b[0m, in \u001b[0;36mPreTrainedTokenizerFast._encode_plus\u001b[0;34m(self, text, text_pair, add_special_tokens, padding_strategy, truncation_strategy, max_length, stride, is_split_into_words, pad_to_multiple_of, return_tensors, return_token_type_ids, return_attention_mask, return_overflowing_tokens, return_special_tokens_mask, return_offsets_mapping, return_length, verbose, **kwargs)\u001b[0m\n\u001b[1;32m    554\u001b[0m \u001b[38;5;28;01mdef\u001b[39;00m \u001b[38;5;21m_encode_plus\u001b[39m(\n\u001b[1;32m    555\u001b[0m     \u001b[38;5;28mself\u001b[39m,\n\u001b[1;32m    556\u001b[0m     text: Union[TextInput, PreTokenizedInput],\n\u001b[0;32m   (...)\u001b[0m\n\u001b[1;32m    573\u001b[0m     \u001b[38;5;241m*\u001b[39m\u001b[38;5;241m*\u001b[39mkwargs,\n\u001b[1;32m    574\u001b[0m ) \u001b[38;5;241m-\u001b[39m\u001b[38;5;241m>\u001b[39m BatchEncoding:\n\u001b[1;32m    575\u001b[0m     batched_input \u001b[38;5;241m=\u001b[39m [(text, text_pair)] \u001b[38;5;28;01mif\u001b[39;00m text_pair \u001b[38;5;28;01melse\u001b[39;00m [text]\n\u001b[0;32m--> 576\u001b[0m     batched_output \u001b[38;5;241m=\u001b[39m \u001b[38;5;28mself\u001b[39m\u001b[38;5;241m.\u001b[39m_batch_encode_plus(\n\u001b[1;32m    577\u001b[0m         batched_input,\n\u001b[1;32m    578\u001b[0m         is_split_into_words\u001b[38;5;241m=\u001b[39mis_split_into_words,\n\u001b[1;32m    579\u001b[0m         add_special_tokens\u001b[38;5;241m=\u001b[39madd_special_tokens,\n\u001b[1;32m    580\u001b[0m         padding_strategy\u001b[38;5;241m=\u001b[39mpadding_strategy,\n\u001b[1;32m    581\u001b[0m         truncation_strategy\u001b[38;5;241m=\u001b[39mtruncation_strategy,\n\u001b[1;32m    582\u001b[0m         max_length\u001b[38;5;241m=\u001b[39mmax_length,\n\u001b[1;32m    583\u001b[0m         stride\u001b[38;5;241m=\u001b[39mstride,\n\u001b[1;32m    584\u001b[0m         pad_to_multiple_of\u001b[38;5;241m=\u001b[39mpad_to_multiple_of,\n\u001b[1;32m    585\u001b[0m         return_tensors\u001b[38;5;241m=\u001b[39mreturn_tensors,\n\u001b[1;32m    586\u001b[0m         return_token_type_ids\u001b[38;5;241m=\u001b[39mreturn_token_type_ids,\n\u001b[1;32m    587\u001b[0m         return_attention_mask\u001b[38;5;241m=\u001b[39mreturn_attention_mask,\n\u001b[1;32m    588\u001b[0m         return_overflowing_tokens\u001b[38;5;241m=\u001b[39mreturn_overflowing_tokens,\n\u001b[1;32m    589\u001b[0m         return_special_tokens_mask\u001b[38;5;241m=\u001b[39mreturn_special_tokens_mask,\n\u001b[1;32m    590\u001b[0m         return_offsets_mapping\u001b[38;5;241m=\u001b[39mreturn_offsets_mapping,\n\u001b[1;32m    591\u001b[0m         return_length\u001b[38;5;241m=\u001b[39mreturn_length,\n\u001b[1;32m    592\u001b[0m         verbose\u001b[38;5;241m=\u001b[39mverbose,\n\u001b[1;32m    593\u001b[0m         \u001b[38;5;241m*\u001b[39m\u001b[38;5;241m*\u001b[39mkwargs,\n\u001b[1;32m    594\u001b[0m     )\n\u001b[1;32m    596\u001b[0m     \u001b[38;5;66;03m# Return tensor is None, then we can remove the leading batch axis\u001b[39;00m\n\u001b[1;32m    597\u001b[0m     \u001b[38;5;66;03m# Overflowing tokens are returned as a batch of output so we keep them in this case\u001b[39;00m\n\u001b[1;32m    598\u001b[0m     \u001b[38;5;28;01mif\u001b[39;00m return_tensors \u001b[38;5;129;01mis\u001b[39;00m \u001b[38;5;28;01mNone\u001b[39;00m \u001b[38;5;129;01mand\u001b[39;00m \u001b[38;5;129;01mnot\u001b[39;00m return_overflowing_tokens:\n",
      "File \u001b[0;32m~/anaconda3/lib/python3.11/site-packages/transformers/tokenization_utils_fast.py:504\u001b[0m, in \u001b[0;36mPreTrainedTokenizerFast._batch_encode_plus\u001b[0;34m(self, batch_text_or_text_pairs, add_special_tokens, padding_strategy, truncation_strategy, max_length, stride, is_split_into_words, pad_to_multiple_of, return_tensors, return_token_type_ids, return_attention_mask, return_overflowing_tokens, return_special_tokens_mask, return_offsets_mapping, return_length, verbose)\u001b[0m\n\u001b[1;32m    495\u001b[0m \u001b[38;5;66;03m# Set the truncation and padding strategy and restore the initial configuration\u001b[39;00m\n\u001b[1;32m    496\u001b[0m \u001b[38;5;28mself\u001b[39m\u001b[38;5;241m.\u001b[39mset_truncation_and_padding(\n\u001b[1;32m    497\u001b[0m     padding_strategy\u001b[38;5;241m=\u001b[39mpadding_strategy,\n\u001b[1;32m    498\u001b[0m     truncation_strategy\u001b[38;5;241m=\u001b[39mtruncation_strategy,\n\u001b[0;32m   (...)\u001b[0m\n\u001b[1;32m    501\u001b[0m     pad_to_multiple_of\u001b[38;5;241m=\u001b[39mpad_to_multiple_of,\n\u001b[1;32m    502\u001b[0m )\n\u001b[0;32m--> 504\u001b[0m encodings \u001b[38;5;241m=\u001b[39m \u001b[38;5;28mself\u001b[39m\u001b[38;5;241m.\u001b[39m_tokenizer\u001b[38;5;241m.\u001b[39mencode_batch(\n\u001b[1;32m    505\u001b[0m     batch_text_or_text_pairs,\n\u001b[1;32m    506\u001b[0m     add_special_tokens\u001b[38;5;241m=\u001b[39madd_special_tokens,\n\u001b[1;32m    507\u001b[0m     is_pretokenized\u001b[38;5;241m=\u001b[39mis_split_into_words,\n\u001b[1;32m    508\u001b[0m )\n\u001b[1;32m    510\u001b[0m \u001b[38;5;66;03m# Convert encoding to dict\u001b[39;00m\n\u001b[1;32m    511\u001b[0m \u001b[38;5;66;03m# `Tokens` has type: Tuple[\u001b[39;00m\n\u001b[1;32m    512\u001b[0m \u001b[38;5;66;03m#                       List[Dict[str, List[List[int]]]] or List[Dict[str, 2D-Tensor]],\u001b[39;00m\n\u001b[1;32m    513\u001b[0m \u001b[38;5;66;03m#                       List[EncodingFast]\u001b[39;00m\n\u001b[1;32m    514\u001b[0m \u001b[38;5;66;03m#                    ]\u001b[39;00m\n\u001b[1;32m    515\u001b[0m \u001b[38;5;66;03m# with nested dimensions corresponding to batch, overflows, sequence length\u001b[39;00m\n\u001b[1;32m    516\u001b[0m tokens_and_encodings \u001b[38;5;241m=\u001b[39m [\n\u001b[1;32m    517\u001b[0m     \u001b[38;5;28mself\u001b[39m\u001b[38;5;241m.\u001b[39m_convert_encoding(\n\u001b[1;32m    518\u001b[0m         encoding\u001b[38;5;241m=\u001b[39mencoding,\n\u001b[0;32m   (...)\u001b[0m\n\u001b[1;32m    527\u001b[0m     \u001b[38;5;28;01mfor\u001b[39;00m encoding \u001b[38;5;129;01min\u001b[39;00m encodings\n\u001b[1;32m    528\u001b[0m ]\n",
      "\u001b[0;31mKeyboardInterrupt\u001b[0m: "
     ]
    }
   ],
   "source": [
    "def preprocess_function(datum):\n",
    "    src, tgt = datum['text'].split(' <SEP> ')\n",
    "    return tokenizer(src, tgt, padding='max_length', max_length=512, truncation='longest_first')\n",
    "\n",
    "tokenized_train = train_dataset.map(preprocess_function)\n",
    "tokenized_val = val_dataset.map(preprocess_function)\n",
    "tokenized_test = test_dataset.map(preprocess_function)"
   ]
  },
  {
   "cell_type": "code",
   "execution_count": null,
   "metadata": {},
   "outputs": [],
   "source": [
    "from transformers import DataCollatorWithPadding\n",
    "\n",
    "data_collator = DataCollatorWithPadding(tokenizer=tokenizer)"
   ]
  },
  {
   "cell_type": "code",
   "execution_count": null,
   "metadata": {},
   "outputs": [],
   "source": [
    "import evaluate\n",
    "import numpy as np\n",
    "\n",
    "accuracy = evaluate.load(\"accuracy\")\n",
    "\n",
    "\n",
    "def compute_metrics(eval_pred):\n",
    "    predictions, labels = eval_pred\n",
    "    predictions = np.argmax(predictions, axis=1)\n",
    "    return accuracy.compute(predictions=predictions, references=labels)"
   ]
  },
  {
   "cell_type": "code",
   "execution_count": null,
   "metadata": {},
   "outputs": [
    {
     "name": "stdout",
     "output_type": "stream",
     "text": [
      "{4: 'PV', 0: 'Garnett', 2: 'Katz', 3: 'McDuff', 1: 'Hogarth'}\n",
      "{'PV': 4, 'Garnett': 0, 'Katz': 2, 'McDuff': 3, 'Hogarth': 1}\n"
     ]
    }
   ],
   "source": [
    "label_list = translator_to_pars.keys()\n",
    "id_list = le.transform(list(label_list))\n",
    "\n",
    "id2label = {}\n",
    "label2id = {}\n",
    "for l, i in zip(label_list, id_list):\n",
    "    id2label[i] = l\n",
    "    label2id[l] = i\n",
    "\n",
    "print(id2label)\n",
    "print(label2id)"
   ]
  },
  {
   "cell_type": "code",
   "execution_count": null,
   "metadata": {},
   "outputs": [],
   "source": [
    "fine_tune = True"
   ]
  },
  {
   "cell_type": "code",
   "execution_count": null,
   "metadata": {},
   "outputs": [
    {
     "name": "stderr",
     "output_type": "stream",
     "text": [
      "Some weights of BertForSequenceClassification were not initialized from the model checkpoint at bert-base-multilingual-cased and are newly initialized: ['classifier.bias', 'classifier.weight']\n",
      "You should probably TRAIN this model on a down-stream task to be able to use it for predictions and inference.\n"
     ]
    }
   ],
   "source": [
    "from numpy import mean\n",
    "from torch import nn\n",
    "from torch.utils.data import DataLoader\n",
    "from transformers import AutoModelForSequenceClassification, Trainer, TrainingArguments\n",
    "\n",
    "# device (turn on GPU acceleration for faster execution)\n",
    "# device = torch.device('cuda') if torch.cuda.is_available() else torch.device('cpu')\n",
    "\n",
    "if fine_tune:\n",
    "    # model\n",
    "    model = AutoModelForSequenceClassification.from_pretrained(\"bert-base-multilingual-cased\", num_labels = len(translator_to_pars.keys()))\n",
    "    model.to(device)"
   ]
  },
  {
   "cell_type": "code",
   "execution_count": null,
   "metadata": {},
   "outputs": [],
   "source": [
    "lr = 2e-5\n",
    "epochs = 2\n",
    "batch_size = 8"
   ]
  },
  {
   "cell_type": "code",
   "execution_count": null,
   "metadata": {},
   "outputs": [
    {
     "data": {
      "text/html": [
       "Changes to your `wandb` environment variables will be ignored because your `wandb` session has already started. For more information on how to modify your settings with `wandb.init()` arguments, please refer to <a href='https://wandb.me/wandb-init' target=\"_blank\">the W&B docs</a>."
      ],
      "text/plain": [
       "<IPython.core.display.HTML object>"
      ]
     },
     "metadata": {},
     "output_type": "display_data"
    },
    {
     "data": {
      "text/html": [
       "Finishing last run (ID:mnk7klqb) before initializing another..."
      ],
      "text/plain": [
       "<IPython.core.display.HTML object>"
      ]
     },
     "metadata": {},
     "output_type": "display_data"
    },
    {
     "name": "stderr",
     "output_type": "stream",
     "text": [
      "wandb: WARNING Source type is set to 'repo' but some required information is missing from the environment. A job will not be created from this run. See https://docs.wandb.ai/guides/launch/create-job\n"
     ]
    },
    {
     "data": {
      "application/vnd.jupyter.widget-view+json": {
       "model_id": "df29408943ff489298df9de21cf9f121",
       "version_major": 2,
       "version_minor": 0
      },
      "text/plain": [
       "VBox(children=(Label(value='0.003 MB of 0.003 MB uploaded\\r'), FloatProgress(value=1.0, max=1.0)))"
      ]
     },
     "metadata": {},
     "output_type": "display_data"
    },
    {
     "data": {
      "text/html": [
       " View run <strong style=\"color:#cdcd00\">prosperous-lantern-24</strong> at: <a href='https://wandb.ai/kkatsy/translator-classification-aligned/runs/mnk7klqb' target=\"_blank\">https://wandb.ai/kkatsy/translator-classification-aligned/runs/mnk7klqb</a><br/>Synced 6 W&B file(s), 0 media file(s), 0 artifact file(s) and 0 other file(s)"
      ],
      "text/plain": [
       "<IPython.core.display.HTML object>"
      ]
     },
     "metadata": {},
     "output_type": "display_data"
    },
    {
     "data": {
      "text/html": [
       "Find logs at: <code>./wandb/run-20240222_230247-mnk7klqb/logs</code>"
      ],
      "text/plain": [
       "<IPython.core.display.HTML object>"
      ]
     },
     "metadata": {},
     "output_type": "display_data"
    },
    {
     "data": {
      "text/html": [
       "Successfully finished last run (ID:mnk7klqb). Initializing new run:<br/>"
      ],
      "text/plain": [
       "<IPython.core.display.HTML object>"
      ]
     },
     "metadata": {},
     "output_type": "display_data"
    },
    {
     "data": {
      "application/vnd.jupyter.widget-view+json": {
       "model_id": "9b657a5ee47646e3b81e64139252b0dd",
       "version_major": 2,
       "version_minor": 0
      },
      "text/plain": [
       "VBox(children=(Label(value='Waiting for wandb.init()...\\r'), FloatProgress(value=0.011112201211249662, max=1.0…"
      ]
     },
     "metadata": {},
     "output_type": "display_data"
    },
    {
     "data": {
      "text/html": [
       "Tracking run with wandb version 0.16.3"
      ],
      "text/plain": [
       "<IPython.core.display.HTML object>"
      ]
     },
     "metadata": {},
     "output_type": "display_data"
    },
    {
     "data": {
      "text/html": [
       "Run data is saved locally in <code>/home/kkatsy/litMT/wandb/run-20240222_230418-wl371glh</code>"
      ],
      "text/plain": [
       "<IPython.core.display.HTML object>"
      ]
     },
     "metadata": {},
     "output_type": "display_data"
    },
    {
     "data": {
      "text/html": [
       "Syncing run <strong><a href='https://wandb.ai/kkatsy/translator-classification-aligned/runs/wl371glh' target=\"_blank\">chromatic-orchid-25</a></strong> to <a href='https://wandb.ai/kkatsy/translator-classification-aligned' target=\"_blank\">Weights & Biases</a> (<a href='https://wandb.me/run' target=\"_blank\">docs</a>)<br/>"
      ],
      "text/plain": [
       "<IPython.core.display.HTML object>"
      ]
     },
     "metadata": {},
     "output_type": "display_data"
    },
    {
     "data": {
      "text/html": [
       " View project at <a href='https://wandb.ai/kkatsy/translator-classification-aligned' target=\"_blank\">https://wandb.ai/kkatsy/translator-classification-aligned</a>"
      ],
      "text/plain": [
       "<IPython.core.display.HTML object>"
      ]
     },
     "metadata": {},
     "output_type": "display_data"
    },
    {
     "data": {
      "text/html": [
       " View run at <a href='https://wandb.ai/kkatsy/translator-classification-aligned/runs/wl371glh' target=\"_blank\">https://wandb.ai/kkatsy/translator-classification-aligned/runs/wl371glh</a>"
      ],
      "text/plain": [
       "<IPython.core.display.HTML object>"
      ]
     },
     "metadata": {},
     "output_type": "display_data"
    }
   ],
   "source": [
    "import wandb\n",
    "\n",
    "run = wandb.init(\n",
    "        # Set the project where this run will be logged\n",
    "        project=\"translator-classification-aligned\",\n",
    "        # Track hyperparameters and run metadata\n",
    "        config={\n",
    "            \"learning_rate\": lr,\n",
    "            \"epochs\": epochs,\n",
    "        },\n",
    "    )\n",
    "\n",
    "os.environ[\"WANDB_PROJECT\"]=\"translator-classification-aligned\"\n",
    "os.environ[\"WANDB_NOTEBOOK_NAME\"]=\"translator-classification-aligned\""
   ]
  },
  {
   "cell_type": "code",
   "execution_count": null,
   "metadata": {},
   "outputs": [
    {
     "name": "stderr",
     "output_type": "stream",
     "text": [
      "Detected kernel version 5.4.0, which is below the recommended minimum of 5.5.0; this can cause the process to hang. It is recommended to upgrade the kernel to the minimum version or higher.\n"
     ]
    }
   ],
   "source": [
    "if fine_tune:\n",
    "    training_args = TrainingArguments(\n",
    "        output_dir=\"/trunk/kkatsy/test\",\n",
    "        learning_rate=lr,\n",
    "        per_device_train_batch_size=batch_size,\n",
    "        per_device_eval_batch_size=batch_size,\n",
    "        num_train_epochs=epochs,\n",
    "        weight_decay=0.01,\n",
    "        evaluation_strategy=\"epoch\",\n",
    "        save_strategy=\"epoch\",\n",
    "        load_best_model_at_end=True,\n",
    "        push_to_hub=False,\n",
    "        report_to=\"wandb\",\n",
    "        logging_dir=\"/home/kkatsy/litMT/logs\",\n",
    "        logging_strategy=\"epoch\",\n",
    "        logging_first_step=True\n",
    "\n",
    "    )\n",
    "\n",
    "    trainer = Trainer(\n",
    "        model=model,\n",
    "        args=training_args,\n",
    "        train_dataset=tokenized_train,\n",
    "        eval_dataset=tokenized_test,\n",
    "        tokenizer=tokenizer,\n",
    "        data_collator=data_collator,\n",
    "        compute_metrics=compute_metrics\n",
    "    )"
   ]
  },
  {
   "cell_type": "code",
   "execution_count": null,
   "metadata": {},
   "outputs": [
    {
     "ename": "RuntimeError",
     "evalue": "NCCL Error 2: unhandled system error (run with NCCL_DEBUG=INFO for details)",
     "output_type": "error",
     "traceback": [
      "\u001b[0;31m---------------------------------------------------------------------------\u001b[0m",
      "\u001b[0;31mRuntimeError\u001b[0m                              Traceback (most recent call last)",
      "Cell \u001b[0;32mIn[60], line 2\u001b[0m\n\u001b[1;32m      1\u001b[0m \u001b[38;5;28;01mif\u001b[39;00m fine_tune:\n\u001b[0;32m----> 2\u001b[0m     trainer\u001b[38;5;241m.\u001b[39mtrain()\n",
      "File \u001b[0;32m~/anaconda3/lib/python3.11/site-packages/transformers/trainer.py:1539\u001b[0m, in \u001b[0;36mTrainer.train\u001b[0;34m(self, resume_from_checkpoint, trial, ignore_keys_for_eval, **kwargs)\u001b[0m\n\u001b[1;32m   1537\u001b[0m         hf_hub_utils\u001b[38;5;241m.\u001b[39menable_progress_bars()\n\u001b[1;32m   1538\u001b[0m \u001b[38;5;28;01melse\u001b[39;00m:\n\u001b[0;32m-> 1539\u001b[0m     \u001b[38;5;28;01mreturn\u001b[39;00m inner_training_loop(\n\u001b[1;32m   1540\u001b[0m         args\u001b[38;5;241m=\u001b[39margs,\n\u001b[1;32m   1541\u001b[0m         resume_from_checkpoint\u001b[38;5;241m=\u001b[39mresume_from_checkpoint,\n\u001b[1;32m   1542\u001b[0m         trial\u001b[38;5;241m=\u001b[39mtrial,\n\u001b[1;32m   1543\u001b[0m         ignore_keys_for_eval\u001b[38;5;241m=\u001b[39mignore_keys_for_eval,\n\u001b[1;32m   1544\u001b[0m     )\n",
      "File \u001b[0;32m~/anaconda3/lib/python3.11/site-packages/transformers/trainer.py:1869\u001b[0m, in \u001b[0;36mTrainer._inner_training_loop\u001b[0;34m(self, batch_size, args, resume_from_checkpoint, trial, ignore_keys_for_eval)\u001b[0m\n\u001b[1;32m   1866\u001b[0m     \u001b[38;5;28mself\u001b[39m\u001b[38;5;241m.\u001b[39mcontrol \u001b[38;5;241m=\u001b[39m \u001b[38;5;28mself\u001b[39m\u001b[38;5;241m.\u001b[39mcallback_handler\u001b[38;5;241m.\u001b[39mon_step_begin(args, \u001b[38;5;28mself\u001b[39m\u001b[38;5;241m.\u001b[39mstate, \u001b[38;5;28mself\u001b[39m\u001b[38;5;241m.\u001b[39mcontrol)\n\u001b[1;32m   1868\u001b[0m \u001b[38;5;28;01mwith\u001b[39;00m \u001b[38;5;28mself\u001b[39m\u001b[38;5;241m.\u001b[39maccelerator\u001b[38;5;241m.\u001b[39maccumulate(model):\n\u001b[0;32m-> 1869\u001b[0m     tr_loss_step \u001b[38;5;241m=\u001b[39m \u001b[38;5;28mself\u001b[39m\u001b[38;5;241m.\u001b[39mtraining_step(model, inputs)\n\u001b[1;32m   1871\u001b[0m \u001b[38;5;28;01mif\u001b[39;00m (\n\u001b[1;32m   1872\u001b[0m     args\u001b[38;5;241m.\u001b[39mlogging_nan_inf_filter\n\u001b[1;32m   1873\u001b[0m     \u001b[38;5;129;01mand\u001b[39;00m \u001b[38;5;129;01mnot\u001b[39;00m is_torch_tpu_available()\n\u001b[1;32m   1874\u001b[0m     \u001b[38;5;129;01mand\u001b[39;00m (torch\u001b[38;5;241m.\u001b[39misnan(tr_loss_step) \u001b[38;5;129;01mor\u001b[39;00m torch\u001b[38;5;241m.\u001b[39misinf(tr_loss_step))\n\u001b[1;32m   1875\u001b[0m ):\n\u001b[1;32m   1876\u001b[0m     \u001b[38;5;66;03m# if loss is nan or inf simply add the average of previous logged losses\u001b[39;00m\n\u001b[1;32m   1877\u001b[0m     tr_loss \u001b[38;5;241m+\u001b[39m\u001b[38;5;241m=\u001b[39m tr_loss \u001b[38;5;241m/\u001b[39m (\u001b[38;5;241m1\u001b[39m \u001b[38;5;241m+\u001b[39m \u001b[38;5;28mself\u001b[39m\u001b[38;5;241m.\u001b[39mstate\u001b[38;5;241m.\u001b[39mglobal_step \u001b[38;5;241m-\u001b[39m \u001b[38;5;28mself\u001b[39m\u001b[38;5;241m.\u001b[39m_globalstep_last_logged)\n",
      "File \u001b[0;32m~/anaconda3/lib/python3.11/site-packages/transformers/trainer.py:2768\u001b[0m, in \u001b[0;36mTrainer.training_step\u001b[0;34m(self, model, inputs)\u001b[0m\n\u001b[1;32m   2765\u001b[0m     \u001b[38;5;28;01mreturn\u001b[39;00m loss_mb\u001b[38;5;241m.\u001b[39mreduce_mean()\u001b[38;5;241m.\u001b[39mdetach()\u001b[38;5;241m.\u001b[39mto(\u001b[38;5;28mself\u001b[39m\u001b[38;5;241m.\u001b[39margs\u001b[38;5;241m.\u001b[39mdevice)\n\u001b[1;32m   2767\u001b[0m \u001b[38;5;28;01mwith\u001b[39;00m \u001b[38;5;28mself\u001b[39m\u001b[38;5;241m.\u001b[39mcompute_loss_context_manager():\n\u001b[0;32m-> 2768\u001b[0m     loss \u001b[38;5;241m=\u001b[39m \u001b[38;5;28mself\u001b[39m\u001b[38;5;241m.\u001b[39mcompute_loss(model, inputs)\n\u001b[1;32m   2770\u001b[0m \u001b[38;5;28;01mif\u001b[39;00m \u001b[38;5;28mself\u001b[39m\u001b[38;5;241m.\u001b[39margs\u001b[38;5;241m.\u001b[39mn_gpu \u001b[38;5;241m>\u001b[39m \u001b[38;5;241m1\u001b[39m:\n\u001b[1;32m   2771\u001b[0m     loss \u001b[38;5;241m=\u001b[39m loss\u001b[38;5;241m.\u001b[39mmean()  \u001b[38;5;66;03m# mean() to average on multi-gpu parallel training\u001b[39;00m\n",
      "File \u001b[0;32m~/anaconda3/lib/python3.11/site-packages/transformers/trainer.py:2791\u001b[0m, in \u001b[0;36mTrainer.compute_loss\u001b[0;34m(self, model, inputs, return_outputs)\u001b[0m\n\u001b[1;32m   2789\u001b[0m \u001b[38;5;28;01melse\u001b[39;00m:\n\u001b[1;32m   2790\u001b[0m     labels \u001b[38;5;241m=\u001b[39m \u001b[38;5;28;01mNone\u001b[39;00m\n\u001b[0;32m-> 2791\u001b[0m outputs \u001b[38;5;241m=\u001b[39m model(\u001b[38;5;241m*\u001b[39m\u001b[38;5;241m*\u001b[39minputs)\n\u001b[1;32m   2792\u001b[0m \u001b[38;5;66;03m# Save past state if it exists\u001b[39;00m\n\u001b[1;32m   2793\u001b[0m \u001b[38;5;66;03m# TODO: this needs to be fixed and made cleaner later.\u001b[39;00m\n\u001b[1;32m   2794\u001b[0m \u001b[38;5;28;01mif\u001b[39;00m \u001b[38;5;28mself\u001b[39m\u001b[38;5;241m.\u001b[39margs\u001b[38;5;241m.\u001b[39mpast_index \u001b[38;5;241m>\u001b[39m\u001b[38;5;241m=\u001b[39m \u001b[38;5;241m0\u001b[39m:\n",
      "File \u001b[0;32m~/anaconda3/lib/python3.11/site-packages/torch/nn/modules/module.py:1518\u001b[0m, in \u001b[0;36mModule._wrapped_call_impl\u001b[0;34m(self, *args, **kwargs)\u001b[0m\n\u001b[1;32m   1516\u001b[0m     \u001b[38;5;28;01mreturn\u001b[39;00m \u001b[38;5;28mself\u001b[39m\u001b[38;5;241m.\u001b[39m_compiled_call_impl(\u001b[38;5;241m*\u001b[39margs, \u001b[38;5;241m*\u001b[39m\u001b[38;5;241m*\u001b[39mkwargs)  \u001b[38;5;66;03m# type: ignore[misc]\u001b[39;00m\n\u001b[1;32m   1517\u001b[0m \u001b[38;5;28;01melse\u001b[39;00m:\n\u001b[0;32m-> 1518\u001b[0m     \u001b[38;5;28;01mreturn\u001b[39;00m \u001b[38;5;28mself\u001b[39m\u001b[38;5;241m.\u001b[39m_call_impl(\u001b[38;5;241m*\u001b[39margs, \u001b[38;5;241m*\u001b[39m\u001b[38;5;241m*\u001b[39mkwargs)\n",
      "File \u001b[0;32m~/anaconda3/lib/python3.11/site-packages/torch/nn/modules/module.py:1527\u001b[0m, in \u001b[0;36mModule._call_impl\u001b[0;34m(self, *args, **kwargs)\u001b[0m\n\u001b[1;32m   1522\u001b[0m \u001b[38;5;66;03m# If we don't have any hooks, we want to skip the rest of the logic in\u001b[39;00m\n\u001b[1;32m   1523\u001b[0m \u001b[38;5;66;03m# this function, and just call forward.\u001b[39;00m\n\u001b[1;32m   1524\u001b[0m \u001b[38;5;28;01mif\u001b[39;00m \u001b[38;5;129;01mnot\u001b[39;00m (\u001b[38;5;28mself\u001b[39m\u001b[38;5;241m.\u001b[39m_backward_hooks \u001b[38;5;129;01mor\u001b[39;00m \u001b[38;5;28mself\u001b[39m\u001b[38;5;241m.\u001b[39m_backward_pre_hooks \u001b[38;5;129;01mor\u001b[39;00m \u001b[38;5;28mself\u001b[39m\u001b[38;5;241m.\u001b[39m_forward_hooks \u001b[38;5;129;01mor\u001b[39;00m \u001b[38;5;28mself\u001b[39m\u001b[38;5;241m.\u001b[39m_forward_pre_hooks\n\u001b[1;32m   1525\u001b[0m         \u001b[38;5;129;01mor\u001b[39;00m _global_backward_pre_hooks \u001b[38;5;129;01mor\u001b[39;00m _global_backward_hooks\n\u001b[1;32m   1526\u001b[0m         \u001b[38;5;129;01mor\u001b[39;00m _global_forward_hooks \u001b[38;5;129;01mor\u001b[39;00m _global_forward_pre_hooks):\n\u001b[0;32m-> 1527\u001b[0m     \u001b[38;5;28;01mreturn\u001b[39;00m forward_call(\u001b[38;5;241m*\u001b[39margs, \u001b[38;5;241m*\u001b[39m\u001b[38;5;241m*\u001b[39mkwargs)\n\u001b[1;32m   1529\u001b[0m \u001b[38;5;28;01mtry\u001b[39;00m:\n\u001b[1;32m   1530\u001b[0m     result \u001b[38;5;241m=\u001b[39m \u001b[38;5;28;01mNone\u001b[39;00m\n",
      "File \u001b[0;32m~/anaconda3/lib/python3.11/site-packages/torch/nn/parallel/data_parallel.py:184\u001b[0m, in \u001b[0;36mDataParallel.forward\u001b[0;34m(self, *inputs, **kwargs)\u001b[0m\n\u001b[1;32m    182\u001b[0m \u001b[38;5;28;01mif\u001b[39;00m \u001b[38;5;28mlen\u001b[39m(\u001b[38;5;28mself\u001b[39m\u001b[38;5;241m.\u001b[39mdevice_ids) \u001b[38;5;241m==\u001b[39m \u001b[38;5;241m1\u001b[39m:\n\u001b[1;32m    183\u001b[0m     \u001b[38;5;28;01mreturn\u001b[39;00m \u001b[38;5;28mself\u001b[39m\u001b[38;5;241m.\u001b[39mmodule(\u001b[38;5;241m*\u001b[39minputs[\u001b[38;5;241m0\u001b[39m], \u001b[38;5;241m*\u001b[39m\u001b[38;5;241m*\u001b[39mmodule_kwargs[\u001b[38;5;241m0\u001b[39m])\n\u001b[0;32m--> 184\u001b[0m replicas \u001b[38;5;241m=\u001b[39m \u001b[38;5;28mself\u001b[39m\u001b[38;5;241m.\u001b[39mreplicate(\u001b[38;5;28mself\u001b[39m\u001b[38;5;241m.\u001b[39mmodule, \u001b[38;5;28mself\u001b[39m\u001b[38;5;241m.\u001b[39mdevice_ids[:\u001b[38;5;28mlen\u001b[39m(inputs)])\n\u001b[1;32m    185\u001b[0m outputs \u001b[38;5;241m=\u001b[39m \u001b[38;5;28mself\u001b[39m\u001b[38;5;241m.\u001b[39mparallel_apply(replicas, inputs, module_kwargs)\n\u001b[1;32m    186\u001b[0m \u001b[38;5;28;01mreturn\u001b[39;00m \u001b[38;5;28mself\u001b[39m\u001b[38;5;241m.\u001b[39mgather(outputs, \u001b[38;5;28mself\u001b[39m\u001b[38;5;241m.\u001b[39moutput_device)\n",
      "File \u001b[0;32m~/anaconda3/lib/python3.11/site-packages/torch/nn/parallel/data_parallel.py:189\u001b[0m, in \u001b[0;36mDataParallel.replicate\u001b[0;34m(self, module, device_ids)\u001b[0m\n\u001b[1;32m    188\u001b[0m \u001b[38;5;28;01mdef\u001b[39;00m \u001b[38;5;21mreplicate\u001b[39m(\u001b[38;5;28mself\u001b[39m, module: T, device_ids: Sequence[Union[\u001b[38;5;28mint\u001b[39m, torch\u001b[38;5;241m.\u001b[39mdevice]]) \u001b[38;5;241m-\u001b[39m\u001b[38;5;241m>\u001b[39m List[T]:\n\u001b[0;32m--> 189\u001b[0m     \u001b[38;5;28;01mreturn\u001b[39;00m replicate(module, device_ids, \u001b[38;5;129;01mnot\u001b[39;00m torch\u001b[38;5;241m.\u001b[39mis_grad_enabled())\n",
      "File \u001b[0;32m~/anaconda3/lib/python3.11/site-packages/torch/nn/parallel/replicate.py:110\u001b[0m, in \u001b[0;36mreplicate\u001b[0;34m(network, devices, detach)\u001b[0m\n\u001b[1;32m    108\u001b[0m params \u001b[38;5;241m=\u001b[39m \u001b[38;5;28mlist\u001b[39m(network\u001b[38;5;241m.\u001b[39mparameters())\n\u001b[1;32m    109\u001b[0m param_indices \u001b[38;5;241m=\u001b[39m {param: idx \u001b[38;5;28;01mfor\u001b[39;00m idx, param \u001b[38;5;129;01min\u001b[39;00m \u001b[38;5;28menumerate\u001b[39m(params)}\n\u001b[0;32m--> 110\u001b[0m param_copies \u001b[38;5;241m=\u001b[39m _broadcast_coalesced_reshape(params, devices, detach)\n\u001b[1;32m    112\u001b[0m buffers \u001b[38;5;241m=\u001b[39m \u001b[38;5;28mlist\u001b[39m(network\u001b[38;5;241m.\u001b[39mbuffers())\n\u001b[1;32m    113\u001b[0m buffers_rg: List[torch\u001b[38;5;241m.\u001b[39mTensor] \u001b[38;5;241m=\u001b[39m []\n",
      "File \u001b[0;32m~/anaconda3/lib/python3.11/site-packages/torch/nn/parallel/replicate.py:83\u001b[0m, in \u001b[0;36m_broadcast_coalesced_reshape\u001b[0;34m(tensors, devices, detach)\u001b[0m\n\u001b[1;32m     80\u001b[0m \u001b[38;5;28;01melse\u001b[39;00m:\n\u001b[1;32m     81\u001b[0m     \u001b[38;5;66;03m# Use the autograd function to broadcast if not detach\u001b[39;00m\n\u001b[1;32m     82\u001b[0m     \u001b[38;5;28;01mif\u001b[39;00m \u001b[38;5;28mlen\u001b[39m(tensors) \u001b[38;5;241m>\u001b[39m \u001b[38;5;241m0\u001b[39m:\n\u001b[0;32m---> 83\u001b[0m         tensor_copies \u001b[38;5;241m=\u001b[39m Broadcast\u001b[38;5;241m.\u001b[39mapply(devices, \u001b[38;5;241m*\u001b[39mtensors)\n\u001b[1;32m     84\u001b[0m         \u001b[38;5;28;01mreturn\u001b[39;00m [tensor_copies[i:i \u001b[38;5;241m+\u001b[39m \u001b[38;5;28mlen\u001b[39m(tensors)]\n\u001b[1;32m     85\u001b[0m                 \u001b[38;5;28;01mfor\u001b[39;00m i \u001b[38;5;129;01min\u001b[39;00m \u001b[38;5;28mrange\u001b[39m(\u001b[38;5;241m0\u001b[39m, \u001b[38;5;28mlen\u001b[39m(tensor_copies), \u001b[38;5;28mlen\u001b[39m(tensors))]\n\u001b[1;32m     86\u001b[0m     \u001b[38;5;28;01melse\u001b[39;00m:\n",
      "File \u001b[0;32m~/anaconda3/lib/python3.11/site-packages/torch/autograd/function.py:539\u001b[0m, in \u001b[0;36mFunction.apply\u001b[0;34m(cls, *args, **kwargs)\u001b[0m\n\u001b[1;32m    536\u001b[0m \u001b[38;5;28;01mif\u001b[39;00m \u001b[38;5;129;01mnot\u001b[39;00m torch\u001b[38;5;241m.\u001b[39m_C\u001b[38;5;241m.\u001b[39m_are_functorch_transforms_active():\n\u001b[1;32m    537\u001b[0m     \u001b[38;5;66;03m# See NOTE: [functorch vjp and autograd interaction]\u001b[39;00m\n\u001b[1;32m    538\u001b[0m     args \u001b[38;5;241m=\u001b[39m _functorch\u001b[38;5;241m.\u001b[39mutils\u001b[38;5;241m.\u001b[39munwrap_dead_wrappers(args)\n\u001b[0;32m--> 539\u001b[0m     \u001b[38;5;28;01mreturn\u001b[39;00m \u001b[38;5;28msuper\u001b[39m()\u001b[38;5;241m.\u001b[39mapply(\u001b[38;5;241m*\u001b[39margs, \u001b[38;5;241m*\u001b[39m\u001b[38;5;241m*\u001b[39mkwargs)  \u001b[38;5;66;03m# type: ignore[misc]\u001b[39;00m\n\u001b[1;32m    541\u001b[0m \u001b[38;5;28;01mif\u001b[39;00m \u001b[38;5;28mcls\u001b[39m\u001b[38;5;241m.\u001b[39msetup_context \u001b[38;5;241m==\u001b[39m _SingleLevelFunction\u001b[38;5;241m.\u001b[39msetup_context:\n\u001b[1;32m    542\u001b[0m     \u001b[38;5;28;01mraise\u001b[39;00m \u001b[38;5;167;01mRuntimeError\u001b[39;00m(\n\u001b[1;32m    543\u001b[0m         \u001b[38;5;124m\"\u001b[39m\u001b[38;5;124mIn order to use an autograd.Function with functorch transforms \u001b[39m\u001b[38;5;124m\"\u001b[39m\n\u001b[1;32m    544\u001b[0m         \u001b[38;5;124m\"\u001b[39m\u001b[38;5;124m(vmap, grad, jvp, jacrev, ...), it must override the setup_context \u001b[39m\u001b[38;5;124m\"\u001b[39m\n\u001b[1;32m    545\u001b[0m         \u001b[38;5;124m\"\u001b[39m\u001b[38;5;124mstaticmethod. For more details, please see \u001b[39m\u001b[38;5;124m\"\u001b[39m\n\u001b[1;32m    546\u001b[0m         \u001b[38;5;124m\"\u001b[39m\u001b[38;5;124mhttps://pytorch.org/docs/master/notes/extending.func.html\u001b[39m\u001b[38;5;124m\"\u001b[39m\n\u001b[1;32m    547\u001b[0m     )\n",
      "File \u001b[0;32m~/anaconda3/lib/python3.11/site-packages/torch/nn/parallel/_functions.py:23\u001b[0m, in \u001b[0;36mBroadcast.forward\u001b[0;34m(ctx, target_gpus, *inputs)\u001b[0m\n\u001b[1;32m     21\u001b[0m ctx\u001b[38;5;241m.\u001b[39mnum_inputs \u001b[38;5;241m=\u001b[39m \u001b[38;5;28mlen\u001b[39m(inputs)\n\u001b[1;32m     22\u001b[0m ctx\u001b[38;5;241m.\u001b[39minput_device \u001b[38;5;241m=\u001b[39m inputs[\u001b[38;5;241m0\u001b[39m]\u001b[38;5;241m.\u001b[39mget_device()\n\u001b[0;32m---> 23\u001b[0m outputs \u001b[38;5;241m=\u001b[39m comm\u001b[38;5;241m.\u001b[39mbroadcast_coalesced(inputs, ctx\u001b[38;5;241m.\u001b[39mtarget_gpus)\n\u001b[1;32m     24\u001b[0m non_differentiables \u001b[38;5;241m=\u001b[39m []\n\u001b[1;32m     25\u001b[0m \u001b[38;5;28;01mfor\u001b[39;00m idx, input_requires_grad \u001b[38;5;129;01min\u001b[39;00m \u001b[38;5;28menumerate\u001b[39m(ctx\u001b[38;5;241m.\u001b[39mneeds_input_grad[\u001b[38;5;241m1\u001b[39m:]):\n",
      "File \u001b[0;32m~/anaconda3/lib/python3.11/site-packages/torch/nn/parallel/comm.py:57\u001b[0m, in \u001b[0;36mbroadcast_coalesced\u001b[0;34m(tensors, devices, buffer_size)\u001b[0m\n\u001b[1;32m     55\u001b[0m devices \u001b[38;5;241m=\u001b[39m [_get_device_index(d) \u001b[38;5;28;01mfor\u001b[39;00m d \u001b[38;5;129;01min\u001b[39;00m devices]\n\u001b[1;32m     56\u001b[0m tensors \u001b[38;5;241m=\u001b[39m [_handle_complex(t) \u001b[38;5;28;01mfor\u001b[39;00m t \u001b[38;5;129;01min\u001b[39;00m tensors]\n\u001b[0;32m---> 57\u001b[0m \u001b[38;5;28;01mreturn\u001b[39;00m torch\u001b[38;5;241m.\u001b[39m_C\u001b[38;5;241m.\u001b[39m_broadcast_coalesced(tensors, devices, buffer_size)\n",
      "\u001b[0;31mRuntimeError\u001b[0m: NCCL Error 2: unhandled system error (run with NCCL_DEBUG=INFO for details)"
     ]
    }
   ],
   "source": [
    "import warnings\n",
    "warnings.filterwarnings('ignore')\n",
    "\n",
    "if fine_tune:\n",
    "    trainer.train()"
   ]
  },
  {
   "cell_type": "code",
   "execution_count": null,
   "metadata": {},
   "outputs": [
    {
     "name": "stderr",
     "output_type": "stream",
     "text": [
      "/home/kkatsy/anaconda3/lib/python3.11/site-packages/torch/nn/parallel/_functions.py:68: UserWarning: Was asked to gather along dimension 0, but all input tensors were scalars; will instead unsqueeze and return a vector.\n",
      "  warnings.warn('Was asked to gather along dimension 0, but all '\n"
     ]
    },
    {
     "data": {
      "text/html": [],
      "text/plain": [
       "<IPython.core.display.HTML object>"
      ]
     },
     "metadata": {},
     "output_type": "display_data"
    }
   ],
   "source": [
    "if fine_tune:\n",
    "    trainer.evaluate()"
   ]
  },
  {
   "cell_type": "code",
   "execution_count": null,
   "metadata": {},
   "outputs": [
    {
     "name": "stderr",
     "output_type": "stream",
     "text": [
      "wandb: WARNING Source type is set to 'repo' but some required information is missing from the environment. A job will not be created from this run. See https://docs.wandb.ai/guides/launch/create-job\n"
     ]
    },
    {
     "data": {
      "application/vnd.jupyter.widget-view+json": {
       "model_id": "8ce9fde6be4e4647b4648b5bc9d875aa",
       "version_major": 2,
       "version_minor": 0
      },
      "text/plain": [
       "VBox(children=(Label(value='0.003 MB of 0.003 MB uploaded\\r'), FloatProgress(value=1.0, max=1.0)))"
      ]
     },
     "metadata": {},
     "output_type": "display_data"
    },
    {
     "data": {
      "text/html": [
       "<style>\n",
       "    table.wandb td:nth-child(1) { padding: 0 10px; text-align: left ; width: auto;} td:nth-child(2) {text-align: left ; width: 100%}\n",
       "    .wandb-row { display: flex; flex-direction: row; flex-wrap: wrap; justify-content: flex-start; width: 100% }\n",
       "    .wandb-col { display: flex; flex-direction: column; flex-basis: 100%; flex: 1; padding: 10px; }\n",
       "    </style>\n",
       "<div class=\"wandb-row\"><div class=\"wandb-col\"><h3>Run history:</h3><br/><table class=\"wandb\"><tr><td>eval/accuracy</td><td>▁▁</td></tr><tr><td>eval/loss</td><td>▁▁</td></tr><tr><td>eval/runtime</td><td>▁█</td></tr><tr><td>eval/samples_per_second</td><td>█▁</td></tr><tr><td>eval/steps_per_second</td><td>█▁</td></tr><tr><td>train/epoch</td><td>▁▁▁▁</td></tr><tr><td>train/global_step</td><td>▁▁▁▁</td></tr><tr><td>train/learning_rate</td><td>▁</td></tr><tr><td>train/loss</td><td>▁</td></tr><tr><td>train/total_flos</td><td>▁</td></tr><tr><td>train/train_loss</td><td>▁</td></tr><tr><td>train/train_runtime</td><td>▁</td></tr><tr><td>train/train_samples_per_second</td><td>▁</td></tr><tr><td>train/train_steps_per_second</td><td>▁</td></tr></table><br/></div><div class=\"wandb-col\"><h3>Run summary:</h3><br/><table class=\"wandb\"><tr><td>eval/accuracy</td><td>0.63863</td></tr><tr><td>eval/loss</td><td>0.89935</td></tr><tr><td>eval/runtime</td><td>11.7205</td></tr><tr><td>eval/samples_per_second</td><td>92.317</td></tr><tr><td>eval/steps_per_second</td><td>3.925</td></tr><tr><td>train/epoch</td><td>1.0</td></tr><tr><td>train/global_step</td><td>739</td></tr><tr><td>train/learning_rate</td><td>0.0</td></tr><tr><td>train/loss</td><td>0.792</td></tr><tr><td>train/total_flos</td><td>4666400256599040.0</td></tr><tr><td>train/train_loss</td><td>0.79197</td></tr><tr><td>train/train_runtime</td><td>469.9671</td></tr><tr><td>train/train_samples_per_second</td><td>37.737</td></tr><tr><td>train/train_steps_per_second</td><td>1.572</td></tr></table><br/></div></div>"
      ],
      "text/plain": [
       "<IPython.core.display.HTML object>"
      ]
     },
     "metadata": {},
     "output_type": "display_data"
    },
    {
     "data": {
      "text/html": [
       " View run <strong style=\"color:#cdcd00\">crimson-dragon-21</strong> at: <a href='https://wandb.ai/kkatsy/translator-classification-aligned/runs/6c07jsut' target=\"_blank\">https://wandb.ai/kkatsy/translator-classification-aligned/runs/6c07jsut</a><br/>Synced 6 W&B file(s), 0 media file(s), 0 artifact file(s) and 0 other file(s)"
      ],
      "text/plain": [
       "<IPython.core.display.HTML object>"
      ]
     },
     "metadata": {},
     "output_type": "display_data"
    },
    {
     "data": {
      "text/html": [
       "Find logs at: <code>./wandb/run-20240222_205353-6c07jsut/logs</code>"
      ],
      "text/plain": [
       "<IPython.core.display.HTML object>"
      ]
     },
     "metadata": {},
     "output_type": "display_data"
    }
   ],
   "source": [
    "wandb.finish()"
   ]
  },
  {
   "cell_type": "markdown",
   "metadata": {},
   "source": [
    "## Load Model"
   ]
  },
  {
   "cell_type": "code",
   "execution_count": null,
   "metadata": {},
   "outputs": [],
   "source": [
    "# import gc\n",
    "# del model\n",
    "# gc.collect()\n",
    "\n",
    "# torch.cuda.empty_cache()"
   ]
  },
  {
   "cell_type": "code",
   "execution_count": null,
   "metadata": {},
   "outputs": [],
   "source": [
    "load_tuned = False"
   ]
  },
  {
   "cell_type": "code",
   "execution_count": null,
   "metadata": {},
   "outputs": [],
   "source": []
  },
  {
   "cell_type": "code",
   "execution_count": null,
   "metadata": {},
   "outputs": [],
   "source": [
    "if load_tuned:\n",
    "    model = AutoModelForSequenceClassification.from_pretrained(\"/trunk/kkatsy/aligned_20epochs_holdout\")\n",
    "    model.to(device)"
   ]
  },
  {
   "cell_type": "code",
   "execution_count": null,
   "metadata": {},
   "outputs": [],
   "source": [
    "if load_tuned:\n",
    "\n",
    "    trainer = Trainer(\n",
    "        model=model,\n",
    "        train_dataset=tokenized_train,\n",
    "        eval_dataset=tokenized_test,\n",
    "        tokenizer=tokenizer,\n",
    "        data_collator=data_collator,\n",
    "        compute_metrics=compute_metrics\n",
    "    )"
   ]
  },
  {
   "cell_type": "markdown",
   "metadata": {},
   "source": [
    "## Evaluate"
   ]
  },
  {
   "cell_type": "code",
   "execution_count": null,
   "metadata": {},
   "outputs": [],
   "source": [
    "if load_tuned:\n",
    "    trainer.evaluate()"
   ]
  },
  {
   "cell_type": "code",
   "execution_count": null,
   "metadata": {},
   "outputs": [
    {
     "name": "stderr",
     "output_type": "stream",
     "text": [
      "/home/kkatsy/anaconda3/lib/python3.11/site-packages/torch/nn/parallel/_functions.py:68: UserWarning: Was asked to gather along dimension 0, but all input tensors were scalars; will instead unsqueeze and return a vector.\n",
      "  warnings.warn('Was asked to gather along dimension 0, but all '\n"
     ]
    },
    {
     "data": {
      "text/html": [],
      "text/plain": [
       "<IPython.core.display.HTML object>"
      ]
     },
     "metadata": {},
     "output_type": "display_data"
    }
   ],
   "source": [
    "predictions, labels, metrics = trainer.predict(tokenized_test, metric_key_prefix=\"predict\")"
   ]
  },
  {
   "cell_type": "code",
   "execution_count": null,
   "metadata": {},
   "outputs": [],
   "source": [
    "preds = np.argmax(predictions, axis=-1)"
   ]
  },
  {
   "cell_type": "code",
   "execution_count": null,
   "metadata": {},
   "outputs": [
    {
     "data": {
      "text/plain": [
       "{'PV': 288, 'Garnett': 205, 'Katz': 229, 'McDuff': 194, 'Hogarth': 166}"
      ]
     },
     "execution_count": 232,
     "metadata": {},
     "output_type": "execute_result"
    }
   ],
   "source": [
    "translators = [id2label[l] for l in preds]\n",
    "\n",
    "pred_count = {}\n",
    "for i in label2id.keys():\n",
    "    count = translators.count(i)\n",
    "    pred_count[i] = count\n",
    "\n",
    "pred_count"
   ]
  },
  {
   "cell_type": "code",
   "execution_count": null,
   "metadata": {},
   "outputs": [
    {
     "data": {
      "image/png": "[encoded data removed]",
      "text/plain": [
       "<Figure size 1000x500 with 1 Axes>"
      ]
     },
     "metadata": {},
     "output_type": "display_data"
    }
   ],
   "source": [
    "import matplotlib.pyplot as plt\n",
    "\n",
    "\n",
    "courses = list(pred_count.keys())\n",
    "values = list(pred_count.values())\n",
    "  \n",
    "fig = plt.figure(figsize = (10, 5))\n",
    " \n",
    "# creating the bar plot\n",
    "plt.bar(courses, values, width = 0.4)\n",
    "plt.title(\"Predicted Distribution\")\n",
    "plt.show()"
   ]
  },
  {
   "cell_type": "code",
   "execution_count": null,
   "metadata": {},
   "outputs": [
    {
     "data": {
      "text/plain": [
       "{'PV': 217, 'Garnett': 217, 'Katz': 216, 'McDuff': 216, 'Hogarth': 216}"
      ]
     },
     "execution_count": 234,
     "metadata": {},
     "output_type": "execute_result"
    }
   ],
   "source": [
    "true_count = {}\n",
    "for i in id2label.keys():\n",
    "    count = test_labels.count(i)\n",
    "    true_count[id2label[i]] = count\n",
    "\n",
    "true_count"
   ]
  },
  {
   "cell_type": "code",
   "execution_count": null,
   "metadata": {},
   "outputs": [
    {
     "data": {
      "image/png": "[encoded data removed]",
      "text/plain": [
       "<Figure size 1000x500 with 1 Axes>"
      ]
     },
     "metadata": {},
     "output_type": "display_data"
    }
   ],
   "source": [
    "courses = list(true_count.keys())\n",
    "values = list(true_count.values())\n",
    "  \n",
    "fig2 = plt.figure(figsize = (10, 5))\n",
    " \n",
    "# creating the bar plot\n",
    "plt.bar(courses, values, width = 0.4)\n",
    "plt.title(\"Actual Distribution\")\n",
    "plt.show()"
   ]
  },
  {
   "cell_type": "code",
   "execution_count": null,
   "metadata": {},
   "outputs": [
    {
     "name": "stdout",
     "output_type": "stream",
     "text": [
      "Accuracy:  0.6386321626617375\n"
     ]
    },
    {
     "data": {
      "image/png": "[encoded data removed]",
      "text/plain": [
       "<Figure size 640x480 with 2 Axes>"
      ]
     },
     "metadata": {},
     "output_type": "display_data"
    }
   ],
   "source": [
    "import matplotlib.pyplot as plt\n",
    "import numpy\n",
    "from sklearn import metrics\n",
    "\n",
    "acc = metrics.accuracy_score(labels, preds)\n",
    "print('Accuracy: ', acc)\n",
    "\n",
    "confusion_matrix = metrics.confusion_matrix(labels, preds, normalize='pred')\n",
    "cm_display = metrics.ConfusionMatrixDisplay(confusion_matrix = confusion_matrix, display_labels=label2id)\n",
    "cm_display.plot()\n",
    "plt.show()"
   ]
  },
  {
   "cell_type": "code",
   "execution_count": null,
   "metadata": {},
   "outputs": [],
   "source": [
    "# idiom lookup: search russian and english datasets for idioms\n",
    "# english idiom dataset"
   ]
  }
 ],
 "metadata": {
  "kernelspec": {
   "display_name": "base",
   "language": "python",
   "name": "python3"
  },
  "language_info": {
   "codemirror_mode": {
    "name": "ipython",
    "version": 3
   },
   "file_extension": ".py",
   "mimetype": "text/x-python",
   "name": "python",
   "nbconvert_exporter": "python",
   "pygments_lexer": "ipython3",
   "version": "3.11.7"
  }
 },
 "nbformat": 4,
 "nbformat_minor": 2
}
